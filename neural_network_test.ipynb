{
 "cells": [
  {
   "cell_type": "code",
   "execution_count": 1,
   "id": "initial_id",
   "metadata": {
    "collapsed": true,
    "ExecuteTime": {
     "end_time": "2024-05-30T07:02:03.009389Z",
     "start_time": "2024-05-30T07:01:56.483628Z"
    }
   },
   "outputs": [],
   "source": [
    "import os\n",
    "\n",
    "import keras\n",
    "import pandas as pd\n",
    "import numpy as np\n",
    "from sklearn.preprocessing import OneHotEncoder"
   ]
  },
  {
   "cell_type": "code",
   "outputs": [],
   "source": [
    "def find_feature_extraction_files(directory):\n",
    "    \"\"\"\n",
    "    Searches for 'feature_extraction.csv' files within each subdirectory of a given directory.\n",
    "    \n",
    "    Args:\n",
    "    directory (str): The path to the directory to search within.\n",
    "    \n",
    "    Returns:\n",
    "    list: A list of full paths to each 'feature_extraction.csv' file found.\n",
    "    \"\"\"\n",
    "    csv_files = []\n",
    "    # Walk through each subdirectory in the provided directory\n",
    "    for root, dirs, files in os.walk(directory):\n",
    "        # Check if 'feature_extraction.csv' is in the files list\n",
    "        if 'feature_extraction.csv' in files:\n",
    "            # Construct full path and add to the list\n",
    "            full_path = os.path.join(root, 'feature_extraction.csv')\n",
    "            csv_files.append(full_path)\n",
    "            \n",
    "    return csv_files\n"
   ],
   "metadata": {
    "collapsed": false,
    "ExecuteTime": {
     "end_time": "2024-05-30T07:02:04.053276Z",
     "start_time": "2024-05-30T07:02:04.048736Z"
    }
   },
   "id": "28e9436a6188da87",
   "execution_count": 3
  },
  {
   "cell_type": "code",
   "outputs": [],
   "source": [
    "def read_csv(data_file_path):\n",
    "    \n",
    "    df_read_file = pd.read_csv(data_file_path)\n",
    "    df_Acc = df_read_file.loc[:, :\"Label\"]\n",
    "    X_data = df_Acc.to_numpy()\n",
    "    \n",
    "    y_data = df_read_file.loc[:,\"Label\"]\n",
    "    y_data = np.around(y_data, decimals=0)\n",
    "\n",
    "    return X_data, y_data\n",
    "\n",
    "def normalize_positions(data):\n",
    "    posX_columns = [0] + list(range(4, 22))   # Adjusted for 0-based indexing: Columns 0 and 4 to 21 for PosX normalization\n",
    "    posY_columns = [1] + list(range(22, 39))  # Adjusted for 0-based indexing: Columns 1 and 22 to 38 for PosY normalization\n",
    "    \n",
    "    # Normalize PosX columns\n",
    "    data[:, posX_columns] = data[:, posX_columns] / 1920\n",
    "    # Normalize PosY columns\n",
    "    data[:, posY_columns] = data[:, posY_columns] / 1080\n",
    "            \n",
    "    return data\n",
    "\n",
    "def handle_indices(data, indexes_of_labels, label_value=0, label_col=0):\n",
    "    # Ensure data is a single column NumPy array\n",
    "    data = data[:, label_col] if data.ndim > 1 else data\n",
    "    \n",
    "\n",
    "    found_indexes = set(indexes_of_labels)  # Using a set to avoid duplicates\n",
    "\n",
    "    if indexes_of_labels:\n",
    "        # Handling '0' label exactly 3 lines before the first label\n",
    "        first_label_index = indexes_of_labels[0]\n",
    "        target_index_before_first = first_label_index - 3\n",
    "        if 0 <= target_index_before_first < len(data) and data[target_index_before_first] == label_value:\n",
    "            found_indexes.add(target_index_before_first)\n",
    "\n",
    "        # Handling '0' label exactly 3 lines after the last label\n",
    "        last_label_index = indexes_of_labels[-1]\n",
    "        target_index_after_last = last_label_index + 3\n",
    "        if 0 <= target_index_after_last < len(data) and data[target_index_after_last] == label_value:\n",
    "            found_indexes.add(target_index_after_last)\n",
    "\n",
    "        # Handling the '0' label in the middle between given label indices\n",
    "        for i in range(len(indexes_of_labels) - 1):\n",
    "            start_index = indexes_of_labels[i]\n",
    "            end_index = indexes_of_labels[i + 1]\n",
    "            middle_index = (start_index + end_index) // 2\n",
    "            if data[middle_index] == label_value:\n",
    "                found_indexes.add(middle_index)\n",
    "\n",
    "    # Convert set to a sorted list\n",
    "    sorted_indexes = sorted(found_indexes)\n",
    "    \n",
    "    return sorted_indexes\n",
    "\n",
    "\n",
    "def lstm_data_transform(x_data, y_data, keys, num_steps=6):\n",
    "    X, y = list(), list()\n",
    "    \n",
    "    # Loop over the provided end indexes\n",
    "    for end_ix in keys:\n",
    "        # Calculate the start index for the current window\n",
    "        start_ix = end_ix - num_steps + 1\n",
    "        \n",
    "        # Ensure the start index is not negative\n",
    "        if start_ix < 0:\n",
    "            continue\n",
    "        \n",
    "        # Get a sequence of data for x\n",
    "        seq_X = x_data[start_ix:end_ix + 1, :-1]\n",
    "        \n",
    "        # Check if the sequence has the correct number of steps\n",
    "        if seq_X.shape[0] == num_steps:\n",
    "\n",
    "            # Append the sequence and target to the lists\n",
    "            X.append(seq_X)\n",
    "    \n",
    "    # Convert the lists to numpy arrays\n",
    "    x_array = np.array(X)\n",
    "    y_array = np.array([0, 1, 0, 2, 0, 3, 0, 4, 0, 5, 0])\n",
    "    \n",
    "    return x_array, y_array"
   ],
   "metadata": {
    "collapsed": false,
    "ExecuteTime": {
     "end_time": "2024-05-30T07:02:04.686275Z",
     "start_time": "2024-05-30T07:02:04.677452Z"
    }
   },
   "id": "da493681d88ab4cd",
   "execution_count": 4
  },
  {
   "cell_type": "code",
   "outputs": [],
   "source": [
    "def extract_relevant_rows(csv_path):\n",
    "    x_array, y_array = read_csv(csv_path)\n",
    "    \n",
    "    # Normalize the position columns\n",
    "    x_array = normalize_positions(x_array)\n",
    "\n",
    "    # Define the values to check\n",
    "    values_to_check = {1, 2, 3, 4, 5}\n",
    "\n",
    "    # Find the indexes of values in y_array that are in values_to_check\n",
    "    indexes_of_labels = [index for index, value in enumerate(y_array) if value in values_to_check]\n",
    "\n",
    "    sorted_indices = handle_indices(y_array, indexes_of_labels)\n",
    "    \n",
    "    # print('Sorted indices: ', sorted_indices)\n",
    "    \n",
    "    if len(sorted_indices) <= 10:\n",
    "        \n",
    "        print(csv_path)\n",
    "\n",
    "    x_data, y_data = lstm_data_transform(x_array, y_array, sorted_indices, num_steps=6)\n",
    "\n",
    "    return x_data, y_data\n"
   ],
   "metadata": {
    "collapsed": false,
    "ExecuteTime": {
     "end_time": "2024-05-30T07:02:05.329130Z",
     "start_time": "2024-05-30T07:02:05.324699Z"
    }
   },
   "id": "578cb930756e4b7b",
   "execution_count": 5
  },
  {
   "cell_type": "code",
   "outputs": [
    {
     "name": "stdout",
     "output_type": "stream",
     "text": [
      "347\n"
     ]
    }
   ],
   "source": [
    "# Example of how to call this function for one CSV file\n",
    "file_paths = find_feature_extraction_files('Frames')\n",
    "\n",
    "print(len(file_paths))\n"
   ],
   "metadata": {
    "collapsed": false,
    "ExecuteTime": {
     "end_time": "2024-05-30T07:02:05.994312Z",
     "start_time": "2024-05-30T07:02:05.914339Z"
    }
   },
   "id": "62f0c3905190c28f",
   "execution_count": 6
  },
  {
   "cell_type": "code",
   "outputs": [
    {
     "name": "stdout",
     "output_type": "stream",
     "text": [
      "(3817, 6, 55)\n",
      "(3817,)\n"
     ]
    }
   ],
   "source": [
    "num_of_steps = 6\n",
    "num_of_input_signals = 55\n",
    "\n",
    "X_data = np.empty([0, num_of_steps, num_of_input_signals], dtype=\"float32\")\n",
    "y_data = np.empty([0], dtype=\"float32\")\n",
    "\n",
    "for file_path in file_paths:\n",
    "    \n",
    "    data, labels = extract_relevant_rows(file_path)\n",
    "    \n",
    "    # print(labels.shape)\n",
    "    \n",
    "    X_data = np.append(X_data, data[:], axis=0)\n",
    "    \n",
    "    # print(labels.shape)\n",
    "    y_data = np.append(y_data, labels, axis=0)\n",
    "    \n",
    "print(X_data.shape)   # This should show (x, 6, 55) if  everything is correctly configured\n",
    "print(y_data.shape)  \n"
   ],
   "metadata": {
    "collapsed": false,
    "ExecuteTime": {
     "end_time": "2024-05-30T07:02:08.342168Z",
     "start_time": "2024-05-30T07:02:06.413630Z"
    }
   },
   "id": "fb4673351a70bbe6",
   "execution_count": 7
  },
  {
   "cell_type": "code",
   "outputs": [],
   "source": [
    "def one_hot_encode_labels(y_data):\n",
    "    encoder = OneHotEncoder(sparse_output=False)\n",
    "    y_data_encoded = encoder.fit_transform(y_data)\n",
    "\n",
    "    return y_data_encoded"
   ],
   "metadata": {
    "collapsed": false,
    "ExecuteTime": {
     "end_time": "2024-05-30T07:02:08.346441Z",
     "start_time": "2024-05-30T07:02:08.343173Z"
    }
   },
   "id": "c8e58440bc43804c",
   "execution_count": 8
  },
  {
   "cell_type": "code",
   "outputs": [
    {
     "name": "stdout",
     "output_type": "stream",
     "text": [
      "[[1. 0. 0. 0. 0. 0.]\n",
      " [0. 1. 0. 0. 0. 0.]\n",
      " [1. 0. 0. 0. 0. 0.]\n",
      " ...\n",
      " [1. 0. 0. 0. 0. 0.]\n",
      " [0. 0. 0. 0. 0. 1.]\n",
      " [1. 0. 0. 0. 0. 0.]]\n",
      "y_data shape: (3817, 6)\n"
     ]
    }
   ],
   "source": [
    "# # # One-hot encode the labels\n",
    "# final_labels_encoded = one_hot_encode_labels(y_data.reshape(-1,1))\n",
    "\n",
    "final_labels_encoded = keras.utils.to_categorical(y_data, num_classes=6)\n",
    "\n",
    "print(final_labels_encoded)\n",
    "\n",
    "# print('x_data shape:', final_data.shape)\n",
    "print('y_data shape:', final_labels_encoded.shape)\n"
   ],
   "metadata": {
    "collapsed": false,
    "ExecuteTime": {
     "end_time": "2024-05-30T07:02:08.351903Z",
     "start_time": "2024-05-30T07:02:08.347449Z"
    }
   },
   "id": "bf8044007422d6cc",
   "execution_count": 9
  },
  {
   "cell_type": "code",
   "outputs": [
    {
     "name": "stdout",
     "output_type": "stream",
     "text": [
      "Train data shape: (3091, 6, 55)\n",
      "Train labels shape: (3091, 1, 6)\n",
      "------------------------------------\n",
      "\n",
      "Test data shape: (382, 6, 55)\n",
      "Test labels shape: (382, 1, 6)\n",
      "------------------------------------\n",
      "\n",
      "Validation data shape: (344, 6, 55)\n",
      "Validation labels shape: (344, 1, 6)\n"
     ]
    }
   ],
   "source": [
    "# splits = custom_k_fold_split(x_data_flat, y_data_flat, n_splits=5, window_size=num_of_steps)\n",
    "\n",
    "from sklearn.model_selection import StratifiedShuffleSplit\n",
    "\n",
    "sss = StratifiedShuffleSplit(n_splits=1, test_size=0.10, random_state=42)\n",
    "    \n",
    "for train_index, test_index in sss.split(X_data, y_data): \n",
    "    X_train_pre, X_test = X_data[train_index], X_data[test_index] \n",
    "    y_train_pre, y_test = final_labels_encoded[train_index], final_labels_encoded[test_index] \n",
    "    \n",
    "for train_index, val_index in sss.split(X_train_pre, y_train_pre):\n",
    "    X_train, X_val = X_train_pre[train_index], X_train_pre[val_index] \n",
    "    y_train, y_val = y_train_pre[train_index], y_train_pre[val_index] \n",
    "\n",
    "y_test.resize(y_test.shape[0],1,y_test.shape[1])\n",
    "y_train.resize(y_train.shape[0],1, y_train.shape[1])\n",
    "y_val.resize(y_val.shape[0],1, y_val.shape[1])\n",
    "    \n",
    "print(\"Train data shape:\", X_train.shape)\n",
    "print(\"Train labels shape:\", y_train.shape)\n",
    "print(\"------------------------------------\\n\")\n",
    "print(\"Test data shape:\", X_test.shape)\n",
    "print(\"Test labels shape:\", y_test.shape)\n",
    "print(\"------------------------------------\\n\")\n",
    "print(\"Validation data shape:\", X_val.shape)\n",
    "print(\"Validation labels shape:\", y_val.shape)\n"
   ],
   "metadata": {
    "collapsed": false,
    "ExecuteTime": {
     "end_time": "2024-05-30T07:02:11.792465Z",
     "start_time": "2024-05-30T07:02:11.663234Z"
    }
   },
   "id": "fd4990ecf7cc8cf8",
   "execution_count": 10
  },
  {
   "cell_type": "code",
   "outputs": [],
   "source": [
    "from tensorflow.keras.optimizers import Adam\n",
    "\n",
    "########################################################\n",
    "from tensorflow.keras.layers import Conv1D, MaxPooling1D, Flatten, LSTM, Dense, InputLayer, Reshape, TimeDistributed, Dropout\n",
    "\n",
    "# Define the CNN-LSTM model\n",
    "model = keras.Sequential()\n",
    "model.add(InputLayer(shape=(6, 55)))\n",
    "model.add(Dense(128, activation='relu'))\n",
    "model.add(Dense(64, activation='relu'))\n",
    "\n",
    "# Ensure the kernel size is smaller than the sequence length\n",
    "model.add(Conv1D(64, 5, activation='relu'))\n",
    "model.add(MaxPooling1D(pool_size=1))  # Reduce the sequence length by a factor of 2\n",
    "model.add(Conv1D(32, 2, activation='relu'))\n",
    "# Since MaxPooling1D and Conv1D layers have reduced the sequence length, we need to adjust for the LSTM layer\n",
    "model.add(LSTM(24, activation='tanh', return_sequences=True))\n",
    "\n",
    "model.add(Dense(128, activation='relu'))\n",
    "model.add(Dense(64, activation='relu'))\n",
    "model.add(Dense(6, activation='softmax'))"
   ],
   "metadata": {
    "collapsed": false,
    "ExecuteTime": {
     "end_time": "2024-05-30T07:02:33.863751Z",
     "start_time": "2024-05-30T07:02:33.796833Z"
    }
   },
   "id": "60465be6f3b2ac2a",
   "execution_count": 12
  },
  {
   "cell_type": "code",
   "outputs": [],
   "source": [
    "# model = keras.Sequential()\n",
    "# model.add(InputLayer(shape=(6, 55)))\n",
    "# model.add(TimeDistributed(Dense(55, activation='relu')))\n",
    "# model.add(TimeDistributed(Reshape((55, 1))))\n",
    "# model.add(TimeDistributed(Conv1D(16, 3, activation='relu')))\n",
    "# model.add(TimeDistributed(MaxPooling1D(1)))\n",
    "# model.add(TimeDistributed(Conv1D(32, 3, activation='relu')))\n",
    "# model.add(TimeDistributed(MaxPooling1D(1)))\n",
    "# model.add(TimeDistributed(Flatten()))\n",
    "# model.add(LSTM(25, activation='tanh', return_sequences=True))\n",
    "# model.add(Dropout(0.5))\n",
    "# model.add(LSTM(25, activation='tanh'))\n",
    "# model.add(Dense(32, activation='relu'))\n",
    "# model.add(Dense(16, activation='relu'))\n",
    "# model.add(Dense(6, activation='softmax'))\n",
    "\n"
   ],
   "metadata": {
    "collapsed": false,
    "ExecuteTime": {
     "end_time": "2024-05-30T07:02:34.704353Z",
     "start_time": "2024-05-30T07:02:34.700972Z"
    }
   },
   "id": "3fc14ecf4ebd9b9d",
   "execution_count": 13
  },
  {
   "cell_type": "code",
   "outputs": [],
   "source": [
    "# from sklearn.utils.class_weight import compute_class_weight\n",
    "# \n",
    "# print(y_train.shape)\n",
    "# \n",
    "# if y_train.shape[1] == 1:\n",
    "#     y_squeezed = np.squeeze(y_train, axis=1)\n",
    "#     y_weighted = np.argmax(y_squeezed, axis=1)\n",
    "# else:\n",
    "#     y_weighted = np.argmax(y_train, axis=1)\n",
    "# \n",
    "# class_weights = compute_class_weight('balanced', classes=np.unique(y_weighted), y=y_weighted)\n",
    "# \n",
    "# class_weight_dict = dict(enumerate(class_weights))\n",
    "# \n",
    "# print(class_weight_dict)"
   ],
   "metadata": {
    "collapsed": false,
    "ExecuteTime": {
     "end_time": "2024-05-30T07:02:35.503542Z",
     "start_time": "2024-05-30T07:02:35.500259Z"
    }
   },
   "id": "af92cda95fa5d38d",
   "execution_count": 14
  },
  {
   "cell_type": "code",
   "outputs": [],
   "source": [
    "# Compile the model\n",
    "model.compile(optimizer=Adam(learning_rate=0.001), loss='categorical_crossentropy', metrics=['accuracy'])"
   ],
   "metadata": {
    "collapsed": false,
    "ExecuteTime": {
     "end_time": "2024-05-30T07:02:36.106725Z",
     "start_time": "2024-05-30T07:02:36.094570Z"
    }
   },
   "id": "98b4440b35fecb69",
   "execution_count": 15
  },
  {
   "cell_type": "code",
   "outputs": [
    {
     "data": {
      "text/plain": "\u001B[1mModel: \"sequential_1\"\u001B[0m\n",
      "text/html": "<pre style=\"white-space:pre;overflow-x:auto;line-height:normal;font-family:Menlo,'DejaVu Sans Mono',consolas,'Courier New',monospace\"><span style=\"font-weight: bold\">Model: \"sequential_1\"</span>\n</pre>\n"
     },
     "metadata": {},
     "output_type": "display_data"
    },
    {
     "data": {
      "text/plain": "┏━━━━━━━━━━━━━━━━━━━━━━━━━━━━━━━━━┳━━━━━━━━━━━━━━━━━━━━━━━━┳━━━━━━━━━━━━━━━┓\n┃\u001B[1m \u001B[0m\u001B[1mLayer (type)                   \u001B[0m\u001B[1m \u001B[0m┃\u001B[1m \u001B[0m\u001B[1mOutput Shape          \u001B[0m\u001B[1m \u001B[0m┃\u001B[1m \u001B[0m\u001B[1m      Param #\u001B[0m\u001B[1m \u001B[0m┃\n┡━━━━━━━━━━━━━━━━━━━━━━━━━━━━━━━━━╇━━━━━━━━━━━━━━━━━━━━━━━━╇━━━━━━━━━━━━━━━┩\n│ dense_5 (\u001B[38;5;33mDense\u001B[0m)                 │ (\u001B[38;5;45mNone\u001B[0m, \u001B[38;5;34m6\u001B[0m, \u001B[38;5;34m128\u001B[0m)         │         \u001B[38;5;34m7,168\u001B[0m │\n├─────────────────────────────────┼────────────────────────┼───────────────┤\n│ dense_6 (\u001B[38;5;33mDense\u001B[0m)                 │ (\u001B[38;5;45mNone\u001B[0m, \u001B[38;5;34m6\u001B[0m, \u001B[38;5;34m64\u001B[0m)          │         \u001B[38;5;34m8,256\u001B[0m │\n├─────────────────────────────────┼────────────────────────┼───────────────┤\n│ conv1d_2 (\u001B[38;5;33mConv1D\u001B[0m)               │ (\u001B[38;5;45mNone\u001B[0m, \u001B[38;5;34m2\u001B[0m, \u001B[38;5;34m64\u001B[0m)          │        \u001B[38;5;34m20,544\u001B[0m │\n├─────────────────────────────────┼────────────────────────┼───────────────┤\n│ max_pooling1d_1 (\u001B[38;5;33mMaxPooling1D\u001B[0m)  │ (\u001B[38;5;45mNone\u001B[0m, \u001B[38;5;34m2\u001B[0m, \u001B[38;5;34m64\u001B[0m)          │             \u001B[38;5;34m0\u001B[0m │\n├─────────────────────────────────┼────────────────────────┼───────────────┤\n│ conv1d_3 (\u001B[38;5;33mConv1D\u001B[0m)               │ (\u001B[38;5;45mNone\u001B[0m, \u001B[38;5;34m1\u001B[0m, \u001B[38;5;34m32\u001B[0m)          │         \u001B[38;5;34m4,128\u001B[0m │\n├─────────────────────────────────┼────────────────────────┼───────────────┤\n│ lstm_1 (\u001B[38;5;33mLSTM\u001B[0m)                   │ (\u001B[38;5;45mNone\u001B[0m, \u001B[38;5;34m1\u001B[0m, \u001B[38;5;34m24\u001B[0m)          │         \u001B[38;5;34m5,472\u001B[0m │\n├─────────────────────────────────┼────────────────────────┼───────────────┤\n│ dense_7 (\u001B[38;5;33mDense\u001B[0m)                 │ (\u001B[38;5;45mNone\u001B[0m, \u001B[38;5;34m1\u001B[0m, \u001B[38;5;34m128\u001B[0m)         │         \u001B[38;5;34m3,200\u001B[0m │\n├─────────────────────────────────┼────────────────────────┼───────────────┤\n│ dense_8 (\u001B[38;5;33mDense\u001B[0m)                 │ (\u001B[38;5;45mNone\u001B[0m, \u001B[38;5;34m1\u001B[0m, \u001B[38;5;34m64\u001B[0m)          │         \u001B[38;5;34m8,256\u001B[0m │\n├─────────────────────────────────┼────────────────────────┼───────────────┤\n│ dense_9 (\u001B[38;5;33mDense\u001B[0m)                 │ (\u001B[38;5;45mNone\u001B[0m, \u001B[38;5;34m1\u001B[0m, \u001B[38;5;34m6\u001B[0m)           │           \u001B[38;5;34m390\u001B[0m │\n└─────────────────────────────────┴────────────────────────┴───────────────┘\n",
      "text/html": "<pre style=\"white-space:pre;overflow-x:auto;line-height:normal;font-family:Menlo,'DejaVu Sans Mono',consolas,'Courier New',monospace\">┏━━━━━━━━━━━━━━━━━━━━━━━━━━━━━━━━━┳━━━━━━━━━━━━━━━━━━━━━━━━┳━━━━━━━━━━━━━━━┓\n┃<span style=\"font-weight: bold\"> Layer (type)                    </span>┃<span style=\"font-weight: bold\"> Output Shape           </span>┃<span style=\"font-weight: bold\">       Param # </span>┃\n┡━━━━━━━━━━━━━━━━━━━━━━━━━━━━━━━━━╇━━━━━━━━━━━━━━━━━━━━━━━━╇━━━━━━━━━━━━━━━┩\n│ dense_5 (<span style=\"color: #0087ff; text-decoration-color: #0087ff\">Dense</span>)                 │ (<span style=\"color: #00d7ff; text-decoration-color: #00d7ff\">None</span>, <span style=\"color: #00af00; text-decoration-color: #00af00\">6</span>, <span style=\"color: #00af00; text-decoration-color: #00af00\">128</span>)         │         <span style=\"color: #00af00; text-decoration-color: #00af00\">7,168</span> │\n├─────────────────────────────────┼────────────────────────┼───────────────┤\n│ dense_6 (<span style=\"color: #0087ff; text-decoration-color: #0087ff\">Dense</span>)                 │ (<span style=\"color: #00d7ff; text-decoration-color: #00d7ff\">None</span>, <span style=\"color: #00af00; text-decoration-color: #00af00\">6</span>, <span style=\"color: #00af00; text-decoration-color: #00af00\">64</span>)          │         <span style=\"color: #00af00; text-decoration-color: #00af00\">8,256</span> │\n├─────────────────────────────────┼────────────────────────┼───────────────┤\n│ conv1d_2 (<span style=\"color: #0087ff; text-decoration-color: #0087ff\">Conv1D</span>)               │ (<span style=\"color: #00d7ff; text-decoration-color: #00d7ff\">None</span>, <span style=\"color: #00af00; text-decoration-color: #00af00\">2</span>, <span style=\"color: #00af00; text-decoration-color: #00af00\">64</span>)          │        <span style=\"color: #00af00; text-decoration-color: #00af00\">20,544</span> │\n├─────────────────────────────────┼────────────────────────┼───────────────┤\n│ max_pooling1d_1 (<span style=\"color: #0087ff; text-decoration-color: #0087ff\">MaxPooling1D</span>)  │ (<span style=\"color: #00d7ff; text-decoration-color: #00d7ff\">None</span>, <span style=\"color: #00af00; text-decoration-color: #00af00\">2</span>, <span style=\"color: #00af00; text-decoration-color: #00af00\">64</span>)          │             <span style=\"color: #00af00; text-decoration-color: #00af00\">0</span> │\n├─────────────────────────────────┼────────────────────────┼───────────────┤\n│ conv1d_3 (<span style=\"color: #0087ff; text-decoration-color: #0087ff\">Conv1D</span>)               │ (<span style=\"color: #00d7ff; text-decoration-color: #00d7ff\">None</span>, <span style=\"color: #00af00; text-decoration-color: #00af00\">1</span>, <span style=\"color: #00af00; text-decoration-color: #00af00\">32</span>)          │         <span style=\"color: #00af00; text-decoration-color: #00af00\">4,128</span> │\n├─────────────────────────────────┼────────────────────────┼───────────────┤\n│ lstm_1 (<span style=\"color: #0087ff; text-decoration-color: #0087ff\">LSTM</span>)                   │ (<span style=\"color: #00d7ff; text-decoration-color: #00d7ff\">None</span>, <span style=\"color: #00af00; text-decoration-color: #00af00\">1</span>, <span style=\"color: #00af00; text-decoration-color: #00af00\">24</span>)          │         <span style=\"color: #00af00; text-decoration-color: #00af00\">5,472</span> │\n├─────────────────────────────────┼────────────────────────┼───────────────┤\n│ dense_7 (<span style=\"color: #0087ff; text-decoration-color: #0087ff\">Dense</span>)                 │ (<span style=\"color: #00d7ff; text-decoration-color: #00d7ff\">None</span>, <span style=\"color: #00af00; text-decoration-color: #00af00\">1</span>, <span style=\"color: #00af00; text-decoration-color: #00af00\">128</span>)         │         <span style=\"color: #00af00; text-decoration-color: #00af00\">3,200</span> │\n├─────────────────────────────────┼────────────────────────┼───────────────┤\n│ dense_8 (<span style=\"color: #0087ff; text-decoration-color: #0087ff\">Dense</span>)                 │ (<span style=\"color: #00d7ff; text-decoration-color: #00d7ff\">None</span>, <span style=\"color: #00af00; text-decoration-color: #00af00\">1</span>, <span style=\"color: #00af00; text-decoration-color: #00af00\">64</span>)          │         <span style=\"color: #00af00; text-decoration-color: #00af00\">8,256</span> │\n├─────────────────────────────────┼────────────────────────┼───────────────┤\n│ dense_9 (<span style=\"color: #0087ff; text-decoration-color: #0087ff\">Dense</span>)                 │ (<span style=\"color: #00d7ff; text-decoration-color: #00d7ff\">None</span>, <span style=\"color: #00af00; text-decoration-color: #00af00\">1</span>, <span style=\"color: #00af00; text-decoration-color: #00af00\">6</span>)           │           <span style=\"color: #00af00; text-decoration-color: #00af00\">390</span> │\n└─────────────────────────────────┴────────────────────────┴───────────────┘\n</pre>\n"
     },
     "metadata": {},
     "output_type": "display_data"
    },
    {
     "data": {
      "text/plain": "\u001B[1m Total params: \u001B[0m\u001B[38;5;34m57,414\u001B[0m (224.27 KB)\n",
      "text/html": "<pre style=\"white-space:pre;overflow-x:auto;line-height:normal;font-family:Menlo,'DejaVu Sans Mono',consolas,'Courier New',monospace\"><span style=\"font-weight: bold\"> Total params: </span><span style=\"color: #00af00; text-decoration-color: #00af00\">57,414</span> (224.27 KB)\n</pre>\n"
     },
     "metadata": {},
     "output_type": "display_data"
    },
    {
     "data": {
      "text/plain": "\u001B[1m Trainable params: \u001B[0m\u001B[38;5;34m57,414\u001B[0m (224.27 KB)\n",
      "text/html": "<pre style=\"white-space:pre;overflow-x:auto;line-height:normal;font-family:Menlo,'DejaVu Sans Mono',consolas,'Courier New',monospace\"><span style=\"font-weight: bold\"> Trainable params: </span><span style=\"color: #00af00; text-decoration-color: #00af00\">57,414</span> (224.27 KB)\n</pre>\n"
     },
     "metadata": {},
     "output_type": "display_data"
    },
    {
     "data": {
      "text/plain": "\u001B[1m Non-trainable params: \u001B[0m\u001B[38;5;34m0\u001B[0m (0.00 B)\n",
      "text/html": "<pre style=\"white-space:pre;overflow-x:auto;line-height:normal;font-family:Menlo,'DejaVu Sans Mono',consolas,'Courier New',monospace\"><span style=\"font-weight: bold\"> Non-trainable params: </span><span style=\"color: #00af00; text-decoration-color: #00af00\">0</span> (0.00 B)\n</pre>\n"
     },
     "metadata": {},
     "output_type": "display_data"
    }
   ],
   "source": [
    "# Print the model summary\n",
    "model.summary()"
   ],
   "metadata": {
    "collapsed": false,
    "ExecuteTime": {
     "end_time": "2024-05-30T07:02:37.338656Z",
     "start_time": "2024-05-30T07:02:37.317433Z"
    }
   },
   "id": "999a2fb827c2b148",
   "execution_count": 16
  },
  {
   "cell_type": "code",
   "outputs": [],
   "source": [
    "# Train the model\n",
    "# history = model.fit(X_train, y_train, epochs=100, batch_size=11, validation_data=(X_val, y_val))"
   ],
   "metadata": {
    "collapsed": false,
    "ExecuteTime": {
     "end_time": "2024-05-30T07:02:39.596161Z",
     "start_time": "2024-05-30T07:02:39.593209Z"
    }
   },
   "id": "c4aa9e823cb60a03",
   "execution_count": 17
  },
  {
   "cell_type": "code",
   "outputs": [],
   "source": [
    "import datetime\n",
    "\n",
    "now = datetime.datetime.now()"
   ],
   "metadata": {
    "collapsed": false,
    "ExecuteTime": {
     "end_time": "2024-05-30T07:02:41.489898Z",
     "start_time": "2024-05-30T07:02:41.486904Z"
    }
   },
   "id": "6f6dfd6ee894f299",
   "execution_count": 18
  },
  {
   "cell_type": "code",
   "outputs": [],
   "source": [
    "from keras.src.callbacks import EarlyStopping, ReduceLROnPlateau\n",
    "\n",
    "\n",
    "es_callback = EarlyStopping(monitor='val_loss', mode='min', patience=100, verbose=1, restore_best_weights=True)\n",
    "reduce_lr = ReduceLROnPlateau(monitor='val_loss', factor=0.5, patience=20)"
   ],
   "metadata": {
    "collapsed": false,
    "ExecuteTime": {
     "end_time": "2024-05-30T07:02:42.153840Z",
     "start_time": "2024-05-30T07:02:42.150039Z"
    }
   },
   "id": "3a0b94183492e344",
   "execution_count": 19
  },
  {
   "cell_type": "code",
   "outputs": [
    {
     "name": "stdout",
     "output_type": "stream",
     "text": [
      "Epoch 1/500\n",
      "\u001B[1m49/49\u001B[0m \u001B[32m━━━━━━━━━━━━━━━━━━━━\u001B[0m\u001B[37m\u001B[0m \u001B[1m3s\u001B[0m 9ms/step - accuracy: 0.4105 - loss: 1.6615 - val_accuracy: 0.5465 - val_loss: 1.4221 - learning_rate: 0.0010\n",
      "Epoch 2/500\n",
      "\u001B[1m49/49\u001B[0m \u001B[32m━━━━━━━━━━━━━━━━━━━━\u001B[0m\u001B[37m\u001B[0m \u001B[1m0s\u001B[0m 3ms/step - accuracy: 0.5456 - loss: 1.4204 - val_accuracy: 0.5465 - val_loss: 1.4207 - learning_rate: 0.0010\n",
      "Epoch 3/500\n",
      "\u001B[1m49/49\u001B[0m \u001B[32m━━━━━━━━━━━━━━━━━━━━\u001B[0m\u001B[37m\u001B[0m \u001B[1m0s\u001B[0m 3ms/step - accuracy: 0.5398 - loss: 1.4200 - val_accuracy: 0.5465 - val_loss: 1.3922 - learning_rate: 0.0010\n",
      "Epoch 4/500\n",
      "\u001B[1m49/49\u001B[0m \u001B[32m━━━━━━━━━━━━━━━━━━━━\u001B[0m\u001B[37m\u001B[0m \u001B[1m0s\u001B[0m 3ms/step - accuracy: 0.5508 - loss: 1.3606 - val_accuracy: 0.5465 - val_loss: 1.3864 - learning_rate: 0.0010\n",
      "Epoch 5/500\n",
      "\u001B[1m49/49\u001B[0m \u001B[32m━━━━━━━━━━━━━━━━━━━━\u001B[0m\u001B[37m\u001B[0m \u001B[1m0s\u001B[0m 4ms/step - accuracy: 0.5459 - loss: 1.3382 - val_accuracy: 0.5465 - val_loss: 1.3463 - learning_rate: 0.0010\n",
      "Epoch 6/500\n",
      "\u001B[1m49/49\u001B[0m \u001B[32m━━━━━━━━━━━━━━━━━━━━\u001B[0m\u001B[37m\u001B[0m \u001B[1m0s\u001B[0m 3ms/step - accuracy: 0.5413 - loss: 1.3225 - val_accuracy: 0.5465 - val_loss: 1.3303 - learning_rate: 0.0010\n",
      "Epoch 7/500\n",
      "\u001B[1m49/49\u001B[0m \u001B[32m━━━━━━━━━━━━━━━━━━━━\u001B[0m\u001B[37m\u001B[0m \u001B[1m0s\u001B[0m 3ms/step - accuracy: 0.5561 - loss: 1.2689 - val_accuracy: 0.5465 - val_loss: 1.3212 - learning_rate: 0.0010\n",
      "Epoch 8/500\n",
      "\u001B[1m49/49\u001B[0m \u001B[32m━━━━━━━━━━━━━━━━━━━━\u001B[0m\u001B[37m\u001B[0m \u001B[1m0s\u001B[0m 4ms/step - accuracy: 0.5366 - loss: 1.3056 - val_accuracy: 0.5465 - val_loss: 1.2745 - learning_rate: 0.0010\n",
      "Epoch 9/500\n",
      "\u001B[1m49/49\u001B[0m \u001B[32m━━━━━━━━━━━━━━━━━━━━\u001B[0m\u001B[37m\u001B[0m \u001B[1m0s\u001B[0m 3ms/step - accuracy: 0.5587 - loss: 1.1959 - val_accuracy: 0.5552 - val_loss: 1.2075 - learning_rate: 0.0010\n",
      "Epoch 10/500\n",
      "\u001B[1m49/49\u001B[0m \u001B[32m━━━━━━━━━━━━━━━━━━━━\u001B[0m\u001B[37m\u001B[0m \u001B[1m0s\u001B[0m 3ms/step - accuracy: 0.5734 - loss: 1.1427 - val_accuracy: 0.5581 - val_loss: 1.0941 - learning_rate: 0.0010\n",
      "Epoch 11/500\n",
      "\u001B[1m49/49\u001B[0m \u001B[32m━━━━━━━━━━━━━━━━━━━━\u001B[0m\u001B[37m\u001B[0m \u001B[1m0s\u001B[0m 3ms/step - accuracy: 0.5662 - loss: 1.0420 - val_accuracy: 0.5698 - val_loss: 1.1017 - learning_rate: 0.0010\n",
      "Epoch 12/500\n",
      "\u001B[1m49/49\u001B[0m \u001B[32m━━━━━━━━━━━━━━━━━━━━\u001B[0m\u001B[37m\u001B[0m \u001B[1m0s\u001B[0m 3ms/step - accuracy: 0.5924 - loss: 0.9836 - val_accuracy: 0.5930 - val_loss: 0.9928 - learning_rate: 0.0010\n",
      "Epoch 13/500\n",
      "\u001B[1m49/49\u001B[0m \u001B[32m━━━━━━━━━━━━━━━━━━━━\u001B[0m\u001B[37m\u001B[0m \u001B[1m0s\u001B[0m 3ms/step - accuracy: 0.6069 - loss: 0.9250 - val_accuracy: 0.5814 - val_loss: 1.0339 - learning_rate: 0.0010\n",
      "Epoch 14/500\n",
      "\u001B[1m49/49\u001B[0m \u001B[32m━━━━━━━━━━━━━━━━━━━━\u001B[0m\u001B[37m\u001B[0m \u001B[1m0s\u001B[0m 3ms/step - accuracy: 0.5941 - loss: 0.9441 - val_accuracy: 0.5843 - val_loss: 0.9791 - learning_rate: 0.0010\n",
      "Epoch 15/500\n",
      "\u001B[1m49/49\u001B[0m \u001B[32m━━━━━━━━━━━━━━━━━━━━\u001B[0m\u001B[37m\u001B[0m \u001B[1m0s\u001B[0m 3ms/step - accuracy: 0.6111 - loss: 0.8954 - val_accuracy: 0.6192 - val_loss: 0.9266 - learning_rate: 0.0010\n",
      "Epoch 16/500\n",
      "\u001B[1m49/49\u001B[0m \u001B[32m━━━━━━━━━━━━━━━━━━━━\u001B[0m\u001B[37m\u001B[0m \u001B[1m0s\u001B[0m 3ms/step - accuracy: 0.6231 - loss: 0.8816 - val_accuracy: 0.5959 - val_loss: 0.9106 - learning_rate: 0.0010\n",
      "Epoch 17/500\n",
      "\u001B[1m49/49\u001B[0m \u001B[32m━━━━━━━━━━━━━━━━━━━━\u001B[0m\u001B[37m\u001B[0m \u001B[1m0s\u001B[0m 3ms/step - accuracy: 0.6269 - loss: 0.8322 - val_accuracy: 0.5988 - val_loss: 0.9566 - learning_rate: 0.0010\n",
      "Epoch 18/500\n",
      "\u001B[1m49/49\u001B[0m \u001B[32m━━━━━━━━━━━━━━━━━━━━\u001B[0m\u001B[37m\u001B[0m \u001B[1m0s\u001B[0m 3ms/step - accuracy: 0.6183 - loss: 0.8704 - val_accuracy: 0.6279 - val_loss: 0.8711 - learning_rate: 0.0010\n",
      "Epoch 19/500\n",
      "\u001B[1m49/49\u001B[0m \u001B[32m━━━━━━━━━━━━━━━━━━━━\u001B[0m\u001B[37m\u001B[0m \u001B[1m0s\u001B[0m 3ms/step - accuracy: 0.6441 - loss: 0.8085 - val_accuracy: 0.6453 - val_loss: 0.8470 - learning_rate: 0.0010\n",
      "Epoch 20/500\n",
      "\u001B[1m49/49\u001B[0m \u001B[32m━━━━━━━━━━━━━━━━━━━━\u001B[0m\u001B[37m\u001B[0m \u001B[1m0s\u001B[0m 3ms/step - accuracy: 0.6445 - loss: 0.7730 - val_accuracy: 0.6163 - val_loss: 0.8614 - learning_rate: 0.0010\n",
      "Epoch 21/500\n",
      "\u001B[1m49/49\u001B[0m \u001B[32m━━━━━━━━━━━━━━━━━━━━\u001B[0m\u001B[37m\u001B[0m \u001B[1m0s\u001B[0m 3ms/step - accuracy: 0.6221 - loss: 0.7992 - val_accuracy: 0.6366 - val_loss: 0.8808 - learning_rate: 0.0010\n",
      "Epoch 22/500\n",
      "\u001B[1m49/49\u001B[0m \u001B[32m━━━━━━━━━━━━━━━━━━━━\u001B[0m\u001B[37m\u001B[0m \u001B[1m0s\u001B[0m 3ms/step - accuracy: 0.6373 - loss: 0.7746 - val_accuracy: 0.6424 - val_loss: 0.8402 - learning_rate: 0.0010\n",
      "Epoch 23/500\n",
      "\u001B[1m49/49\u001B[0m \u001B[32m━━━━━━━━━━━━━━━━━━━━\u001B[0m\u001B[37m\u001B[0m \u001B[1m0s\u001B[0m 3ms/step - accuracy: 0.6339 - loss: 0.7673 - val_accuracy: 0.6221 - val_loss: 0.8135 - learning_rate: 0.0010\n",
      "Epoch 24/500\n",
      "\u001B[1m49/49\u001B[0m \u001B[32m━━━━━━━━━━━━━━━━━━━━\u001B[0m\u001B[37m\u001B[0m \u001B[1m0s\u001B[0m 3ms/step - accuracy: 0.6309 - loss: 0.7637 - val_accuracy: 0.6512 - val_loss: 0.8159 - learning_rate: 0.0010\n",
      "Epoch 25/500\n",
      "\u001B[1m49/49\u001B[0m \u001B[32m━━━━━━━━━━━━━━━━━━━━\u001B[0m\u001B[37m\u001B[0m \u001B[1m0s\u001B[0m 3ms/step - accuracy: 0.6580 - loss: 0.7270 - val_accuracy: 0.6105 - val_loss: 0.8257 - learning_rate: 0.0010\n",
      "Epoch 26/500\n",
      "\u001B[1m49/49\u001B[0m \u001B[32m━━━━━━━━━━━━━━━━━━━━\u001B[0m\u001B[37m\u001B[0m \u001B[1m0s\u001B[0m 3ms/step - accuracy: 0.6526 - loss: 0.7291 - val_accuracy: 0.6366 - val_loss: 0.8164 - learning_rate: 0.0010\n",
      "Epoch 27/500\n",
      "\u001B[1m49/49\u001B[0m \u001B[32m━━━━━━━━━━━━━━━━━━━━\u001B[0m\u001B[37m\u001B[0m \u001B[1m0s\u001B[0m 3ms/step - accuracy: 0.6616 - loss: 0.7142 - val_accuracy: 0.6395 - val_loss: 0.8088 - learning_rate: 0.0010\n",
      "Epoch 28/500\n",
      "\u001B[1m49/49\u001B[0m \u001B[32m━━━━━━━━━━━━━━━━━━━━\u001B[0m\u001B[37m\u001B[0m \u001B[1m0s\u001B[0m 3ms/step - accuracy: 0.6480 - loss: 0.7317 - val_accuracy: 0.6337 - val_loss: 0.8070 - learning_rate: 0.0010\n",
      "Epoch 29/500\n",
      "\u001B[1m49/49\u001B[0m \u001B[32m━━━━━━━━━━━━━━━━━━━━\u001B[0m\u001B[37m\u001B[0m \u001B[1m0s\u001B[0m 3ms/step - accuracy: 0.6380 - loss: 0.7402 - val_accuracy: 0.6308 - val_loss: 0.7960 - learning_rate: 0.0010\n",
      "Epoch 30/500\n",
      "\u001B[1m49/49\u001B[0m \u001B[32m━━━━━━━━━━━━━━━━━━━━\u001B[0m\u001B[37m\u001B[0m \u001B[1m0s\u001B[0m 3ms/step - accuracy: 0.6571 - loss: 0.7200 - val_accuracy: 0.6483 - val_loss: 0.7771 - learning_rate: 0.0010\n",
      "Epoch 31/500\n",
      "\u001B[1m49/49\u001B[0m \u001B[32m━━━━━━━━━━━━━━━━━━━━\u001B[0m\u001B[37m\u001B[0m \u001B[1m0s\u001B[0m 3ms/step - accuracy: 0.6781 - loss: 0.6841 - val_accuracy: 0.6541 - val_loss: 0.7868 - learning_rate: 0.0010\n",
      "Epoch 32/500\n",
      "\u001B[1m49/49\u001B[0m \u001B[32m━━━━━━━━━━━━━━━━━━━━\u001B[0m\u001B[37m\u001B[0m \u001B[1m0s\u001B[0m 3ms/step - accuracy: 0.6728 - loss: 0.6852 - val_accuracy: 0.6424 - val_loss: 0.7672 - learning_rate: 0.0010\n",
      "Epoch 33/500\n",
      "\u001B[1m49/49\u001B[0m \u001B[32m━━━━━━━━━━━━━━━━━━━━\u001B[0m\u001B[37m\u001B[0m \u001B[1m0s\u001B[0m 3ms/step - accuracy: 0.6822 - loss: 0.6692 - val_accuracy: 0.5436 - val_loss: 0.8850 - learning_rate: 0.0010\n",
      "Epoch 34/500\n",
      "\u001B[1m49/49\u001B[0m \u001B[32m━━━━━━━━━━━━━━━━━━━━\u001B[0m\u001B[37m\u001B[0m \u001B[1m0s\u001B[0m 3ms/step - accuracy: 0.6418 - loss: 0.7453 - val_accuracy: 0.6076 - val_loss: 0.7926 - learning_rate: 0.0010\n",
      "Epoch 35/500\n",
      "\u001B[1m49/49\u001B[0m \u001B[32m━━━━━━━━━━━━━━━━━━━━\u001B[0m\u001B[37m\u001B[0m \u001B[1m0s\u001B[0m 3ms/step - accuracy: 0.6666 - loss: 0.6824 - val_accuracy: 0.6686 - val_loss: 0.7661 - learning_rate: 0.0010\n",
      "Epoch 36/500\n",
      "\u001B[1m49/49\u001B[0m \u001B[32m━━━━━━━━━━━━━━━━━━━━\u001B[0m\u001B[37m\u001B[0m \u001B[1m0s\u001B[0m 3ms/step - accuracy: 0.6778 - loss: 0.6501 - val_accuracy: 0.6599 - val_loss: 0.7829 - learning_rate: 0.0010\n",
      "Epoch 37/500\n",
      "\u001B[1m49/49\u001B[0m \u001B[32m━━━━━━━━━━━━━━━━━━━━\u001B[0m\u001B[37m\u001B[0m \u001B[1m0s\u001B[0m 3ms/step - accuracy: 0.6838 - loss: 0.6940 - val_accuracy: 0.6337 - val_loss: 0.8320 - learning_rate: 0.0010\n",
      "Epoch 38/500\n",
      "\u001B[1m49/49\u001B[0m \u001B[32m━━━━━━━━━━━━━━━━━━━━\u001B[0m\u001B[37m\u001B[0m \u001B[1m0s\u001B[0m 3ms/step - accuracy: 0.6692 - loss: 0.6893 - val_accuracy: 0.6308 - val_loss: 0.8180 - learning_rate: 0.0010\n",
      "Epoch 39/500\n",
      "\u001B[1m49/49\u001B[0m \u001B[32m━━━━━━━━━━━━━━━━━━━━\u001B[0m\u001B[37m\u001B[0m \u001B[1m0s\u001B[0m 3ms/step - accuracy: 0.6787 - loss: 0.6743 - val_accuracy: 0.6308 - val_loss: 0.8070 - learning_rate: 0.0010\n",
      "Epoch 40/500\n",
      "\u001B[1m49/49\u001B[0m \u001B[32m━━━━━━━━━━━━━━━━━━━━\u001B[0m\u001B[37m\u001B[0m \u001B[1m0s\u001B[0m 3ms/step - accuracy: 0.6696 - loss: 0.6776 - val_accuracy: 0.6453 - val_loss: 0.7815 - learning_rate: 0.0010\n",
      "Epoch 41/500\n",
      "\u001B[1m49/49\u001B[0m \u001B[32m━━━━━━━━━━━━━━━━━━━━\u001B[0m\u001B[37m\u001B[0m \u001B[1m0s\u001B[0m 3ms/step - accuracy: 0.6829 - loss: 0.6627 - val_accuracy: 0.6628 - val_loss: 0.7690 - learning_rate: 0.0010\n",
      "Epoch 42/500\n",
      "\u001B[1m49/49\u001B[0m \u001B[32m━━━━━━━━━━━━━━━━━━━━\u001B[0m\u001B[37m\u001B[0m \u001B[1m0s\u001B[0m 3ms/step - accuracy: 0.6708 - loss: 0.6625 - val_accuracy: 0.6279 - val_loss: 0.8056 - learning_rate: 0.0010\n",
      "Epoch 43/500\n",
      "\u001B[1m49/49\u001B[0m \u001B[32m━━━━━━━━━━━━━━━━━━━━\u001B[0m\u001B[37m\u001B[0m \u001B[1m0s\u001B[0m 3ms/step - accuracy: 0.6801 - loss: 0.6459 - val_accuracy: 0.6512 - val_loss: 0.8073 - learning_rate: 0.0010\n",
      "Epoch 44/500\n",
      "\u001B[1m49/49\u001B[0m \u001B[32m━━━━━━━━━━━━━━━━━━━━\u001B[0m\u001B[37m\u001B[0m \u001B[1m0s\u001B[0m 3ms/step - accuracy: 0.6888 - loss: 0.6500 - val_accuracy: 0.6541 - val_loss: 0.7694 - learning_rate: 0.0010\n",
      "Epoch 45/500\n",
      "\u001B[1m49/49\u001B[0m \u001B[32m━━━━━━━━━━━━━━━━━━━━\u001B[0m\u001B[37m\u001B[0m \u001B[1m0s\u001B[0m 3ms/step - accuracy: 0.6752 - loss: 0.6638 - val_accuracy: 0.6512 - val_loss: 0.8150 - learning_rate: 0.0010\n",
      "Epoch 46/500\n",
      "\u001B[1m49/49\u001B[0m \u001B[32m━━━━━━━━━━━━━━━━━━━━\u001B[0m\u001B[37m\u001B[0m \u001B[1m0s\u001B[0m 3ms/step - accuracy: 0.6918 - loss: 0.6657 - val_accuracy: 0.6599 - val_loss: 0.7844 - learning_rate: 0.0010\n",
      "Epoch 47/500\n",
      "\u001B[1m49/49\u001B[0m \u001B[32m━━━━━━━━━━━━━━━━━━━━\u001B[0m\u001B[37m\u001B[0m \u001B[1m0s\u001B[0m 3ms/step - accuracy: 0.6796 - loss: 0.6554 - val_accuracy: 0.6453 - val_loss: 0.8127 - learning_rate: 0.0010\n",
      "Epoch 48/500\n",
      "\u001B[1m49/49\u001B[0m \u001B[32m━━━━━━━━━━━━━━━━━━━━\u001B[0m\u001B[37m\u001B[0m \u001B[1m0s\u001B[0m 3ms/step - accuracy: 0.7080 - loss: 0.6295 - val_accuracy: 0.6424 - val_loss: 0.8029 - learning_rate: 0.0010\n",
      "Epoch 49/500\n",
      "\u001B[1m49/49\u001B[0m \u001B[32m━━━━━━━━━━━━━━━━━━━━\u001B[0m\u001B[37m\u001B[0m \u001B[1m0s\u001B[0m 3ms/step - accuracy: 0.6658 - loss: 0.6734 - val_accuracy: 0.6337 - val_loss: 0.7984 - learning_rate: 0.0010\n",
      "Epoch 50/500\n",
      "\u001B[1m49/49\u001B[0m \u001B[32m━━━━━━━━━━━━━━━━━━━━\u001B[0m\u001B[37m\u001B[0m \u001B[1m0s\u001B[0m 3ms/step - accuracy: 0.6759 - loss: 0.6735 - val_accuracy: 0.6570 - val_loss: 0.7879 - learning_rate: 0.0010\n",
      "Epoch 51/500\n",
      "\u001B[1m49/49\u001B[0m \u001B[32m━━━━━━━━━━━━━━━━━━━━\u001B[0m\u001B[37m\u001B[0m \u001B[1m0s\u001B[0m 3ms/step - accuracy: 0.7029 - loss: 0.6276 - val_accuracy: 0.6163 - val_loss: 0.8166 - learning_rate: 0.0010\n",
      "Epoch 52/500\n",
      "\u001B[1m49/49\u001B[0m \u001B[32m━━━━━━━━━━━━━━━━━━━━\u001B[0m\u001B[37m\u001B[0m \u001B[1m0s\u001B[0m 3ms/step - accuracy: 0.6921 - loss: 0.6526 - val_accuracy: 0.6599 - val_loss: 0.7691 - learning_rate: 0.0010\n",
      "Epoch 53/500\n",
      "\u001B[1m49/49\u001B[0m \u001B[32m━━━━━━━━━━━━━━━━━━━━\u001B[0m\u001B[37m\u001B[0m \u001B[1m0s\u001B[0m 3ms/step - accuracy: 0.6992 - loss: 0.6273 - val_accuracy: 0.6541 - val_loss: 0.7737 - learning_rate: 0.0010\n",
      "Epoch 54/500\n",
      "\u001B[1m49/49\u001B[0m \u001B[32m━━━━━━━━━━━━━━━━━━━━\u001B[0m\u001B[37m\u001B[0m \u001B[1m0s\u001B[0m 3ms/step - accuracy: 0.6919 - loss: 0.6298 - val_accuracy: 0.6453 - val_loss: 0.7799 - learning_rate: 0.0010\n",
      "Epoch 55/500\n",
      "\u001B[1m49/49\u001B[0m \u001B[32m━━━━━━━━━━━━━━━━━━━━\u001B[0m\u001B[37m\u001B[0m \u001B[1m0s\u001B[0m 3ms/step - accuracy: 0.6948 - loss: 0.6211 - val_accuracy: 0.6424 - val_loss: 0.7884 - learning_rate: 0.0010\n",
      "Epoch 56/500\n",
      "\u001B[1m49/49\u001B[0m \u001B[32m━━━━━━━━━━━━━━━━━━━━\u001B[0m\u001B[37m\u001B[0m \u001B[1m0s\u001B[0m 3ms/step - accuracy: 0.7260 - loss: 0.6079 - val_accuracy: 0.6773 - val_loss: 0.7587 - learning_rate: 5.0000e-04\n",
      "Epoch 57/500\n",
      "\u001B[1m49/49\u001B[0m \u001B[32m━━━━━━━━━━━━━━━━━━━━\u001B[0m\u001B[37m\u001B[0m \u001B[1m0s\u001B[0m 3ms/step - accuracy: 0.7086 - loss: 0.5900 - val_accuracy: 0.6657 - val_loss: 0.7780 - learning_rate: 5.0000e-04\n",
      "Epoch 58/500\n",
      "\u001B[1m49/49\u001B[0m \u001B[32m━━━━━━━━━━━━━━━━━━━━\u001B[0m\u001B[37m\u001B[0m \u001B[1m0s\u001B[0m 3ms/step - accuracy: 0.6988 - loss: 0.6045 - val_accuracy: 0.6628 - val_loss: 0.7809 - learning_rate: 5.0000e-04\n",
      "Epoch 59/500\n",
      "\u001B[1m49/49\u001B[0m \u001B[32m━━━━━━━━━━━━━━━━━━━━\u001B[0m\u001B[37m\u001B[0m \u001B[1m0s\u001B[0m 3ms/step - accuracy: 0.7136 - loss: 0.6051 - val_accuracy: 0.6773 - val_loss: 0.8068 - learning_rate: 5.0000e-04\n",
      "Epoch 60/500\n",
      "\u001B[1m49/49\u001B[0m \u001B[32m━━━━━━━━━━━━━━━━━━━━\u001B[0m\u001B[37m\u001B[0m \u001B[1m0s\u001B[0m 3ms/step - accuracy: 0.7157 - loss: 0.5982 - val_accuracy: 0.6657 - val_loss: 0.7743 - learning_rate: 5.0000e-04\n",
      "Epoch 61/500\n",
      "\u001B[1m49/49\u001B[0m \u001B[32m━━━━━━━━━━━━━━━━━━━━\u001B[0m\u001B[37m\u001B[0m \u001B[1m0s\u001B[0m 3ms/step - accuracy: 0.7288 - loss: 0.5703 - val_accuracy: 0.6860 - val_loss: 0.7966 - learning_rate: 5.0000e-04\n",
      "Epoch 62/500\n",
      "\u001B[1m49/49\u001B[0m \u001B[32m━━━━━━━━━━━━━━━━━━━━\u001B[0m\u001B[37m\u001B[0m \u001B[1m0s\u001B[0m 3ms/step - accuracy: 0.7259 - loss: 0.5846 - val_accuracy: 0.6395 - val_loss: 0.7832 - learning_rate: 5.0000e-04\n",
      "Epoch 63/500\n",
      "\u001B[1m49/49\u001B[0m \u001B[32m━━━━━━━━━━━━━━━━━━━━\u001B[0m\u001B[37m\u001B[0m \u001B[1m0s\u001B[0m 3ms/step - accuracy: 0.7315 - loss: 0.5745 - val_accuracy: 0.6599 - val_loss: 0.7975 - learning_rate: 5.0000e-04\n",
      "Epoch 64/500\n",
      "\u001B[1m49/49\u001B[0m \u001B[32m━━━━━━━━━━━━━━━━━━━━\u001B[0m\u001B[37m\u001B[0m \u001B[1m0s\u001B[0m 3ms/step - accuracy: 0.7143 - loss: 0.5915 - val_accuracy: 0.6395 - val_loss: 0.7901 - learning_rate: 5.0000e-04\n",
      "Epoch 65/500\n",
      "\u001B[1m49/49\u001B[0m \u001B[32m━━━━━━━━━━━━━━━━━━━━\u001B[0m\u001B[37m\u001B[0m \u001B[1m0s\u001B[0m 3ms/step - accuracy: 0.7308 - loss: 0.5731 - val_accuracy: 0.6424 - val_loss: 0.8023 - learning_rate: 5.0000e-04\n",
      "Epoch 66/500\n",
      "\u001B[1m49/49\u001B[0m \u001B[32m━━━━━━━━━━━━━━━━━━━━\u001B[0m\u001B[37m\u001B[0m \u001B[1m0s\u001B[0m 3ms/step - accuracy: 0.7222 - loss: 0.5842 - val_accuracy: 0.6628 - val_loss: 0.7993 - learning_rate: 5.0000e-04\n",
      "Epoch 67/500\n",
      "\u001B[1m49/49\u001B[0m \u001B[32m━━━━━━━━━━━━━━━━━━━━\u001B[0m\u001B[37m\u001B[0m \u001B[1m0s\u001B[0m 3ms/step - accuracy: 0.7443 - loss: 0.5591 - val_accuracy: 0.6715 - val_loss: 0.7748 - learning_rate: 5.0000e-04\n",
      "Epoch 68/500\n",
      "\u001B[1m49/49\u001B[0m \u001B[32m━━━━━━━━━━━━━━━━━━━━\u001B[0m\u001B[37m\u001B[0m \u001B[1m0s\u001B[0m 3ms/step - accuracy: 0.7383 - loss: 0.5693 - val_accuracy: 0.6541 - val_loss: 0.7956 - learning_rate: 5.0000e-04\n",
      "Epoch 69/500\n",
      "\u001B[1m49/49\u001B[0m \u001B[32m━━━━━━━━━━━━━━━━━━━━\u001B[0m\u001B[37m\u001B[0m \u001B[1m0s\u001B[0m 3ms/step - accuracy: 0.7336 - loss: 0.5810 - val_accuracy: 0.6744 - val_loss: 0.7959 - learning_rate: 5.0000e-04\n",
      "Epoch 70/500\n",
      "\u001B[1m49/49\u001B[0m \u001B[32m━━━━━━━━━━━━━━━━━━━━\u001B[0m\u001B[37m\u001B[0m \u001B[1m0s\u001B[0m 3ms/step - accuracy: 0.7454 - loss: 0.5492 - val_accuracy: 0.6250 - val_loss: 0.7856 - learning_rate: 5.0000e-04\n",
      "Epoch 71/500\n",
      "\u001B[1m49/49\u001B[0m \u001B[32m━━━━━━━━━━━━━━━━━━━━\u001B[0m\u001B[37m\u001B[0m \u001B[1m0s\u001B[0m 3ms/step - accuracy: 0.7409 - loss: 0.5504 - val_accuracy: 0.6424 - val_loss: 0.8298 - learning_rate: 5.0000e-04\n",
      "Epoch 72/500\n",
      "\u001B[1m49/49\u001B[0m \u001B[32m━━━━━━━━━━━━━━━━━━━━\u001B[0m\u001B[37m\u001B[0m \u001B[1m0s\u001B[0m 3ms/step - accuracy: 0.7422 - loss: 0.5596 - val_accuracy: 0.6744 - val_loss: 0.7928 - learning_rate: 5.0000e-04\n",
      "Epoch 73/500\n",
      "\u001B[1m49/49\u001B[0m \u001B[32m━━━━━━━━━━━━━━━━━━━━\u001B[0m\u001B[37m\u001B[0m \u001B[1m0s\u001B[0m 3ms/step - accuracy: 0.7272 - loss: 0.5705 - val_accuracy: 0.6512 - val_loss: 0.7985 - learning_rate: 5.0000e-04\n",
      "Epoch 74/500\n",
      "\u001B[1m49/49\u001B[0m \u001B[32m━━━━━━━━━━━━━━━━━━━━\u001B[0m\u001B[37m\u001B[0m \u001B[1m0s\u001B[0m 3ms/step - accuracy: 0.7323 - loss: 0.5636 - val_accuracy: 0.6453 - val_loss: 0.8007 - learning_rate: 5.0000e-04\n",
      "Epoch 75/500\n",
      "\u001B[1m49/49\u001B[0m \u001B[32m━━━━━━━━━━━━━━━━━━━━\u001B[0m\u001B[37m\u001B[0m \u001B[1m0s\u001B[0m 3ms/step - accuracy: 0.7171 - loss: 0.5892 - val_accuracy: 0.6395 - val_loss: 0.8212 - learning_rate: 5.0000e-04\n",
      "Epoch 76/500\n",
      "\u001B[1m49/49\u001B[0m \u001B[32m━━━━━━━━━━━━━━━━━━━━\u001B[0m\u001B[37m\u001B[0m \u001B[1m0s\u001B[0m 3ms/step - accuracy: 0.7341 - loss: 0.5628 - val_accuracy: 0.6570 - val_loss: 0.8026 - learning_rate: 5.0000e-04\n",
      "Epoch 77/500\n",
      "\u001B[1m49/49\u001B[0m \u001B[32m━━━━━━━━━━━━━━━━━━━━\u001B[0m\u001B[37m\u001B[0m \u001B[1m0s\u001B[0m 3ms/step - accuracy: 0.7506 - loss: 0.5539 - val_accuracy: 0.6628 - val_loss: 0.8060 - learning_rate: 2.5000e-04\n",
      "Epoch 78/500\n",
      "\u001B[1m49/49\u001B[0m \u001B[32m━━━━━━━━━━━━━━━━━━━━\u001B[0m\u001B[37m\u001B[0m \u001B[1m0s\u001B[0m 3ms/step - accuracy: 0.7514 - loss: 0.5313 - val_accuracy: 0.6599 - val_loss: 0.7953 - learning_rate: 2.5000e-04\n",
      "Epoch 79/500\n",
      "\u001B[1m49/49\u001B[0m \u001B[32m━━━━━━━━━━━━━━━━━━━━\u001B[0m\u001B[37m\u001B[0m \u001B[1m0s\u001B[0m 3ms/step - accuracy: 0.7483 - loss: 0.5406 - val_accuracy: 0.6424 - val_loss: 0.8260 - learning_rate: 2.5000e-04\n",
      "Epoch 80/500\n",
      "\u001B[1m49/49\u001B[0m \u001B[32m━━━━━━━━━━━━━━━━━━━━\u001B[0m\u001B[37m\u001B[0m \u001B[1m0s\u001B[0m 3ms/step - accuracy: 0.7319 - loss: 0.5402 - val_accuracy: 0.6541 - val_loss: 0.7974 - learning_rate: 2.5000e-04\n",
      "Epoch 81/500\n",
      "\u001B[1m49/49\u001B[0m \u001B[32m━━━━━━━━━━━━━━━━━━━━\u001B[0m\u001B[37m\u001B[0m \u001B[1m0s\u001B[0m 3ms/step - accuracy: 0.7542 - loss: 0.5457 - val_accuracy: 0.6686 - val_loss: 0.8058 - learning_rate: 2.5000e-04\n",
      "Epoch 82/500\n",
      "\u001B[1m49/49\u001B[0m \u001B[32m━━━━━━━━━━━━━━━━━━━━\u001B[0m\u001B[37m\u001B[0m \u001B[1m0s\u001B[0m 3ms/step - accuracy: 0.7580 - loss: 0.5166 - val_accuracy: 0.6628 - val_loss: 0.8163 - learning_rate: 2.5000e-04\n",
      "Epoch 83/500\n",
      "\u001B[1m49/49\u001B[0m \u001B[32m━━━━━━━━━━━━━━━━━━━━\u001B[0m\u001B[37m\u001B[0m \u001B[1m0s\u001B[0m 3ms/step - accuracy: 0.7491 - loss: 0.5353 - val_accuracy: 0.6395 - val_loss: 0.8146 - learning_rate: 2.5000e-04\n",
      "Epoch 84/500\n",
      "\u001B[1m49/49\u001B[0m \u001B[32m━━━━━━━━━━━━━━━━━━━━\u001B[0m\u001B[37m\u001B[0m \u001B[1m0s\u001B[0m 3ms/step - accuracy: 0.7506 - loss: 0.5077 - val_accuracy: 0.6831 - val_loss: 0.8143 - learning_rate: 2.5000e-04\n",
      "Epoch 85/500\n",
      "\u001B[1m49/49\u001B[0m \u001B[32m━━━━━━━━━━━━━━━━━━━━\u001B[0m\u001B[37m\u001B[0m \u001B[1m0s\u001B[0m 3ms/step - accuracy: 0.7581 - loss: 0.5357 - val_accuracy: 0.6279 - val_loss: 0.8257 - learning_rate: 2.5000e-04\n",
      "Epoch 86/500\n",
      "\u001B[1m49/49\u001B[0m \u001B[32m━━━━━━━━━━━━━━━━━━━━\u001B[0m\u001B[37m\u001B[0m \u001B[1m0s\u001B[0m 3ms/step - accuracy: 0.7428 - loss: 0.5216 - val_accuracy: 0.6366 - val_loss: 0.8179 - learning_rate: 2.5000e-04\n",
      "Epoch 87/500\n",
      "\u001B[1m49/49\u001B[0m \u001B[32m━━━━━━━━━━━━━━━━━━━━\u001B[0m\u001B[37m\u001B[0m \u001B[1m0s\u001B[0m 3ms/step - accuracy: 0.7409 - loss: 0.5493 - val_accuracy: 0.6453 - val_loss: 0.8133 - learning_rate: 2.5000e-04\n",
      "Epoch 88/500\n",
      "\u001B[1m49/49\u001B[0m \u001B[32m━━━━━━━━━━━━━━━━━━━━\u001B[0m\u001B[37m\u001B[0m \u001B[1m0s\u001B[0m 3ms/step - accuracy: 0.7470 - loss: 0.5406 - val_accuracy: 0.6686 - val_loss: 0.8184 - learning_rate: 2.5000e-04\n",
      "Epoch 89/500\n",
      "\u001B[1m49/49\u001B[0m \u001B[32m━━━━━━━━━━━━━━━━━━━━\u001B[0m\u001B[37m\u001B[0m \u001B[1m0s\u001B[0m 3ms/step - accuracy: 0.7535 - loss: 0.5344 - val_accuracy: 0.6512 - val_loss: 0.8227 - learning_rate: 2.5000e-04\n",
      "Epoch 90/500\n",
      "\u001B[1m49/49\u001B[0m \u001B[32m━━━━━━━━━━━━━━━━━━━━\u001B[0m\u001B[37m\u001B[0m \u001B[1m0s\u001B[0m 3ms/step - accuracy: 0.7497 - loss: 0.5423 - val_accuracy: 0.6570 - val_loss: 0.8344 - learning_rate: 2.5000e-04\n",
      "Epoch 91/500\n",
      "\u001B[1m49/49\u001B[0m \u001B[32m━━━━━━━━━━━━━━━━━━━━\u001B[0m\u001B[37m\u001B[0m \u001B[1m0s\u001B[0m 4ms/step - accuracy: 0.7656 - loss: 0.5209 - val_accuracy: 0.6337 - val_loss: 0.8200 - learning_rate: 2.5000e-04\n",
      "Epoch 92/500\n",
      "\u001B[1m49/49\u001B[0m \u001B[32m━━━━━━━━━━━━━━━━━━━━\u001B[0m\u001B[37m\u001B[0m \u001B[1m0s\u001B[0m 3ms/step - accuracy: 0.7764 - loss: 0.5030 - val_accuracy: 0.6308 - val_loss: 0.8440 - learning_rate: 2.5000e-04\n",
      "Epoch 93/500\n",
      "\u001B[1m49/49\u001B[0m \u001B[32m━━━━━━━━━━━━━━━━━━━━\u001B[0m\u001B[37m\u001B[0m \u001B[1m0s\u001B[0m 3ms/step - accuracy: 0.7660 - loss: 0.5124 - val_accuracy: 0.6483 - val_loss: 0.8415 - learning_rate: 2.5000e-04\n",
      "Epoch 94/500\n",
      "\u001B[1m49/49\u001B[0m \u001B[32m━━━━━━━━━━━━━━━━━━━━\u001B[0m\u001B[37m\u001B[0m \u001B[1m0s\u001B[0m 3ms/step - accuracy: 0.7487 - loss: 0.5367 - val_accuracy: 0.6686 - val_loss: 0.8353 - learning_rate: 2.5000e-04\n",
      "Epoch 95/500\n",
      "\u001B[1m49/49\u001B[0m \u001B[32m━━━━━━━━━━━━━━━━━━━━\u001B[0m\u001B[37m\u001B[0m \u001B[1m0s\u001B[0m 3ms/step - accuracy: 0.7519 - loss: 0.5178 - val_accuracy: 0.6802 - val_loss: 0.8117 - learning_rate: 2.5000e-04\n",
      "Epoch 96/500\n",
      "\u001B[1m49/49\u001B[0m \u001B[32m━━━━━━━━━━━━━━━━━━━━\u001B[0m\u001B[37m\u001B[0m \u001B[1m0s\u001B[0m 3ms/step - accuracy: 0.7627 - loss: 0.5194 - val_accuracy: 0.6453 - val_loss: 0.8438 - learning_rate: 2.5000e-04\n",
      "Epoch 97/500\n",
      "\u001B[1m49/49\u001B[0m \u001B[32m━━━━━━━━━━━━━━━━━━━━\u001B[0m\u001B[37m\u001B[0m \u001B[1m0s\u001B[0m 3ms/step - accuracy: 0.7752 - loss: 0.5000 - val_accuracy: 0.6453 - val_loss: 0.8402 - learning_rate: 1.2500e-04\n",
      "Epoch 98/500\n",
      "\u001B[1m49/49\u001B[0m \u001B[32m━━━━━━━━━━━━━━━━━━━━\u001B[0m\u001B[37m\u001B[0m \u001B[1m0s\u001B[0m 3ms/step - accuracy: 0.7696 - loss: 0.5064 - val_accuracy: 0.6366 - val_loss: 0.8379 - learning_rate: 1.2500e-04\n",
      "Epoch 99/500\n",
      "\u001B[1m49/49\u001B[0m \u001B[32m━━━━━━━━━━━━━━━━━━━━\u001B[0m\u001B[37m\u001B[0m \u001B[1m0s\u001B[0m 3ms/step - accuracy: 0.7751 - loss: 0.4983 - val_accuracy: 0.6628 - val_loss: 0.8294 - learning_rate: 1.2500e-04\n",
      "Epoch 100/500\n",
      "\u001B[1m49/49\u001B[0m \u001B[32m━━━━━━━━━━━━━━━━━━━━\u001B[0m\u001B[37m\u001B[0m \u001B[1m0s\u001B[0m 3ms/step - accuracy: 0.7819 - loss: 0.4787 - val_accuracy: 0.6831 - val_loss: 0.8372 - learning_rate: 1.2500e-04\n",
      "Epoch 101/500\n",
      "\u001B[1m49/49\u001B[0m \u001B[32m━━━━━━━━━━━━━━━━━━━━\u001B[0m\u001B[37m\u001B[0m \u001B[1m0s\u001B[0m 3ms/step - accuracy: 0.7559 - loss: 0.5254 - val_accuracy: 0.6512 - val_loss: 0.8537 - learning_rate: 1.2500e-04\n",
      "Epoch 102/500\n",
      "\u001B[1m49/49\u001B[0m \u001B[32m━━━━━━━━━━━━━━━━━━━━\u001B[0m\u001B[37m\u001B[0m \u001B[1m0s\u001B[0m 3ms/step - accuracy: 0.7666 - loss: 0.5029 - val_accuracy: 0.6308 - val_loss: 0.8427 - learning_rate: 1.2500e-04\n",
      "Epoch 103/500\n",
      "\u001B[1m49/49\u001B[0m \u001B[32m━━━━━━━━━━━━━━━━━━━━\u001B[0m\u001B[37m\u001B[0m \u001B[1m0s\u001B[0m 3ms/step - accuracy: 0.7716 - loss: 0.4850 - val_accuracy: 0.6453 - val_loss: 0.8460 - learning_rate: 1.2500e-04\n",
      "Epoch 104/500\n",
      "\u001B[1m49/49\u001B[0m \u001B[32m━━━━━━━━━━━━━━━━━━━━\u001B[0m\u001B[37m\u001B[0m \u001B[1m0s\u001B[0m 3ms/step - accuracy: 0.7737 - loss: 0.4872 - val_accuracy: 0.6715 - val_loss: 0.8335 - learning_rate: 1.2500e-04\n",
      "Epoch 105/500\n",
      "\u001B[1m49/49\u001B[0m \u001B[32m━━━━━━━━━━━━━━━━━━━━\u001B[0m\u001B[37m\u001B[0m \u001B[1m0s\u001B[0m 3ms/step - accuracy: 0.7845 - loss: 0.4956 - val_accuracy: 0.6890 - val_loss: 0.8387 - learning_rate: 1.2500e-04\n",
      "Epoch 106/500\n",
      "\u001B[1m49/49\u001B[0m \u001B[32m━━━━━━━━━━━━━━━━━━━━\u001B[0m\u001B[37m\u001B[0m \u001B[1m0s\u001B[0m 3ms/step - accuracy: 0.7792 - loss: 0.4903 - val_accuracy: 0.6715 - val_loss: 0.8413 - learning_rate: 1.2500e-04\n",
      "Epoch 107/500\n",
      "\u001B[1m49/49\u001B[0m \u001B[32m━━━━━━━━━━━━━━━━━━━━\u001B[0m\u001B[37m\u001B[0m \u001B[1m0s\u001B[0m 3ms/step - accuracy: 0.7731 - loss: 0.4963 - val_accuracy: 0.6570 - val_loss: 0.8492 - learning_rate: 1.2500e-04\n",
      "Epoch 108/500\n",
      "\u001B[1m49/49\u001B[0m \u001B[32m━━━━━━━━━━━━━━━━━━━━\u001B[0m\u001B[37m\u001B[0m \u001B[1m0s\u001B[0m 3ms/step - accuracy: 0.7756 - loss: 0.5003 - val_accuracy: 0.6453 - val_loss: 0.8465 - learning_rate: 1.2500e-04\n",
      "Epoch 109/500\n",
      "\u001B[1m49/49\u001B[0m \u001B[32m━━━━━━━━━━━━━━━━━━━━\u001B[0m\u001B[37m\u001B[0m \u001B[1m0s\u001B[0m 3ms/step - accuracy: 0.7683 - loss: 0.4917 - val_accuracy: 0.6570 - val_loss: 0.8500 - learning_rate: 1.2500e-04\n",
      "Epoch 110/500\n",
      "\u001B[1m49/49\u001B[0m \u001B[32m━━━━━━━━━━━━━━━━━━━━\u001B[0m\u001B[37m\u001B[0m \u001B[1m0s\u001B[0m 3ms/step - accuracy: 0.7694 - loss: 0.4988 - val_accuracy: 0.6512 - val_loss: 0.8459 - learning_rate: 1.2500e-04\n",
      "Epoch 111/500\n",
      "\u001B[1m49/49\u001B[0m \u001B[32m━━━━━━━━━━━━━━━━━━━━\u001B[0m\u001B[37m\u001B[0m \u001B[1m0s\u001B[0m 3ms/step - accuracy: 0.7727 - loss: 0.5124 - val_accuracy: 0.6686 - val_loss: 0.8434 - learning_rate: 1.2500e-04\n",
      "Epoch 112/500\n",
      "\u001B[1m49/49\u001B[0m \u001B[32m━━━━━━━━━━━━━━━━━━━━\u001B[0m\u001B[37m\u001B[0m \u001B[1m0s\u001B[0m 3ms/step - accuracy: 0.7801 - loss: 0.4859 - val_accuracy: 0.6657 - val_loss: 0.8486 - learning_rate: 1.2500e-04\n",
      "Epoch 113/500\n",
      "\u001B[1m49/49\u001B[0m \u001B[32m━━━━━━━━━━━━━━━━━━━━\u001B[0m\u001B[37m\u001B[0m \u001B[1m0s\u001B[0m 3ms/step - accuracy: 0.7761 - loss: 0.4894 - val_accuracy: 0.6541 - val_loss: 0.8445 - learning_rate: 1.2500e-04\n",
      "Epoch 114/500\n",
      "\u001B[1m49/49\u001B[0m \u001B[32m━━━━━━━━━━━━━━━━━━━━\u001B[0m\u001B[37m\u001B[0m \u001B[1m0s\u001B[0m 3ms/step - accuracy: 0.7899 - loss: 0.4703 - val_accuracy: 0.6541 - val_loss: 0.8449 - learning_rate: 1.2500e-04\n",
      "Epoch 115/500\n",
      "\u001B[1m49/49\u001B[0m \u001B[32m━━━━━━━━━━━━━━━━━━━━\u001B[0m\u001B[37m\u001B[0m \u001B[1m0s\u001B[0m 3ms/step - accuracy: 0.7727 - loss: 0.4964 - val_accuracy: 0.6686 - val_loss: 0.8447 - learning_rate: 1.2500e-04\n",
      "Epoch 116/500\n",
      "\u001B[1m49/49\u001B[0m \u001B[32m━━━━━━━━━━━━━━━━━━━━\u001B[0m\u001B[37m\u001B[0m \u001B[1m0s\u001B[0m 3ms/step - accuracy: 0.7855 - loss: 0.4741 - val_accuracy: 0.6337 - val_loss: 0.8486 - learning_rate: 1.2500e-04\n",
      "Epoch 117/500\n",
      "\u001B[1m49/49\u001B[0m \u001B[32m━━━━━━━━━━━━━━━━━━━━\u001B[0m\u001B[37m\u001B[0m \u001B[1m0s\u001B[0m 3ms/step - accuracy: 0.7550 - loss: 0.5091 - val_accuracy: 0.6657 - val_loss: 0.8486 - learning_rate: 6.2500e-05\n",
      "Epoch 118/500\n",
      "\u001B[1m49/49\u001B[0m \u001B[32m━━━━━━━━━━━━━━━━━━━━\u001B[0m\u001B[37m\u001B[0m \u001B[1m0s\u001B[0m 4ms/step - accuracy: 0.7628 - loss: 0.4870 - val_accuracy: 0.6657 - val_loss: 0.8498 - learning_rate: 6.2500e-05\n",
      "Epoch 119/500\n",
      "\u001B[1m49/49\u001B[0m \u001B[32m━━━━━━━━━━━━━━━━━━━━\u001B[0m\u001B[37m\u001B[0m \u001B[1m0s\u001B[0m 3ms/step - accuracy: 0.7749 - loss: 0.4963 - val_accuracy: 0.6686 - val_loss: 0.8533 - learning_rate: 6.2500e-05\n",
      "Epoch 120/500\n",
      "\u001B[1m49/49\u001B[0m \u001B[32m━━━━━━━━━━━━━━━━━━━━\u001B[0m\u001B[37m\u001B[0m \u001B[1m0s\u001B[0m 3ms/step - accuracy: 0.7899 - loss: 0.4704 - val_accuracy: 0.6599 - val_loss: 0.8511 - learning_rate: 6.2500e-05\n",
      "Epoch 121/500\n",
      "\u001B[1m49/49\u001B[0m \u001B[32m━━━━━━━━━━━━━━━━━━━━\u001B[0m\u001B[37m\u001B[0m \u001B[1m0s\u001B[0m 3ms/step - accuracy: 0.7804 - loss: 0.4939 - val_accuracy: 0.6483 - val_loss: 0.8533 - learning_rate: 6.2500e-05\n",
      "Epoch 122/500\n",
      "\u001B[1m49/49\u001B[0m \u001B[32m━━━━━━━━━━━━━━━━━━━━\u001B[0m\u001B[37m\u001B[0m \u001B[1m0s\u001B[0m 3ms/step - accuracy: 0.7775 - loss: 0.4943 - val_accuracy: 0.6599 - val_loss: 0.8552 - learning_rate: 6.2500e-05\n",
      "Epoch 123/500\n",
      "\u001B[1m49/49\u001B[0m \u001B[32m━━━━━━━━━━━━━━━━━━━━\u001B[0m\u001B[37m\u001B[0m \u001B[1m0s\u001B[0m 3ms/step - accuracy: 0.7794 - loss: 0.4788 - val_accuracy: 0.6483 - val_loss: 0.8565 - learning_rate: 6.2500e-05\n",
      "Epoch 124/500\n",
      "\u001B[1m49/49\u001B[0m \u001B[32m━━━━━━━━━━━━━━━━━━━━\u001B[0m\u001B[37m\u001B[0m \u001B[1m0s\u001B[0m 3ms/step - accuracy: 0.7664 - loss: 0.5026 - val_accuracy: 0.6715 - val_loss: 0.8550 - learning_rate: 6.2500e-05\n",
      "Epoch 125/500\n",
      "\u001B[1m49/49\u001B[0m \u001B[32m━━━━━━━━━━━━━━━━━━━━\u001B[0m\u001B[37m\u001B[0m \u001B[1m0s\u001B[0m 3ms/step - accuracy: 0.7791 - loss: 0.4822 - val_accuracy: 0.6657 - val_loss: 0.8521 - learning_rate: 6.2500e-05\n",
      "Epoch 126/500\n",
      "\u001B[1m49/49\u001B[0m \u001B[32m━━━━━━━━━━━━━━━━━━━━\u001B[0m\u001B[37m\u001B[0m \u001B[1m0s\u001B[0m 3ms/step - accuracy: 0.7767 - loss: 0.4797 - val_accuracy: 0.6686 - val_loss: 0.8527 - learning_rate: 6.2500e-05\n",
      "Epoch 127/500\n",
      "\u001B[1m49/49\u001B[0m \u001B[32m━━━━━━━━━━━━━━━━━━━━\u001B[0m\u001B[37m\u001B[0m \u001B[1m0s\u001B[0m 3ms/step - accuracy: 0.7832 - loss: 0.4955 - val_accuracy: 0.6541 - val_loss: 0.8530 - learning_rate: 6.2500e-05\n",
      "Epoch 128/500\n",
      "\u001B[1m49/49\u001B[0m \u001B[32m━━━━━━━━━━━━━━━━━━━━\u001B[0m\u001B[37m\u001B[0m \u001B[1m0s\u001B[0m 3ms/step - accuracy: 0.7843 - loss: 0.4808 - val_accuracy: 0.6744 - val_loss: 0.8601 - learning_rate: 6.2500e-05\n",
      "Epoch 129/500\n",
      "\u001B[1m49/49\u001B[0m \u001B[32m━━━━━━━━━━━━━━━━━━━━\u001B[0m\u001B[37m\u001B[0m \u001B[1m0s\u001B[0m 3ms/step - accuracy: 0.7845 - loss: 0.4781 - val_accuracy: 0.6599 - val_loss: 0.8533 - learning_rate: 6.2500e-05\n",
      "Epoch 130/500\n",
      "\u001B[1m49/49\u001B[0m \u001B[32m━━━━━━━━━━━━━━━━━━━━\u001B[0m\u001B[37m\u001B[0m \u001B[1m0s\u001B[0m 3ms/step - accuracy: 0.7851 - loss: 0.4771 - val_accuracy: 0.6483 - val_loss: 0.8584 - learning_rate: 6.2500e-05\n",
      "Epoch 131/500\n",
      "\u001B[1m49/49\u001B[0m \u001B[32m━━━━━━━━━━━━━━━━━━━━\u001B[0m\u001B[37m\u001B[0m \u001B[1m0s\u001B[0m 3ms/step - accuracy: 0.7777 - loss: 0.4866 - val_accuracy: 0.6599 - val_loss: 0.8560 - learning_rate: 6.2500e-05\n",
      "Epoch 132/500\n",
      "\u001B[1m49/49\u001B[0m \u001B[32m━━━━━━━━━━━━━━━━━━━━\u001B[0m\u001B[37m\u001B[0m \u001B[1m0s\u001B[0m 3ms/step - accuracy: 0.7749 - loss: 0.4954 - val_accuracy: 0.6599 - val_loss: 0.8578 - learning_rate: 6.2500e-05\n",
      "Epoch 133/500\n",
      "\u001B[1m49/49\u001B[0m \u001B[32m━━━━━━━━━━━━━━━━━━━━\u001B[0m\u001B[37m\u001B[0m \u001B[1m0s\u001B[0m 3ms/step - accuracy: 0.7783 - loss: 0.4939 - val_accuracy: 0.6599 - val_loss: 0.8517 - learning_rate: 6.2500e-05\n",
      "Epoch 134/500\n",
      "\u001B[1m49/49\u001B[0m \u001B[32m━━━━━━━━━━━━━━━━━━━━\u001B[0m\u001B[37m\u001B[0m \u001B[1m0s\u001B[0m 3ms/step - accuracy: 0.7701 - loss: 0.4935 - val_accuracy: 0.6483 - val_loss: 0.8647 - learning_rate: 6.2500e-05\n",
      "Epoch 135/500\n",
      "\u001B[1m49/49\u001B[0m \u001B[32m━━━━━━━━━━━━━━━━━━━━\u001B[0m\u001B[37m\u001B[0m \u001B[1m0s\u001B[0m 3ms/step - accuracy: 0.7863 - loss: 0.4691 - val_accuracy: 0.6744 - val_loss: 0.8576 - learning_rate: 6.2500e-05\n",
      "Epoch 136/500\n",
      "\u001B[1m49/49\u001B[0m \u001B[32m━━━━━━━━━━━━━━━━━━━━\u001B[0m\u001B[37m\u001B[0m \u001B[1m0s\u001B[0m 3ms/step - accuracy: 0.7897 - loss: 0.4624 - val_accuracy: 0.6570 - val_loss: 0.8547 - learning_rate: 6.2500e-05\n",
      "Epoch 137/500\n",
      "\u001B[1m49/49\u001B[0m \u001B[32m━━━━━━━━━━━━━━━━━━━━\u001B[0m\u001B[37m\u001B[0m \u001B[1m0s\u001B[0m 3ms/step - accuracy: 0.7955 - loss: 0.4596 - val_accuracy: 0.6570 - val_loss: 0.8579 - learning_rate: 3.1250e-05\n",
      "Epoch 138/500\n",
      "\u001B[1m49/49\u001B[0m \u001B[32m━━━━━━━━━━━━━━━━━━━━\u001B[0m\u001B[37m\u001B[0m \u001B[1m0s\u001B[0m 3ms/step - accuracy: 0.7810 - loss: 0.4838 - val_accuracy: 0.6599 - val_loss: 0.8570 - learning_rate: 3.1250e-05\n",
      "Epoch 139/500\n",
      "\u001B[1m49/49\u001B[0m \u001B[32m━━━━━━━━━━━━━━━━━━━━\u001B[0m\u001B[37m\u001B[0m \u001B[1m0s\u001B[0m 3ms/step - accuracy: 0.7958 - loss: 0.4607 - val_accuracy: 0.6628 - val_loss: 0.8558 - learning_rate: 3.1250e-05\n",
      "Epoch 140/500\n",
      "\u001B[1m49/49\u001B[0m \u001B[32m━━━━━━━━━━━━━━━━━━━━\u001B[0m\u001B[37m\u001B[0m \u001B[1m0s\u001B[0m 3ms/step - accuracy: 0.7874 - loss: 0.4640 - val_accuracy: 0.6599 - val_loss: 0.8555 - learning_rate: 3.1250e-05\n",
      "Epoch 141/500\n",
      "\u001B[1m49/49\u001B[0m \u001B[32m━━━━━━━━━━━━━━━━━━━━\u001B[0m\u001B[37m\u001B[0m \u001B[1m0s\u001B[0m 3ms/step - accuracy: 0.7729 - loss: 0.4823 - val_accuracy: 0.6657 - val_loss: 0.8566 - learning_rate: 3.1250e-05\n",
      "Epoch 142/500\n",
      "\u001B[1m49/49\u001B[0m \u001B[32m━━━━━━━━━━━━━━━━━━━━\u001B[0m\u001B[37m\u001B[0m \u001B[1m0s\u001B[0m 3ms/step - accuracy: 0.7926 - loss: 0.4749 - val_accuracy: 0.6599 - val_loss: 0.8569 - learning_rate: 3.1250e-05\n",
      "Epoch 143/500\n",
      "\u001B[1m49/49\u001B[0m \u001B[32m━━━━━━━━━━━━━━━━━━━━\u001B[0m\u001B[37m\u001B[0m \u001B[1m0s\u001B[0m 3ms/step - accuracy: 0.7978 - loss: 0.4628 - val_accuracy: 0.6570 - val_loss: 0.8576 - learning_rate: 3.1250e-05\n",
      "Epoch 144/500\n",
      "\u001B[1m49/49\u001B[0m \u001B[32m━━━━━━━━━━━━━━━━━━━━\u001B[0m\u001B[37m\u001B[0m \u001B[1m0s\u001B[0m 3ms/step - accuracy: 0.7859 - loss: 0.4839 - val_accuracy: 0.6541 - val_loss: 0.8585 - learning_rate: 3.1250e-05\n",
      "Epoch 145/500\n",
      "\u001B[1m49/49\u001B[0m \u001B[32m━━━━━━━━━━━━━━━━━━━━\u001B[0m\u001B[37m\u001B[0m \u001B[1m0s\u001B[0m 3ms/step - accuracy: 0.7759 - loss: 0.4753 - val_accuracy: 0.6599 - val_loss: 0.8583 - learning_rate: 3.1250e-05\n",
      "Epoch 146/500\n",
      "\u001B[1m49/49\u001B[0m \u001B[32m━━━━━━━━━━━━━━━━━━━━\u001B[0m\u001B[37m\u001B[0m \u001B[1m0s\u001B[0m 3ms/step - accuracy: 0.7829 - loss: 0.4698 - val_accuracy: 0.6599 - val_loss: 0.8587 - learning_rate: 3.1250e-05\n",
      "Epoch 147/500\n",
      "\u001B[1m49/49\u001B[0m \u001B[32m━━━━━━━━━━━━━━━━━━━━\u001B[0m\u001B[37m\u001B[0m \u001B[1m0s\u001B[0m 3ms/step - accuracy: 0.7890 - loss: 0.4828 - val_accuracy: 0.6628 - val_loss: 0.8582 - learning_rate: 3.1250e-05\n",
      "Epoch 148/500\n",
      "\u001B[1m49/49\u001B[0m \u001B[32m━━━━━━━━━━━━━━━━━━━━\u001B[0m\u001B[37m\u001B[0m \u001B[1m0s\u001B[0m 3ms/step - accuracy: 0.7742 - loss: 0.4755 - val_accuracy: 0.6483 - val_loss: 0.8613 - learning_rate: 3.1250e-05\n",
      "Epoch 149/500\n",
      "\u001B[1m49/49\u001B[0m \u001B[32m━━━━━━━━━━━━━━━━━━━━\u001B[0m\u001B[37m\u001B[0m \u001B[1m0s\u001B[0m 3ms/step - accuracy: 0.7884 - loss: 0.4755 - val_accuracy: 0.6570 - val_loss: 0.8580 - learning_rate: 3.1250e-05\n",
      "Epoch 150/500\n",
      "\u001B[1m49/49\u001B[0m \u001B[32m━━━━━━━━━━━━━━━━━━━━\u001B[0m\u001B[37m\u001B[0m \u001B[1m0s\u001B[0m 3ms/step - accuracy: 0.7857 - loss: 0.4758 - val_accuracy: 0.6570 - val_loss: 0.8607 - learning_rate: 3.1250e-05\n",
      "Epoch 151/500\n",
      "\u001B[1m49/49\u001B[0m \u001B[32m━━━━━━━━━━━━━━━━━━━━\u001B[0m\u001B[37m\u001B[0m \u001B[1m0s\u001B[0m 3ms/step - accuracy: 0.7953 - loss: 0.4749 - val_accuracy: 0.6599 - val_loss: 0.8612 - learning_rate: 3.1250e-05\n",
      "Epoch 152/500\n",
      "\u001B[1m49/49\u001B[0m \u001B[32m━━━━━━━━━━━━━━━━━━━━\u001B[0m\u001B[37m\u001B[0m \u001B[1m0s\u001B[0m 3ms/step - accuracy: 0.7869 - loss: 0.4883 - val_accuracy: 0.6599 - val_loss: 0.8597 - learning_rate: 3.1250e-05\n",
      "Epoch 153/500\n",
      "\u001B[1m49/49\u001B[0m \u001B[32m━━━━━━━━━━━━━━━━━━━━\u001B[0m\u001B[37m\u001B[0m \u001B[1m0s\u001B[0m 3ms/step - accuracy: 0.7945 - loss: 0.4722 - val_accuracy: 0.6570 - val_loss: 0.8613 - learning_rate: 3.1250e-05\n",
      "Epoch 154/500\n",
      "\u001B[1m49/49\u001B[0m \u001B[32m━━━━━━━━━━━━━━━━━━━━\u001B[0m\u001B[37m\u001B[0m \u001B[1m0s\u001B[0m 3ms/step - accuracy: 0.7918 - loss: 0.4839 - val_accuracy: 0.6599 - val_loss: 0.8608 - learning_rate: 3.1250e-05\n",
      "Epoch 155/500\n",
      "\u001B[1m49/49\u001B[0m \u001B[32m━━━━━━━━━━━━━━━━━━━━\u001B[0m\u001B[37m\u001B[0m \u001B[1m0s\u001B[0m 3ms/step - accuracy: 0.7858 - loss: 0.4716 - val_accuracy: 0.6541 - val_loss: 0.8598 - learning_rate: 3.1250e-05\n",
      "Epoch 156/500\n",
      "\u001B[1m49/49\u001B[0m \u001B[32m━━━━━━━━━━━━━━━━━━━━\u001B[0m\u001B[37m\u001B[0m \u001B[1m0s\u001B[0m 3ms/step - accuracy: 0.7769 - loss: 0.4805 - val_accuracy: 0.6512 - val_loss: 0.8620 - learning_rate: 3.1250e-05\n",
      "Epoch 156: early stopping\n",
      "Restoring model weights from the end of the best epoch: 56.\n",
      "Model trained in 30.914123s.\n",
      "This is 0.515235min.\n"
     ]
    }
   ],
   "source": [
    "from torch.utils.benchmark import timer\n",
    "\n",
    "# fit the keras model on the dataset\n",
    "startTime = timer()\n",
    "history = model.fit(X_train, y_train, epochs=500, callbacks=[es_callback, reduce_lr], validation_data=(X_val, y_val), batch_size=64, verbose=1)# , class_weight=class_weight_dict)\n",
    "\n",
    "endTime = timer()\n",
    "print(\"Model trained in {:f}s.\".format(endTime - startTime))\n",
    "print(\"This is {:f}min.\".format((endTime - startTime)/60))"
   ],
   "metadata": {
    "collapsed": false,
    "ExecuteTime": {
     "end_time": "2024-05-30T07:03:18.058890Z",
     "start_time": "2024-05-30T07:02:43.224256Z"
    }
   },
   "id": "c838c202efbda00f",
   "execution_count": 20
  },
  {
   "cell_type": "code",
   "outputs": [
    {
     "name": "stdout",
     "output_type": "stream",
     "text": [
      "\u001B[1m12/12\u001B[0m \u001B[32m━━━━━━━━━━━━━━━━━━━━\u001B[0m\u001B[37m\u001B[0m \u001B[1m0s\u001B[0m 15ms/step\n",
      "Shape of predictions: (382, 1, 6)\n",
      "Shape of y_test: (382, 1, 6)\n",
      "Shape of predictions after reshaping: (382, 6)\n",
      "Shape of y_test after reshaping: (382, 6)\n",
      "Shape of predicted_classes: (382,)\n",
      "Shape of true_classes: (382,)\n"
     ]
    },
    {
     "data": {
      "text/plain": "<Figure size 640x480 with 2 Axes>",
      "image/png": "[encoded data removed]"
     },
     "metadata": {},
     "output_type": "display_data"
    }
   ],
   "source": [
    "# Predict on the test data\n",
    "from sklearn.metrics import confusion_matrix, ConfusionMatrixDisplay\n",
    "import matplotlib.pyplot as plt\n",
    "\n",
    "# Assuming X_test and y_test are already defined and preprocessed\n",
    "# Predict on the test data\n",
    "predictions = model.predict(X_test)\n",
    "\n",
    "# Print the shapes to debug\n",
    "print(f\"Shape of predictions: {predictions.shape}\")\n",
    "print(f\"Shape of y_test: {y_test.shape}\")\n",
    "\n",
    "# Reshape the predictions and y_test to remove the extra dimension\n",
    "predictions = predictions.reshape(predictions.shape[0], predictions.shape[2])\n",
    "y_test = y_test.reshape(y_test.shape[0], y_test.shape[2])\n",
    "\n",
    "# Print the shapes to debug\n",
    "print(f\"Shape of predictions after reshaping: {predictions.shape}\")\n",
    "print(f\"Shape of y_test after reshaping: {y_test.shape}\")\n",
    "\n",
    "# Convert predictions and true labels to class indices\n",
    "predicted_classes = np.argmax(predictions, axis=1)\n",
    "true_classes = np.argmax(y_test, axis=1)\n",
    "\n",
    "# Print the shapes to debug\n",
    "print(f\"Shape of predicted_classes: {predicted_classes.shape}\")\n",
    "print(f\"Shape of true_classes: {true_classes.shape}\")\n",
    "\n",
    "# Generate the confusion matrix\n",
    "cm = confusion_matrix(true_classes, predicted_classes)\n",
    "\n",
    "# Display the confusion matrix\n",
    "disp = ConfusionMatrixDisplay(confusion_matrix=cm)\n",
    "disp.plot(cmap=plt.cm.Blues)\n",
    "plt.xlabel('Predicted Label')\n",
    "plt.ylabel('True Label')\n",
    "plt.title('Confusion Matrix')\n",
    "plt.show()"
   ],
   "metadata": {
    "collapsed": false,
    "ExecuteTime": {
     "end_time": "2024-05-30T07:03:25.371822Z",
     "start_time": "2024-05-30T07:03:24.199535Z"
    }
   },
   "id": "4882a101ec9de4f2",
   "execution_count": 21
  },
  {
   "cell_type": "code",
   "outputs": [],
   "source": [],
   "metadata": {
    "collapsed": false,
    "ExecuteTime": {
     "end_time": "2024-05-29T14:43:52.096913Z",
     "start_time": "2024-05-29T14:43:52.094834Z"
    }
   },
   "id": "652e0a1f124c745c",
   "execution_count": 20
  }
 ],
 "metadata": {
  "kernelspec": {
   "display_name": "Python 3",
   "language": "python",
   "name": "python3"
  },
  "language_info": {
   "codemirror_mode": {
    "name": "ipython",
    "version": 2
   },
   "file_extension": ".py",
   "mimetype": "text/x-python",
   "name": "python",
   "nbconvert_exporter": "python",
   "pygments_lexer": "ipython2",
   "version": "2.7.6"
  }
 },
 "nbformat": 4,
 "nbformat_minor": 5
}

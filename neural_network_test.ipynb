{
 "cells": [
  {
   "cell_type": "code",
   "execution_count": 1,
   "id": "initial_id",
   "metadata": {
    "collapsed": true,
    "ExecuteTime": {
     "end_time": "2024-05-31T08:46:05.773610Z",
     "start_time": "2024-05-31T08:46:03.475196Z"
    }
   },
   "outputs": [],
   "source": [
    "import os\n",
    "\n",
    "import keras\n",
    "import pandas as pd\n",
    "import numpy as np\n",
    "from sklearn.preprocessing import OneHotEncoder"
   ]
  },
  {
   "cell_type": "code",
   "outputs": [],
   "source": [
    "def find_feature_extraction_files(directory):\n",
    "    \"\"\"\n",
    "    Searches for 'feature_extraction.csv' files within each subdirectory of a given directory.\n",
    "    \n",
    "    Args:\n",
    "    directory (str): The path to the directory to search within.\n",
    "    \n",
    "    Returns:\n",
    "    list: A list of full paths to each 'feature_extraction.csv' file found.\n",
    "    \"\"\"\n",
    "    csv_files = []\n",
    "    # Walk through each subdirectory in the provided directory\n",
    "    for root, dirs, files in os.walk(directory):\n",
    "        # Check if 'feature_extraction.csv' is in the files list\n",
    "        if 'feature_extraction.csv' in files:\n",
    "            # Construct full path and add to the list\n",
    "            full_path = os.path.join(root, 'feature_extraction.csv')\n",
    "            csv_files.append(full_path)\n",
    "            \n",
    "    return csv_files\n"
   ],
   "metadata": {
    "collapsed": false,
    "ExecuteTime": {
     "end_time": "2024-05-31T08:46:05.779112Z",
     "start_time": "2024-05-31T08:46:05.774613Z"
    }
   },
   "id": "28e9436a6188da87",
   "execution_count": 2
  },
  {
   "cell_type": "code",
   "outputs": [],
   "source": [
    "def read_csv(data_file_path):\n",
    "    \n",
    "    df_read_file = pd.read_csv(data_file_path)\n",
    "    df_Acc = df_read_file.loc[:, :\"Label\"]\n",
    "    X_data = df_Acc.to_numpy()\n",
    "    \n",
    "    y_data = df_read_file.loc[:,\"Label\"]\n",
    "    y_data = np.around(y_data, decimals=0)\n",
    "\n",
    "    return X_data, y_data\n",
    "\n",
    "def normalize_positions(data):\n",
    "    posX_columns = [0] + list(range(4, 22))   # Adjusted for 0-based indexing: Columns 0 and 4 to 21 for PosX normalization\n",
    "    posY_columns = [1] + list(range(22, 39))  # Adjusted for 0-based indexing: Columns 1 and 22 to 38 for PosY normalization\n",
    "    \n",
    "    # Normalize PosX columns\n",
    "    data[:, posX_columns] = data[:, posX_columns] / 1920\n",
    "    # Normalize PosY columns\n",
    "    data[:, posY_columns] = data[:, posY_columns] / 1080\n",
    "            \n",
    "    return data\n",
    "\n",
    "def handle_indices(data, indexes_of_labels, label_value=0, label_col=0):\n",
    "    # Ensure data is a single column NumPy array\n",
    "    data = data[:, label_col] if data.ndim > 1 else data\n",
    "    \n",
    "\n",
    "    found_indexes = set(indexes_of_labels)  # Using a set to avoid duplicates\n",
    "\n",
    "    if indexes_of_labels:\n",
    "        # Handling '0' label exactly 3 lines before the first label\n",
    "        first_label_index = indexes_of_labels[0]\n",
    "        target_index_before_first = first_label_index - 3\n",
    "        if 0 <= target_index_before_first < len(data) and data[target_index_before_first] == label_value:\n",
    "            found_indexes.add(target_index_before_first)\n",
    "\n",
    "        # Handling '0' label exactly 3 lines after the last label\n",
    "        last_label_index = indexes_of_labels[-1]\n",
    "        target_index_after_last = last_label_index + 3\n",
    "        if 0 <= target_index_after_last < len(data) and data[target_index_after_last] == label_value:\n",
    "            found_indexes.add(target_index_after_last)\n",
    "\n",
    "        # Handling the '0' label in the middle between given label indices\n",
    "        for i in range(len(indexes_of_labels) - 1):\n",
    "            start_index = indexes_of_labels[i]\n",
    "            end_index = indexes_of_labels[i + 1]\n",
    "            middle_index = (start_index + end_index) // 2\n",
    "            if data[middle_index] == label_value:\n",
    "                found_indexes.add(middle_index)\n",
    "\n",
    "    # Convert set to a sorted list\n",
    "    sorted_indexes = sorted(found_indexes)\n",
    "    \n",
    "    return sorted_indexes\n",
    "\n",
    "\n",
    "def lstm_data_transform(x_data, y_data, keys, num_steps=6):\n",
    "    X, y = list(), list()\n",
    "    \n",
    "    # Loop over the provided end indexes\n",
    "    for end_ix in keys:\n",
    "        # Calculate the start index for the current window\n",
    "        start_ix = end_ix - num_steps + 1\n",
    "        \n",
    "        # Ensure the start index is not negative\n",
    "        if start_ix < 0:\n",
    "            continue\n",
    "        \n",
    "        # Get a sequence of data for x\n",
    "        seq_X = x_data[start_ix:end_ix + 1, :-1]\n",
    "        \n",
    "        # Check if the sequence has the correct number of steps\n",
    "        if seq_X.shape[0] == num_steps:\n",
    "\n",
    "            # Append the sequence and target to the lists\n",
    "            X.append(seq_X)\n",
    "    \n",
    "    # Convert the lists to numpy arrays\n",
    "    x_array = np.array(X)\n",
    "    y_array = np.array([0, 1, 0, 2, 0, 3, 0, 4, 0, 5, 0])\n",
    "    \n",
    "    return x_array, y_array"
   ],
   "metadata": {
    "collapsed": false,
    "ExecuteTime": {
     "end_time": "2024-05-31T08:46:05.789127Z",
     "start_time": "2024-05-31T08:46:05.780148Z"
    }
   },
   "id": "da493681d88ab4cd",
   "execution_count": 3
  },
  {
   "cell_type": "code",
   "outputs": [],
   "source": [
    "def extract_relevant_rows(csv_path):\n",
    "    x_array, y_array = read_csv(csv_path)\n",
    "    \n",
    "    # Normalize the position columns\n",
    "    x_array = normalize_positions(x_array)\n",
    "\n",
    "    # Define the values to check\n",
    "    values_to_check = {1, 2, 3, 4, 5}\n",
    "\n",
    "    # Find the indexes of values in y_array that are in values_to_check\n",
    "    indexes_of_labels = [index for index, value in enumerate(y_array) if value in values_to_check]\n",
    "\n",
    "    sorted_indices = handle_indices(y_array, indexes_of_labels)\n",
    "    \n",
    "    # print('Sorted indices: ', sorted_indices)\n",
    "    \n",
    "    if len(sorted_indices) <= 10:\n",
    "        \n",
    "        print(csv_path)\n",
    "\n",
    "    x_data, y_data = lstm_data_transform(x_array, y_array, sorted_indices, num_steps=6)\n",
    "\n",
    "    return x_data, y_data\n"
   ],
   "metadata": {
    "collapsed": false,
    "ExecuteTime": {
     "end_time": "2024-05-31T08:46:05.794023Z",
     "start_time": "2024-05-31T08:46:05.790180Z"
    }
   },
   "id": "578cb930756e4b7b",
   "execution_count": 4
  },
  {
   "cell_type": "code",
   "outputs": [
    {
     "name": "stdout",
     "output_type": "stream",
     "text": [
      "347\n"
     ]
    }
   ],
   "source": [
    "# Example of how to call this function for one CSV file\n",
    "file_paths = find_feature_extraction_files('Frames')\n",
    "\n",
    "print(len(file_paths))\n"
   ],
   "metadata": {
    "collapsed": false,
    "ExecuteTime": {
     "end_time": "2024-05-31T08:46:05.881886Z",
     "start_time": "2024-05-31T08:46:05.796026Z"
    }
   },
   "id": "62f0c3905190c28f",
   "execution_count": 5
  },
  {
   "cell_type": "code",
   "outputs": [
    {
     "name": "stdout",
     "output_type": "stream",
     "text": [
      "(3817, 6, 55)\n",
      "(3817,)\n"
     ]
    }
   ],
   "source": [
    "num_of_steps = 6\n",
    "num_of_input_signals = 55\n",
    "\n",
    "X_data = np.empty([0, num_of_steps, num_of_input_signals], dtype=\"float32\")\n",
    "y_data = np.empty([0], dtype=\"float32\")\n",
    "\n",
    "for file_path in file_paths:\n",
    "    \n",
    "    data, labels = extract_relevant_rows(file_path)\n",
    "    \n",
    "    # print(labels.shape)\n",
    "    \n",
    "    X_data = np.append(X_data, data[:], axis=0)\n",
    "    \n",
    "    # print(labels.shape)\n",
    "    y_data = np.append(y_data, labels, axis=0)\n",
    "    \n",
    "print(X_data.shape)   # This should show (x, 6, 55) if  everything is correctly configured\n",
    "print(y_data.shape)  \n"
   ],
   "metadata": {
    "collapsed": false,
    "ExecuteTime": {
     "end_time": "2024-05-31T08:46:07.249576Z",
     "start_time": "2024-05-31T08:46:05.882889Z"
    }
   },
   "id": "fb4673351a70bbe6",
   "execution_count": 6
  },
  {
   "cell_type": "code",
   "outputs": [],
   "source": [
    "def one_hot_encode_labels(y_data):\n",
    "    encoder = OneHotEncoder(sparse_output=False)\n",
    "    y_data_encoded = encoder.fit_transform(y_data)\n",
    "\n",
    "    return y_data_encoded"
   ],
   "metadata": {
    "collapsed": false,
    "ExecuteTime": {
     "end_time": "2024-05-31T08:46:07.253221Z",
     "start_time": "2024-05-31T08:46:07.249576Z"
    }
   },
   "id": "c8e58440bc43804c",
   "execution_count": 7
  },
  {
   "cell_type": "code",
   "outputs": [
    {
     "name": "stdout",
     "output_type": "stream",
     "text": [
      "[[1. 0. 0. 0. 0. 0.]\n",
      " [0. 1. 0. 0. 0. 0.]\n",
      " [1. 0. 0. 0. 0. 0.]\n",
      " ...\n",
      " [1. 0. 0. 0. 0. 0.]\n",
      " [0. 0. 0. 0. 0. 1.]\n",
      " [1. 0. 0. 0. 0. 0.]]\n",
      "y_data shape: (3817, 6)\n"
     ]
    }
   ],
   "source": [
    "# # # One-hot encode the labels\n",
    "# final_labels_encoded = one_hot_encode_labels(y_data.reshape(-1,1))\n",
    "\n",
    "final_labels_encoded = keras.utils.to_categorical(y_data, num_classes=6)\n",
    "\n",
    "print(final_labels_encoded)\n",
    "\n",
    "# print('x_data shape:', final_data.shape)\n",
    "print('y_data shape:', final_labels_encoded.shape)\n"
   ],
   "metadata": {
    "collapsed": false,
    "ExecuteTime": {
     "end_time": "2024-05-31T08:46:07.258753Z",
     "start_time": "2024-05-31T08:46:07.254252Z"
    }
   },
   "id": "bf8044007422d6cc",
   "execution_count": 8
  },
  {
   "cell_type": "code",
   "outputs": [
    {
     "name": "stdout",
     "output_type": "stream",
     "text": [
      "Train data shape: (3091, 6, 55)\n",
      "Train labels shape: (3091, 6)\n",
      "------------------------------------\n",
      "\n",
      "Test data shape: (382, 6, 55)\n",
      "Test labels shape: (382, 6)\n",
      "------------------------------------\n",
      "\n",
      "Validation data shape: (344, 6, 55)\n",
      "Validation labels shape: (344, 6)\n"
     ]
    }
   ],
   "source": [
    "# splits = custom_k_fold_split(x_data_flat, y_data_flat, n_splits=5, window_size=num_of_steps)\n",
    "\n",
    "from sklearn.model_selection import StratifiedShuffleSplit\n",
    "\n",
    "sss = StratifiedShuffleSplit(n_splits=1, test_size=0.10, random_state=42)\n",
    "    \n",
    "for train_index, test_index in sss.split(X_data, y_data): \n",
    "    X_train_pre, X_test = X_data[train_index], X_data[test_index] \n",
    "    y_train_pre, y_test = final_labels_encoded[train_index], final_labels_encoded[test_index] \n",
    "    \n",
    "for train_index, val_index in sss.split(X_train_pre, y_train_pre):\n",
    "    X_train, X_val = X_train_pre[train_index], X_train_pre[val_index] \n",
    "    y_train, y_val = y_train_pre[train_index], y_train_pre[val_index] \n",
    "\n",
    "# y_test.resize(y_test.shape[0],1,y_test.shape[1])\n",
    "# y_train.resize(y_train.shape[0],1, y_train.shape[1])\n",
    "# y_val.resize(y_val.shape[0],1, y_val.shape[1])\n",
    "    \n",
    "print(\"Train data shape:\", X_train.shape)\n",
    "print(\"Train labels shape:\", y_train.shape)\n",
    "print(\"------------------------------------\\n\")\n",
    "print(\"Test data shape:\", X_test.shape)\n",
    "print(\"Test labels shape:\", y_test.shape)\n",
    "print(\"------------------------------------\\n\")\n",
    "print(\"Validation data shape:\", X_val.shape)\n",
    "print(\"Validation labels shape:\", y_val.shape)\n"
   ],
   "metadata": {
    "collapsed": false,
    "ExecuteTime": {
     "end_time": "2024-05-31T08:46:07.327723Z",
     "start_time": "2024-05-31T08:46:07.259764Z"
    }
   },
   "id": "fd4990ecf7cc8cf8",
   "execution_count": 9
  },
  {
   "cell_type": "code",
   "outputs": [],
   "source": [
    "from tensorflow.keras.optimizers import Adam, RMSprop \n",
    "\n",
    "from tensorflow.keras.regularizers import l1_l2, l2\n",
    "\n",
    "########################################################\n",
    "from tensorflow.keras.layers import Conv1D, MaxPooling1D, Flatten, LSTM, Dense, InputLayer, Reshape, TimeDistributed, Dropout, BatchNormalization, Bidirectional\n",
    "\n",
    "# Define the CNN-LSTM model\n",
    "model = keras.Sequential()\n",
    "\n",
    "# Input layer - assumes input_shape is defined appropriately for your data\n",
    "# For example, input_shape could be (sequence_length, features_per_step)\n",
    "model.add(InputLayer(shape=(6, 55)))\n",
    "# Batch Normalization layer before LSTM to normalize inputs\n",
    "model.add(BatchNormalization())\n",
    "\n",
    "# Adding a Bidirectional LSTM layer with L2 regularization\n",
    "# Note: Adjust the `l2` regularization strength as needed\n",
    "model.add(Bidirectional(LSTM(100, return_sequences=True, dropout=0.3, recurrent_dropout=0.3, kernel_regularizer=l1_l2(l1=1e-5, l2=0.001))))\n",
    "# Adding another Bidirectional LSTM layer\n",
    "model.add(Bidirectional(LSTM(100, return_sequences=False, dropout=0.3,recurrent_dropout=0.3)))\n",
    "\n",
    "# Output layer - assuming a classification problem with 6 classes\n",
    "model.add(Dense(6, activation='softmax'))\n",
    "\n",
    "\n",
    "###########################################################\n",
    "# model.add(InputLayer(shape=(6, 55)))\n",
    "# model.add(Dense(128, activation='relu', kernel_regularizer=l1_l2(l1=1e-5, l2=1e-4)))\n",
    "# model.add(Dense(64, activation='relu', kernel_regularizer=l1_l2(l1=1e-5, l2=1e-4)))\n",
    "# \n",
    "# # Ensure the kernel size is smaller than the sequence length\n",
    "# model.add(Conv1D(32, 5, activation='relu'))\n",
    "# model.add(MaxPooling1D(pool_size=1))  # Reduce the sequence length by a factor of 2\n",
    "# model.add(Conv1D(16, 2, activation='relu'))\n",
    "# \n",
    "# # Since MaxPooling1D and Conv1D layers have reduced the sequence length, we need to adjust for the LSTM layer\n",
    "# model.add(LSTM(16, activation='tanh', return_sequences=True))\n",
    "# model.add(Dropout(0.5))\n",
    "# \n",
    "# model.add(Dense(64, activation='relu'))\n",
    "# model.add(Dense(32, activation='relu'))\n",
    "# model.add(Dense(6, activation='softmax'))"
   ],
   "metadata": {
    "collapsed": false,
    "ExecuteTime": {
     "end_time": "2024-05-31T08:46:07.444775Z",
     "start_time": "2024-05-31T08:46:07.328722Z"
    }
   },
   "id": "60465be6f3b2ac2a",
   "execution_count": 10
  },
  {
   "cell_type": "code",
   "outputs": [],
   "source": [
    "\n",
    "# from collections import Counter\n",
    "# y_train_integers = np.argmax(y_train, axis=1)\n",
    "# \n",
    "# class_counts = Counter(y_train_integers)\n",
    "# total_samples = sum(class_counts.values())\n",
    "# class_frequencies = {k: v / total_samples for k, v in class_counts.items()}\n",
    "# print(class_frequencies) \n",
    "# \n",
    "# class_weights = {class_id: 1.0 / freq for class_id, freq in class_frequencies.items()}\n",
    "# \n",
    "# weight_total = sum(class_weights.values())\n",
    "# normalized_class_weights = {class_id: weight * len(class_weights) / weight_total for class_id, weight in class_weights.items()}\n",
    "# \n",
    "# #normalized_class_weights[0] = 0.4  # Adjust this based on your specific needs, perhaps even higher\n",
    "# \n",
    "# print('Class weights: ', normalized_class_weights)\n"
   ],
   "metadata": {
    "collapsed": false,
    "ExecuteTime": {
     "end_time": "2024-05-31T08:46:07.448796Z",
     "start_time": "2024-05-31T08:46:07.444775Z"
    }
   },
   "id": "187bb074e8d28226",
   "execution_count": 11
  },
  {
   "cell_type": "code",
   "outputs": [],
   "source": [
    "# from sklearn.utils.class_weight import compute_class_weight\n",
    "# \n",
    "# print(y_train.shape)\n",
    "# \n",
    "# if y_train.shape[1] == 1:\n",
    "#     y_squeezed = np.squeeze(y_train, axis=1)\n",
    "#     y_weighted = np.argmax(y_squeezed, axis=1)\n",
    "# else:\n",
    "#     y_weighted = np.argmax(y_train, axis=1)\n",
    "# \n",
    "# class_weights = compute_class_weight('balanced', classes=np.unique(y_weighted), y=y_weighted)\n",
    "# \n",
    "# class_weight_dict = dict(enumerate(class_weights))\n",
    "# \n",
    "# print(class_weight_dict)"
   ],
   "metadata": {
    "collapsed": false,
    "ExecuteTime": {
     "end_time": "2024-05-31T08:46:07.452948Z",
     "start_time": "2024-05-31T08:46:07.449803Z"
    }
   },
   "id": "af92cda95fa5d38d",
   "execution_count": 12
  },
  {
   "cell_type": "code",
   "outputs": [],
   "source": [
    "# Compile the model\n",
    "model.compile(optimizer=RMSprop(learning_rate=0.001), loss='categorical_crossentropy', metrics=['accuracy'])"
   ],
   "metadata": {
    "collapsed": false,
    "ExecuteTime": {
     "end_time": "2024-05-31T08:46:07.464421Z",
     "start_time": "2024-05-31T08:46:07.453953Z"
    }
   },
   "id": "98b4440b35fecb69",
   "execution_count": 13
  },
  {
   "cell_type": "code",
   "outputs": [
    {
     "data": {
      "text/plain": "\u001B[1mModel: \"sequential\"\u001B[0m\n",
      "text/html": "<pre style=\"white-space:pre;overflow-x:auto;line-height:normal;font-family:Menlo,'DejaVu Sans Mono',consolas,'Courier New',monospace\"><span style=\"font-weight: bold\">Model: \"sequential\"</span>\n</pre>\n"
     },
     "metadata": {},
     "output_type": "display_data"
    },
    {
     "data": {
      "text/plain": "┏━━━━━━━━━━━━━━━━━━━━━━━━━━━━━━━━━┳━━━━━━━━━━━━━━━━━━━━━━━━┳━━━━━━━━━━━━━━━┓\n┃\u001B[1m \u001B[0m\u001B[1mLayer (type)                   \u001B[0m\u001B[1m \u001B[0m┃\u001B[1m \u001B[0m\u001B[1mOutput Shape          \u001B[0m\u001B[1m \u001B[0m┃\u001B[1m \u001B[0m\u001B[1m      Param #\u001B[0m\u001B[1m \u001B[0m┃\n┡━━━━━━━━━━━━━━━━━━━━━━━━━━━━━━━━━╇━━━━━━━━━━━━━━━━━━━━━━━━╇━━━━━━━━━━━━━━━┩\n│ batch_normalization             │ (\u001B[38;5;45mNone\u001B[0m, \u001B[38;5;34m6\u001B[0m, \u001B[38;5;34m55\u001B[0m)          │           \u001B[38;5;34m220\u001B[0m │\n│ (\u001B[38;5;33mBatchNormalization\u001B[0m)            │                        │               │\n├─────────────────────────────────┼────────────────────────┼───────────────┤\n│ bidirectional (\u001B[38;5;33mBidirectional\u001B[0m)   │ (\u001B[38;5;45mNone\u001B[0m, \u001B[38;5;34m6\u001B[0m, \u001B[38;5;34m200\u001B[0m)         │       \u001B[38;5;34m124,800\u001B[0m │\n├─────────────────────────────────┼────────────────────────┼───────────────┤\n│ bidirectional_1 (\u001B[38;5;33mBidirectional\u001B[0m) │ (\u001B[38;5;45mNone\u001B[0m, \u001B[38;5;34m200\u001B[0m)            │       \u001B[38;5;34m240,800\u001B[0m │\n├─────────────────────────────────┼────────────────────────┼───────────────┤\n│ dense (\u001B[38;5;33mDense\u001B[0m)                   │ (\u001B[38;5;45mNone\u001B[0m, \u001B[38;5;34m6\u001B[0m)              │         \u001B[38;5;34m1,206\u001B[0m │\n└─────────────────────────────────┴────────────────────────┴───────────────┘\n",
      "text/html": "<pre style=\"white-space:pre;overflow-x:auto;line-height:normal;font-family:Menlo,'DejaVu Sans Mono',consolas,'Courier New',monospace\">┏━━━━━━━━━━━━━━━━━━━━━━━━━━━━━━━━━┳━━━━━━━━━━━━━━━━━━━━━━━━┳━━━━━━━━━━━━━━━┓\n┃<span style=\"font-weight: bold\"> Layer (type)                    </span>┃<span style=\"font-weight: bold\"> Output Shape           </span>┃<span style=\"font-weight: bold\">       Param # </span>┃\n┡━━━━━━━━━━━━━━━━━━━━━━━━━━━━━━━━━╇━━━━━━━━━━━━━━━━━━━━━━━━╇━━━━━━━━━━━━━━━┩\n│ batch_normalization             │ (<span style=\"color: #00d7ff; text-decoration-color: #00d7ff\">None</span>, <span style=\"color: #00af00; text-decoration-color: #00af00\">6</span>, <span style=\"color: #00af00; text-decoration-color: #00af00\">55</span>)          │           <span style=\"color: #00af00; text-decoration-color: #00af00\">220</span> │\n│ (<span style=\"color: #0087ff; text-decoration-color: #0087ff\">BatchNormalization</span>)            │                        │               │\n├─────────────────────────────────┼────────────────────────┼───────────────┤\n│ bidirectional (<span style=\"color: #0087ff; text-decoration-color: #0087ff\">Bidirectional</span>)   │ (<span style=\"color: #00d7ff; text-decoration-color: #00d7ff\">None</span>, <span style=\"color: #00af00; text-decoration-color: #00af00\">6</span>, <span style=\"color: #00af00; text-decoration-color: #00af00\">200</span>)         │       <span style=\"color: #00af00; text-decoration-color: #00af00\">124,800</span> │\n├─────────────────────────────────┼────────────────────────┼───────────────┤\n│ bidirectional_1 (<span style=\"color: #0087ff; text-decoration-color: #0087ff\">Bidirectional</span>) │ (<span style=\"color: #00d7ff; text-decoration-color: #00d7ff\">None</span>, <span style=\"color: #00af00; text-decoration-color: #00af00\">200</span>)            │       <span style=\"color: #00af00; text-decoration-color: #00af00\">240,800</span> │\n├─────────────────────────────────┼────────────────────────┼───────────────┤\n│ dense (<span style=\"color: #0087ff; text-decoration-color: #0087ff\">Dense</span>)                   │ (<span style=\"color: #00d7ff; text-decoration-color: #00d7ff\">None</span>, <span style=\"color: #00af00; text-decoration-color: #00af00\">6</span>)              │         <span style=\"color: #00af00; text-decoration-color: #00af00\">1,206</span> │\n└─────────────────────────────────┴────────────────────────┴───────────────┘\n</pre>\n"
     },
     "metadata": {},
     "output_type": "display_data"
    },
    {
     "data": {
      "text/plain": "\u001B[1m Total params: \u001B[0m\u001B[38;5;34m367,026\u001B[0m (1.40 MB)\n",
      "text/html": "<pre style=\"white-space:pre;overflow-x:auto;line-height:normal;font-family:Menlo,'DejaVu Sans Mono',consolas,'Courier New',monospace\"><span style=\"font-weight: bold\"> Total params: </span><span style=\"color: #00af00; text-decoration-color: #00af00\">367,026</span> (1.40 MB)\n</pre>\n"
     },
     "metadata": {},
     "output_type": "display_data"
    },
    {
     "data": {
      "text/plain": "\u001B[1m Trainable params: \u001B[0m\u001B[38;5;34m366,916\u001B[0m (1.40 MB)\n",
      "text/html": "<pre style=\"white-space:pre;overflow-x:auto;line-height:normal;font-family:Menlo,'DejaVu Sans Mono',consolas,'Courier New',monospace\"><span style=\"font-weight: bold\"> Trainable params: </span><span style=\"color: #00af00; text-decoration-color: #00af00\">366,916</span> (1.40 MB)\n</pre>\n"
     },
     "metadata": {},
     "output_type": "display_data"
    },
    {
     "data": {
      "text/plain": "\u001B[1m Non-trainable params: \u001B[0m\u001B[38;5;34m110\u001B[0m (440.00 B)\n",
      "text/html": "<pre style=\"white-space:pre;overflow-x:auto;line-height:normal;font-family:Menlo,'DejaVu Sans Mono',consolas,'Courier New',monospace\"><span style=\"font-weight: bold\"> Non-trainable params: </span><span style=\"color: #00af00; text-decoration-color: #00af00\">110</span> (440.00 B)\n</pre>\n"
     },
     "metadata": {},
     "output_type": "display_data"
    }
   ],
   "source": [
    "# Print the model summary\n",
    "model.summary()"
   ],
   "metadata": {
    "collapsed": false,
    "ExecuteTime": {
     "end_time": "2024-05-31T08:46:07.481459Z",
     "start_time": "2024-05-31T08:46:07.466422Z"
    }
   },
   "id": "999a2fb827c2b148",
   "execution_count": 14
  },
  {
   "cell_type": "code",
   "outputs": [],
   "source": [
    "import datetime\n",
    "\n",
    "now = datetime.datetime.now()"
   ],
   "metadata": {
    "collapsed": false,
    "ExecuteTime": {
     "end_time": "2024-05-31T08:46:07.484907Z",
     "start_time": "2024-05-31T08:46:07.482462Z"
    }
   },
   "id": "6f6dfd6ee894f299",
   "execution_count": 15
  },
  {
   "cell_type": "code",
   "outputs": [],
   "source": [
    "from keras.src.callbacks import EarlyStopping, ReduceLROnPlateau\n",
    "\n",
    "\n",
    "es_callback = EarlyStopping(monitor='val_loss', mode='min', patience=50, verbose=1, restore_best_weights=True)\n",
    "reduce_lr = ReduceLROnPlateau(monitor='val_loss', factor=0.3, patience=15)"
   ],
   "metadata": {
    "collapsed": false,
    "ExecuteTime": {
     "end_time": "2024-05-31T08:46:07.489405Z",
     "start_time": "2024-05-31T08:46:07.485910Z"
    }
   },
   "id": "3a0b94183492e344",
   "execution_count": 16
  },
  {
   "cell_type": "code",
   "outputs": [
    {
     "name": "stdout",
     "output_type": "stream",
     "text": [
      "Epoch 1/250\n",
      "\u001B[1m97/97\u001B[0m \u001B[32m━━━━━━━━━━━━━━━━━━━━\u001B[0m\u001B[37m\u001B[0m \u001B[1m5s\u001B[0m 12ms/step - accuracy: 0.4755 - loss: 1.4660 - val_accuracy: 0.5233 - val_loss: 1.8138 - learning_rate: 0.0010\n",
      "Epoch 2/250\n",
      "\u001B[1m97/97\u001B[0m \u001B[32m━━━━━━━━━━━━━━━━━━━━\u001B[0m\u001B[37m\u001B[0m \u001B[1m1s\u001B[0m 5ms/step - accuracy: 0.5728 - loss: 1.0910 - val_accuracy: 0.5436 - val_loss: 1.3201 - learning_rate: 0.0010\n",
      "Epoch 3/250\n",
      "\u001B[1m97/97\u001B[0m \u001B[32m━━━━━━━━━━━━━━━━━━━━\u001B[0m\u001B[37m\u001B[0m \u001B[1m1s\u001B[0m 5ms/step - accuracy: 0.6196 - loss: 0.9910 - val_accuracy: 0.5349 - val_loss: 1.2658 - learning_rate: 0.0010\n",
      "Epoch 4/250\n",
      "\u001B[1m97/97\u001B[0m \u001B[32m━━━━━━━━━━━━━━━━━━━━\u001B[0m\u001B[37m\u001B[0m \u001B[1m1s\u001B[0m 5ms/step - accuracy: 0.6088 - loss: 0.9490 - val_accuracy: 0.6105 - val_loss: 1.0209 - learning_rate: 0.0010\n",
      "Epoch 5/250\n",
      "\u001B[1m97/97\u001B[0m \u001B[32m━━━━━━━━━━━━━━━━━━━━\u001B[0m\u001B[37m\u001B[0m \u001B[1m1s\u001B[0m 5ms/step - accuracy: 0.6496 - loss: 0.9005 - val_accuracy: 0.5581 - val_loss: 0.9848 - learning_rate: 0.0010\n",
      "Epoch 6/250\n",
      "\u001B[1m97/97\u001B[0m \u001B[32m━━━━━━━━━━━━━━━━━━━━\u001B[0m\u001B[37m\u001B[0m \u001B[1m1s\u001B[0m 5ms/step - accuracy: 0.6545 - loss: 0.8473 - val_accuracy: 0.6308 - val_loss: 0.9156 - learning_rate: 0.0010\n",
      "Epoch 7/250\n",
      "\u001B[1m97/97\u001B[0m \u001B[32m━━━━━━━━━━━━━━━━━━━━\u001B[0m\u001B[37m\u001B[0m \u001B[1m1s\u001B[0m 5ms/step - accuracy: 0.6395 - loss: 0.8410 - val_accuracy: 0.6395 - val_loss: 0.9374 - learning_rate: 0.0010\n",
      "Epoch 8/250\n",
      "\u001B[1m97/97\u001B[0m \u001B[32m━━━━━━━━━━━━━━━━━━━━\u001B[0m\u001B[37m\u001B[0m \u001B[1m1s\u001B[0m 6ms/step - accuracy: 0.6397 - loss: 0.8324 - val_accuracy: 0.6599 - val_loss: 0.8510 - learning_rate: 0.0010\n",
      "Epoch 9/250\n",
      "\u001B[1m97/97\u001B[0m \u001B[32m━━━━━━━━━━━━━━━━━━━━\u001B[0m\u001B[37m\u001B[0m \u001B[1m1s\u001B[0m 5ms/step - accuracy: 0.6449 - loss: 0.8305 - val_accuracy: 0.6570 - val_loss: 0.8515 - learning_rate: 0.0010\n",
      "Epoch 10/250\n",
      "\u001B[1m97/97\u001B[0m \u001B[32m━━━━━━━━━━━━━━━━━━━━\u001B[0m\u001B[37m\u001B[0m \u001B[1m1s\u001B[0m 5ms/step - accuracy: 0.6622 - loss: 0.8165 - val_accuracy: 0.6715 - val_loss: 0.8176 - learning_rate: 0.0010\n",
      "Epoch 11/250\n",
      "\u001B[1m97/97\u001B[0m \u001B[32m━━━━━━━━━━━━━━━━━━━━\u001B[0m\u001B[37m\u001B[0m \u001B[1m1s\u001B[0m 6ms/step - accuracy: 0.6335 - loss: 0.8087 - val_accuracy: 0.6599 - val_loss: 0.8318 - learning_rate: 0.0010\n",
      "Epoch 12/250\n",
      "\u001B[1m97/97\u001B[0m \u001B[32m━━━━━━━━━━━━━━━━━━━━\u001B[0m\u001B[37m\u001B[0m \u001B[1m1s\u001B[0m 5ms/step - accuracy: 0.6655 - loss: 0.7631 - val_accuracy: 0.6744 - val_loss: 0.7862 - learning_rate: 0.0010\n",
      "Epoch 13/250\n",
      "\u001B[1m97/97\u001B[0m \u001B[32m━━━━━━━━━━━━━━━━━━━━\u001B[0m\u001B[37m\u001B[0m \u001B[1m1s\u001B[0m 5ms/step - accuracy: 0.6888 - loss: 0.7326 - val_accuracy: 0.6570 - val_loss: 0.8142 - learning_rate: 0.0010\n",
      "Epoch 14/250\n",
      "\u001B[1m97/97\u001B[0m \u001B[32m━━━━━━━━━━━━━━━━━━━━\u001B[0m\u001B[37m\u001B[0m \u001B[1m1s\u001B[0m 6ms/step - accuracy: 0.6677 - loss: 0.7738 - val_accuracy: 0.6628 - val_loss: 0.8064 - learning_rate: 0.0010\n",
      "Epoch 15/250\n",
      "\u001B[1m97/97\u001B[0m \u001B[32m━━━━━━━━━━━━━━━━━━━━\u001B[0m\u001B[37m\u001B[0m \u001B[1m1s\u001B[0m 5ms/step - accuracy: 0.6633 - loss: 0.7573 - val_accuracy: 0.6570 - val_loss: 0.7946 - learning_rate: 0.0010\n",
      "Epoch 16/250\n",
      "\u001B[1m97/97\u001B[0m \u001B[32m━━━━━━━━━━━━━━━━━━━━\u001B[0m\u001B[37m\u001B[0m \u001B[1m1s\u001B[0m 5ms/step - accuracy: 0.6816 - loss: 0.7169 - val_accuracy: 0.6715 - val_loss: 0.7913 - learning_rate: 0.0010\n",
      "Epoch 17/250\n",
      "\u001B[1m97/97\u001B[0m \u001B[32m━━━━━━━━━━━━━━━━━━━━\u001B[0m\u001B[37m\u001B[0m \u001B[1m1s\u001B[0m 5ms/step - accuracy: 0.6671 - loss: 0.7321 - val_accuracy: 0.6802 - val_loss: 0.7544 - learning_rate: 0.0010\n",
      "Epoch 18/250\n",
      "\u001B[1m97/97\u001B[0m \u001B[32m━━━━━━━━━━━━━━━━━━━━\u001B[0m\u001B[37m\u001B[0m \u001B[1m1s\u001B[0m 5ms/step - accuracy: 0.6974 - loss: 0.7109 - val_accuracy: 0.6744 - val_loss: 0.7755 - learning_rate: 0.0010\n",
      "Epoch 19/250\n",
      "\u001B[1m97/97\u001B[0m \u001B[32m━━━━━━━━━━━━━━━━━━━━\u001B[0m\u001B[37m\u001B[0m \u001B[1m1s\u001B[0m 5ms/step - accuracy: 0.6912 - loss: 0.6901 - val_accuracy: 0.6686 - val_loss: 0.7830 - learning_rate: 0.0010\n",
      "Epoch 20/250\n",
      "\u001B[1m97/97\u001B[0m \u001B[32m━━━━━━━━━━━━━━━━━━━━\u001B[0m\u001B[37m\u001B[0m \u001B[1m1s\u001B[0m 5ms/step - accuracy: 0.6737 - loss: 0.7163 - val_accuracy: 0.7151 - val_loss: 0.7817 - learning_rate: 0.0010\n",
      "Epoch 21/250\n",
      "\u001B[1m97/97\u001B[0m \u001B[32m━━━━━━━━━━━━━━━━━━━━\u001B[0m\u001B[37m\u001B[0m \u001B[1m1s\u001B[0m 5ms/step - accuracy: 0.6877 - loss: 0.7010 - val_accuracy: 0.7064 - val_loss: 0.7626 - learning_rate: 0.0010\n",
      "Epoch 22/250\n",
      "\u001B[1m97/97\u001B[0m \u001B[32m━━━━━━━━━━━━━━━━━━━━\u001B[0m\u001B[37m\u001B[0m \u001B[1m1s\u001B[0m 5ms/step - accuracy: 0.6871 - loss: 0.7094 - val_accuracy: 0.7355 - val_loss: 0.7471 - learning_rate: 0.0010\n",
      "Epoch 23/250\n",
      "\u001B[1m97/97\u001B[0m \u001B[32m━━━━━━━━━━━━━━━━━━━━\u001B[0m\u001B[37m\u001B[0m \u001B[1m1s\u001B[0m 6ms/step - accuracy: 0.6876 - loss: 0.6877 - val_accuracy: 0.7238 - val_loss: 0.7338 - learning_rate: 0.0010\n",
      "Epoch 24/250\n",
      "\u001B[1m97/97\u001B[0m \u001B[32m━━━━━━━━━━━━━━━━━━━━\u001B[0m\u001B[37m\u001B[0m \u001B[1m1s\u001B[0m 5ms/step - accuracy: 0.6980 - loss: 0.6781 - val_accuracy: 0.7093 - val_loss: 0.7354 - learning_rate: 0.0010\n",
      "Epoch 25/250\n",
      "\u001B[1m97/97\u001B[0m \u001B[32m━━━━━━━━━━━━━━━━━━━━\u001B[0m\u001B[37m\u001B[0m \u001B[1m1s\u001B[0m 5ms/step - accuracy: 0.7076 - loss: 0.6588 - val_accuracy: 0.6599 - val_loss: 0.7731 - learning_rate: 0.0010\n",
      "Epoch 26/250\n",
      "\u001B[1m97/97\u001B[0m \u001B[32m━━━━━━━━━━━━━━━━━━━━\u001B[0m\u001B[37m\u001B[0m \u001B[1m1s\u001B[0m 5ms/step - accuracy: 0.7184 - loss: 0.6541 - val_accuracy: 0.6802 - val_loss: 0.7433 - learning_rate: 0.0010\n",
      "Epoch 27/250\n",
      "\u001B[1m97/97\u001B[0m \u001B[32m━━━━━━━━━━━━━━━━━━━━\u001B[0m\u001B[37m\u001B[0m \u001B[1m1s\u001B[0m 5ms/step - accuracy: 0.7054 - loss: 0.6858 - val_accuracy: 0.7413 - val_loss: 0.7337 - learning_rate: 0.0010\n",
      "Epoch 28/250\n",
      "\u001B[1m97/97\u001B[0m \u001B[32m━━━━━━━━━━━━━━━━━━━━\u001B[0m\u001B[37m\u001B[0m \u001B[1m1s\u001B[0m 5ms/step - accuracy: 0.7097 - loss: 0.6570 - val_accuracy: 0.7064 - val_loss: 0.7671 - learning_rate: 0.0010\n",
      "Epoch 29/250\n",
      "\u001B[1m97/97\u001B[0m \u001B[32m━━━━━━━━━━━━━━━━━━━━\u001B[0m\u001B[37m\u001B[0m \u001B[1m1s\u001B[0m 5ms/step - accuracy: 0.7219 - loss: 0.6494 - val_accuracy: 0.6686 - val_loss: 0.7965 - learning_rate: 0.0010\n",
      "Epoch 30/250\n",
      "\u001B[1m97/97\u001B[0m \u001B[32m━━━━━━━━━━━━━━━━━━━━\u001B[0m\u001B[37m\u001B[0m \u001B[1m1s\u001B[0m 5ms/step - accuracy: 0.7193 - loss: 0.6611 - val_accuracy: 0.6890 - val_loss: 0.7901 - learning_rate: 0.0010\n",
      "Epoch 31/250\n",
      "\u001B[1m97/97\u001B[0m \u001B[32m━━━━━━━━━━━━━━━━━━━━\u001B[0m\u001B[37m\u001B[0m \u001B[1m1s\u001B[0m 5ms/step - accuracy: 0.7050 - loss: 0.6661 - val_accuracy: 0.7529 - val_loss: 0.7111 - learning_rate: 0.0010\n",
      "Epoch 32/250\n",
      "\u001B[1m97/97\u001B[0m \u001B[32m━━━━━━━━━━━━━━━━━━━━\u001B[0m\u001B[37m\u001B[0m \u001B[1m1s\u001B[0m 6ms/step - accuracy: 0.7005 - loss: 0.6699 - val_accuracy: 0.7645 - val_loss: 0.7052 - learning_rate: 0.0010\n",
      "Epoch 33/250\n",
      "\u001B[1m97/97\u001B[0m \u001B[32m━━━━━━━━━━━━━━━━━━━━\u001B[0m\u001B[37m\u001B[0m \u001B[1m1s\u001B[0m 5ms/step - accuracy: 0.7204 - loss: 0.6443 - val_accuracy: 0.7209 - val_loss: 0.7131 - learning_rate: 0.0010\n",
      "Epoch 34/250\n",
      "\u001B[1m97/97\u001B[0m \u001B[32m━━━━━━━━━━━━━━━━━━━━\u001B[0m\u001B[37m\u001B[0m \u001B[1m1s\u001B[0m 5ms/step - accuracy: 0.7341 - loss: 0.6172 - val_accuracy: 0.7645 - val_loss: 0.7202 - learning_rate: 0.0010\n",
      "Epoch 35/250\n",
      "\u001B[1m97/97\u001B[0m \u001B[32m━━━━━━━━━━━━━━━━━━━━\u001B[0m\u001B[37m\u001B[0m \u001B[1m1s\u001B[0m 5ms/step - accuracy: 0.7310 - loss: 0.6285 - val_accuracy: 0.7326 - val_loss: 0.7382 - learning_rate: 0.0010\n",
      "Epoch 36/250\n",
      "\u001B[1m97/97\u001B[0m \u001B[32m━━━━━━━━━━━━━━━━━━━━\u001B[0m\u001B[37m\u001B[0m \u001B[1m1s\u001B[0m 5ms/step - accuracy: 0.7270 - loss: 0.6397 - val_accuracy: 0.7413 - val_loss: 0.7159 - learning_rate: 0.0010\n",
      "Epoch 37/250\n",
      "\u001B[1m97/97\u001B[0m \u001B[32m━━━━━━━━━━━━━━━━━━━━\u001B[0m\u001B[37m\u001B[0m \u001B[1m1s\u001B[0m 5ms/step - accuracy: 0.7411 - loss: 0.6221 - val_accuracy: 0.7703 - val_loss: 0.7121 - learning_rate: 0.0010\n",
      "Epoch 38/250\n",
      "\u001B[1m97/97\u001B[0m \u001B[32m━━━━━━━━━━━━━━━━━━━━\u001B[0m\u001B[37m\u001B[0m \u001B[1m1s\u001B[0m 6ms/step - accuracy: 0.7219 - loss: 0.6446 - val_accuracy: 0.7180 - val_loss: 0.7282 - learning_rate: 0.0010\n",
      "Epoch 39/250\n",
      "\u001B[1m97/97\u001B[0m \u001B[32m━━━━━━━━━━━━━━━━━━━━\u001B[0m\u001B[37m\u001B[0m \u001B[1m1s\u001B[0m 5ms/step - accuracy: 0.7381 - loss: 0.6184 - val_accuracy: 0.7297 - val_loss: 0.7242 - learning_rate: 0.0010\n",
      "Epoch 40/250\n",
      "\u001B[1m97/97\u001B[0m \u001B[32m━━━━━━━━━━━━━━━━━━━━\u001B[0m\u001B[37m\u001B[0m \u001B[1m1s\u001B[0m 6ms/step - accuracy: 0.7305 - loss: 0.6212 - val_accuracy: 0.7297 - val_loss: 0.6858 - learning_rate: 0.0010\n",
      "Epoch 41/250\n",
      "\u001B[1m97/97\u001B[0m \u001B[32m━━━━━━━━━━━━━━━━━━━━\u001B[0m\u001B[37m\u001B[0m \u001B[1m1s\u001B[0m 6ms/step - accuracy: 0.7383 - loss: 0.6103 - val_accuracy: 0.7587 - val_loss: 0.6721 - learning_rate: 0.0010\n",
      "Epoch 42/250\n",
      "\u001B[1m97/97\u001B[0m \u001B[32m━━━━━━━━━━━━━━━━━━━━\u001B[0m\u001B[37m\u001B[0m \u001B[1m1s\u001B[0m 5ms/step - accuracy: 0.7395 - loss: 0.6176 - val_accuracy: 0.7355 - val_loss: 0.7027 - learning_rate: 0.0010\n",
      "Epoch 43/250\n",
      "\u001B[1m97/97\u001B[0m \u001B[32m━━━━━━━━━━━━━━━━━━━━\u001B[0m\u001B[37m\u001B[0m \u001B[1m1s\u001B[0m 5ms/step - accuracy: 0.7567 - loss: 0.6012 - val_accuracy: 0.7238 - val_loss: 0.6896 - learning_rate: 0.0010\n",
      "Epoch 44/250\n",
      "\u001B[1m97/97\u001B[0m \u001B[32m━━━━━━━━━━━━━━━━━━━━\u001B[0m\u001B[37m\u001B[0m \u001B[1m1s\u001B[0m 6ms/step - accuracy: 0.7474 - loss: 0.5838 - val_accuracy: 0.7297 - val_loss: 0.7032 - learning_rate: 0.0010\n",
      "Epoch 45/250\n",
      "\u001B[1m97/97\u001B[0m \u001B[32m━━━━━━━━━━━━━━━━━━━━\u001B[0m\u001B[37m\u001B[0m \u001B[1m1s\u001B[0m 5ms/step - accuracy: 0.7516 - loss: 0.5840 - val_accuracy: 0.7442 - val_loss: 0.6933 - learning_rate: 0.0010\n",
      "Epoch 46/250\n",
      "\u001B[1m97/97\u001B[0m \u001B[32m━━━━━━━━━━━━━━━━━━━━\u001B[0m\u001B[37m\u001B[0m \u001B[1m1s\u001B[0m 5ms/step - accuracy: 0.7363 - loss: 0.5980 - val_accuracy: 0.7064 - val_loss: 0.7353 - learning_rate: 0.0010\n",
      "Epoch 47/250\n",
      "\u001B[1m97/97\u001B[0m \u001B[32m━━━━━━━━━━━━━━━━━━━━\u001B[0m\u001B[37m\u001B[0m \u001B[1m1s\u001B[0m 5ms/step - accuracy: 0.7434 - loss: 0.5966 - val_accuracy: 0.7297 - val_loss: 0.6844 - learning_rate: 0.0010\n",
      "Epoch 48/250\n",
      "\u001B[1m97/97\u001B[0m \u001B[32m━━━━━━━━━━━━━━━━━━━━\u001B[0m\u001B[37m\u001B[0m \u001B[1m1s\u001B[0m 5ms/step - accuracy: 0.7212 - loss: 0.6382 - val_accuracy: 0.7151 - val_loss: 0.7139 - learning_rate: 0.0010\n",
      "Epoch 49/250\n",
      "\u001B[1m97/97\u001B[0m \u001B[32m━━━━━━━━━━━━━━━━━━━━\u001B[0m\u001B[37m\u001B[0m \u001B[1m1s\u001B[0m 5ms/step - accuracy: 0.7566 - loss: 0.5797 - val_accuracy: 0.7384 - val_loss: 0.7016 - learning_rate: 0.0010\n",
      "Epoch 50/250\n",
      "\u001B[1m97/97\u001B[0m \u001B[32m━━━━━━━━━━━━━━━━━━━━\u001B[0m\u001B[37m\u001B[0m \u001B[1m1s\u001B[0m 6ms/step - accuracy: 0.7541 - loss: 0.5783 - val_accuracy: 0.7355 - val_loss: 0.7127 - learning_rate: 0.0010\n",
      "Epoch 51/250\n",
      "\u001B[1m97/97\u001B[0m \u001B[32m━━━━━━━━━━━━━━━━━━━━\u001B[0m\u001B[37m\u001B[0m \u001B[1m1s\u001B[0m 6ms/step - accuracy: 0.7376 - loss: 0.5891 - val_accuracy: 0.7326 - val_loss: 0.6997 - learning_rate: 0.0010\n",
      "Epoch 52/250\n",
      "\u001B[1m97/97\u001B[0m \u001B[32m━━━━━━━━━━━━━━━━━━━━\u001B[0m\u001B[37m\u001B[0m \u001B[1m1s\u001B[0m 5ms/step - accuracy: 0.7571 - loss: 0.5975 - val_accuracy: 0.7180 - val_loss: 0.7130 - learning_rate: 0.0010\n",
      "Epoch 53/250\n",
      "\u001B[1m97/97\u001B[0m \u001B[32m━━━━━━━━━━━━━━━━━━━━\u001B[0m\u001B[37m\u001B[0m \u001B[1m1s\u001B[0m 6ms/step - accuracy: 0.7634 - loss: 0.5680 - val_accuracy: 0.7326 - val_loss: 0.6927 - learning_rate: 0.0010\n",
      "Epoch 54/250\n",
      "\u001B[1m97/97\u001B[0m \u001B[32m━━━━━━━━━━━━━━━━━━━━\u001B[0m\u001B[37m\u001B[0m \u001B[1m1s\u001B[0m 5ms/step - accuracy: 0.7454 - loss: 0.6049 - val_accuracy: 0.7849 - val_loss: 0.6744 - learning_rate: 0.0010\n",
      "Epoch 55/250\n",
      "\u001B[1m97/97\u001B[0m \u001B[32m━━━━━━━━━━━━━━━━━━━━\u001B[0m\u001B[37m\u001B[0m \u001B[1m1s\u001B[0m 5ms/step - accuracy: 0.7385 - loss: 0.5968 - val_accuracy: 0.7529 - val_loss: 0.6837 - learning_rate: 0.0010\n",
      "Epoch 56/250\n",
      "\u001B[1m97/97\u001B[0m \u001B[32m━━━━━━━━━━━━━━━━━━━━\u001B[0m\u001B[37m\u001B[0m \u001B[1m1s\u001B[0m 5ms/step - accuracy: 0.7414 - loss: 0.6032 - val_accuracy: 0.7703 - val_loss: 0.6801 - learning_rate: 0.0010\n",
      "Epoch 57/250\n",
      "\u001B[1m97/97\u001B[0m \u001B[32m━━━━━━━━━━━━━━━━━━━━\u001B[0m\u001B[37m\u001B[0m \u001B[1m1s\u001B[0m 5ms/step - accuracy: 0.7537 - loss: 0.5683 - val_accuracy: 0.7558 - val_loss: 0.6629 - learning_rate: 3.0000e-04\n",
      "Epoch 58/250\n",
      "\u001B[1m97/97\u001B[0m \u001B[32m━━━━━━━━━━━━━━━━━━━━\u001B[0m\u001B[37m\u001B[0m \u001B[1m1s\u001B[0m 5ms/step - accuracy: 0.7771 - loss: 0.5603 - val_accuracy: 0.7936 - val_loss: 0.6577 - learning_rate: 3.0000e-04\n",
      "Epoch 59/250\n",
      "\u001B[1m97/97\u001B[0m \u001B[32m━━━━━━━━━━━━━━━━━━━━\u001B[0m\u001B[37m\u001B[0m \u001B[1m1s\u001B[0m 5ms/step - accuracy: 0.7737 - loss: 0.5297 - val_accuracy: 0.7733 - val_loss: 0.6503 - learning_rate: 3.0000e-04\n",
      "Epoch 60/250\n",
      "\u001B[1m97/97\u001B[0m \u001B[32m━━━━━━━━━━━━━━━━━━━━\u001B[0m\u001B[37m\u001B[0m \u001B[1m1s\u001B[0m 6ms/step - accuracy: 0.7713 - loss: 0.5462 - val_accuracy: 0.7762 - val_loss: 0.6417 - learning_rate: 3.0000e-04\n",
      "Epoch 61/250\n",
      "\u001B[1m97/97\u001B[0m \u001B[32m━━━━━━━━━━━━━━━━━━━━\u001B[0m\u001B[37m\u001B[0m \u001B[1m1s\u001B[0m 6ms/step - accuracy: 0.7483 - loss: 0.5658 - val_accuracy: 0.7733 - val_loss: 0.6478 - learning_rate: 3.0000e-04\n",
      "Epoch 62/250\n",
      "\u001B[1m97/97\u001B[0m \u001B[32m━━━━━━━━━━━━━━━━━━━━\u001B[0m\u001B[37m\u001B[0m \u001B[1m1s\u001B[0m 5ms/step - accuracy: 0.7802 - loss: 0.5347 - val_accuracy: 0.7907 - val_loss: 0.6473 - learning_rate: 3.0000e-04\n",
      "Epoch 63/250\n",
      "\u001B[1m97/97\u001B[0m \u001B[32m━━━━━━━━━━━━━━━━━━━━\u001B[0m\u001B[37m\u001B[0m \u001B[1m1s\u001B[0m 6ms/step - accuracy: 0.7738 - loss: 0.5278 - val_accuracy: 0.7907 - val_loss: 0.6470 - learning_rate: 3.0000e-04\n",
      "Epoch 64/250\n",
      "\u001B[1m97/97\u001B[0m \u001B[32m━━━━━━━━━━━━━━━━━━━━\u001B[0m\u001B[37m\u001B[0m \u001B[1m1s\u001B[0m 6ms/step - accuracy: 0.7833 - loss: 0.5221 - val_accuracy: 0.7733 - val_loss: 0.6396 - learning_rate: 3.0000e-04\n",
      "Epoch 65/250\n",
      "\u001B[1m97/97\u001B[0m \u001B[32m━━━━━━━━━━━━━━━━━━━━\u001B[0m\u001B[37m\u001B[0m \u001B[1m1s\u001B[0m 5ms/step - accuracy: 0.7792 - loss: 0.5471 - val_accuracy: 0.7762 - val_loss: 0.6464 - learning_rate: 3.0000e-04\n",
      "Epoch 66/250\n",
      "\u001B[1m97/97\u001B[0m \u001B[32m━━━━━━━━━━━━━━━━━━━━\u001B[0m\u001B[37m\u001B[0m \u001B[1m1s\u001B[0m 6ms/step - accuracy: 0.7900 - loss: 0.5134 - val_accuracy: 0.7645 - val_loss: 0.6477 - learning_rate: 3.0000e-04\n",
      "Epoch 67/250\n",
      "\u001B[1m97/97\u001B[0m \u001B[32m━━━━━━━━━━━━━━━━━━━━\u001B[0m\u001B[37m\u001B[0m \u001B[1m1s\u001B[0m 6ms/step - accuracy: 0.7920 - loss: 0.5082 - val_accuracy: 0.7820 - val_loss: 0.6524 - learning_rate: 3.0000e-04\n",
      "Epoch 68/250\n",
      "\u001B[1m97/97\u001B[0m \u001B[32m━━━━━━━━━━━━━━━━━━━━\u001B[0m\u001B[37m\u001B[0m \u001B[1m1s\u001B[0m 6ms/step - accuracy: 0.7852 - loss: 0.5192 - val_accuracy: 0.7645 - val_loss: 0.6408 - learning_rate: 3.0000e-04\n",
      "Epoch 69/250\n",
      "\u001B[1m97/97\u001B[0m \u001B[32m━━━━━━━━━━━━━━━━━━━━\u001B[0m\u001B[37m\u001B[0m \u001B[1m1s\u001B[0m 6ms/step - accuracy: 0.7878 - loss: 0.5138 - val_accuracy: 0.7558 - val_loss: 0.6499 - learning_rate: 3.0000e-04\n",
      "Epoch 70/250\n",
      "\u001B[1m97/97\u001B[0m \u001B[32m━━━━━━━━━━━━━━━━━━━━\u001B[0m\u001B[37m\u001B[0m \u001B[1m1s\u001B[0m 5ms/step - accuracy: 0.8001 - loss: 0.4947 - val_accuracy: 0.7442 - val_loss: 0.6616 - learning_rate: 3.0000e-04\n",
      "Epoch 71/250\n",
      "\u001B[1m97/97\u001B[0m \u001B[32m━━━━━━━━━━━━━━━━━━━━\u001B[0m\u001B[37m\u001B[0m \u001B[1m1s\u001B[0m 6ms/step - accuracy: 0.7941 - loss: 0.5104 - val_accuracy: 0.7762 - val_loss: 0.6392 - learning_rate: 3.0000e-04\n",
      "Epoch 72/250\n",
      "\u001B[1m97/97\u001B[0m \u001B[32m━━━━━━━━━━━━━━━━━━━━\u001B[0m\u001B[37m\u001B[0m \u001B[1m1s\u001B[0m 6ms/step - accuracy: 0.7877 - loss: 0.5166 - val_accuracy: 0.7733 - val_loss: 0.6427 - learning_rate: 3.0000e-04\n",
      "Epoch 73/250\n",
      "\u001B[1m97/97\u001B[0m \u001B[32m━━━━━━━━━━━━━━━━━━━━\u001B[0m\u001B[37m\u001B[0m \u001B[1m1s\u001B[0m 6ms/step - accuracy: 0.7819 - loss: 0.5326 - val_accuracy: 0.7703 - val_loss: 0.6427 - learning_rate: 3.0000e-04\n",
      "Epoch 74/250\n",
      "\u001B[1m97/97\u001B[0m \u001B[32m━━━━━━━━━━━━━━━━━━━━\u001B[0m\u001B[37m\u001B[0m \u001B[1m1s\u001B[0m 6ms/step - accuracy: 0.7759 - loss: 0.5219 - val_accuracy: 0.7791 - val_loss: 0.6368 - learning_rate: 3.0000e-04\n",
      "Epoch 75/250\n",
      "\u001B[1m97/97\u001B[0m \u001B[32m━━━━━━━━━━━━━━━━━━━━\u001B[0m\u001B[37m\u001B[0m \u001B[1m1s\u001B[0m 5ms/step - accuracy: 0.7885 - loss: 0.5174 - val_accuracy: 0.7616 - val_loss: 0.6633 - learning_rate: 3.0000e-04\n",
      "Epoch 76/250\n",
      "\u001B[1m97/97\u001B[0m \u001B[32m━━━━━━━━━━━━━━━━━━━━\u001B[0m\u001B[37m\u001B[0m \u001B[1m1s\u001B[0m 6ms/step - accuracy: 0.7806 - loss: 0.5245 - val_accuracy: 0.7820 - val_loss: 0.6497 - learning_rate: 3.0000e-04\n",
      "Epoch 77/250\n",
      "\u001B[1m97/97\u001B[0m \u001B[32m━━━━━━━━━━━━━━━━━━━━\u001B[0m\u001B[37m\u001B[0m \u001B[1m1s\u001B[0m 6ms/step - accuracy: 0.7886 - loss: 0.5078 - val_accuracy: 0.7645 - val_loss: 0.6445 - learning_rate: 3.0000e-04\n",
      "Epoch 78/250\n",
      "\u001B[1m97/97\u001B[0m \u001B[32m━━━━━━━━━━━━━━━━━━━━\u001B[0m\u001B[37m\u001B[0m \u001B[1m1s\u001B[0m 5ms/step - accuracy: 0.7703 - loss: 0.5324 - val_accuracy: 0.7791 - val_loss: 0.6473 - learning_rate: 3.0000e-04\n",
      "Epoch 79/250\n",
      "\u001B[1m97/97\u001B[0m \u001B[32m━━━━━━━━━━━━━━━━━━━━\u001B[0m\u001B[37m\u001B[0m \u001B[1m1s\u001B[0m 5ms/step - accuracy: 0.7666 - loss: 0.5302 - val_accuracy: 0.7645 - val_loss: 0.6630 - learning_rate: 3.0000e-04\n",
      "Epoch 80/250\n",
      "\u001B[1m97/97\u001B[0m \u001B[32m━━━━━━━━━━━━━━━━━━━━\u001B[0m\u001B[37m\u001B[0m \u001B[1m1s\u001B[0m 6ms/step - accuracy: 0.7660 - loss: 0.5450 - val_accuracy: 0.7616 - val_loss: 0.6363 - learning_rate: 3.0000e-04\n",
      "Epoch 81/250\n",
      "\u001B[1m97/97\u001B[0m \u001B[32m━━━━━━━━━━━━━━━━━━━━\u001B[0m\u001B[37m\u001B[0m \u001B[1m1s\u001B[0m 6ms/step - accuracy: 0.8017 - loss: 0.5059 - val_accuracy: 0.7733 - val_loss: 0.6402 - learning_rate: 3.0000e-04\n",
      "Epoch 82/250\n",
      "\u001B[1m97/97\u001B[0m \u001B[32m━━━━━━━━━━━━━━━━━━━━\u001B[0m\u001B[37m\u001B[0m \u001B[1m1s\u001B[0m 6ms/step - accuracy: 0.7770 - loss: 0.5168 - val_accuracy: 0.7820 - val_loss: 0.6451 - learning_rate: 3.0000e-04\n",
      "Epoch 83/250\n",
      "\u001B[1m97/97\u001B[0m \u001B[32m━━━━━━━━━━━━━━━━━━━━\u001B[0m\u001B[37m\u001B[0m \u001B[1m1s\u001B[0m 6ms/step - accuracy: 0.7961 - loss: 0.5046 - val_accuracy: 0.7529 - val_loss: 0.6467 - learning_rate: 3.0000e-04\n",
      "Epoch 84/250\n",
      "\u001B[1m97/97\u001B[0m \u001B[32m━━━━━━━━━━━━━━━━━━━━\u001B[0m\u001B[37m\u001B[0m \u001B[1m1s\u001B[0m 6ms/step - accuracy: 0.7744 - loss: 0.5286 - val_accuracy: 0.7762 - val_loss: 0.6396 - learning_rate: 3.0000e-04\n",
      "Epoch 85/250\n",
      "\u001B[1m97/97\u001B[0m \u001B[32m━━━━━━━━━━━━━━━━━━━━\u001B[0m\u001B[37m\u001B[0m \u001B[1m1s\u001B[0m 6ms/step - accuracy: 0.7714 - loss: 0.5485 - val_accuracy: 0.7762 - val_loss: 0.6490 - learning_rate: 3.0000e-04\n",
      "Epoch 86/250\n",
      "\u001B[1m97/97\u001B[0m \u001B[32m━━━━━━━━━━━━━━━━━━━━\u001B[0m\u001B[37m\u001B[0m \u001B[1m1s\u001B[0m 6ms/step - accuracy: 0.8007 - loss: 0.4955 - val_accuracy: 0.7616 - val_loss: 0.6482 - learning_rate: 3.0000e-04\n",
      "Epoch 87/250\n",
      "\u001B[1m97/97\u001B[0m \u001B[32m━━━━━━━━━━━━━━━━━━━━\u001B[0m\u001B[37m\u001B[0m \u001B[1m1s\u001B[0m 6ms/step - accuracy: 0.7883 - loss: 0.5061 - val_accuracy: 0.7703 - val_loss: 0.6361 - learning_rate: 3.0000e-04\n",
      "Epoch 88/250\n",
      "\u001B[1m97/97\u001B[0m \u001B[32m━━━━━━━━━━━━━━━━━━━━\u001B[0m\u001B[37m\u001B[0m \u001B[1m1s\u001B[0m 5ms/step - accuracy: 0.7904 - loss: 0.4993 - val_accuracy: 0.7616 - val_loss: 0.6432 - learning_rate: 3.0000e-04\n",
      "Epoch 89/250\n",
      "\u001B[1m97/97\u001B[0m \u001B[32m━━━━━━━━━━━━━━━━━━━━\u001B[0m\u001B[37m\u001B[0m \u001B[1m1s\u001B[0m 5ms/step - accuracy: 0.7904 - loss: 0.4777 - val_accuracy: 0.7878 - val_loss: 0.6491 - learning_rate: 3.0000e-04\n",
      "Epoch 90/250\n",
      "\u001B[1m97/97\u001B[0m \u001B[32m━━━━━━━━━━━━━━━━━━━━\u001B[0m\u001B[37m\u001B[0m \u001B[1m1s\u001B[0m 6ms/step - accuracy: 0.7691 - loss: 0.5275 - val_accuracy: 0.7820 - val_loss: 0.6479 - learning_rate: 3.0000e-04\n",
      "Epoch 91/250\n",
      "\u001B[1m97/97\u001B[0m \u001B[32m━━━━━━━━━━━━━━━━━━━━\u001B[0m\u001B[37m\u001B[0m \u001B[1m1s\u001B[0m 5ms/step - accuracy: 0.7980 - loss: 0.4930 - val_accuracy: 0.7791 - val_loss: 0.6481 - learning_rate: 3.0000e-04\n",
      "Epoch 92/250\n",
      "\u001B[1m97/97\u001B[0m \u001B[32m━━━━━━━━━━━━━━━━━━━━\u001B[0m\u001B[37m\u001B[0m \u001B[1m1s\u001B[0m 5ms/step - accuracy: 0.7973 - loss: 0.4944 - val_accuracy: 0.7849 - val_loss: 0.6350 - learning_rate: 3.0000e-04\n",
      "Epoch 93/250\n",
      "\u001B[1m97/97\u001B[0m \u001B[32m━━━━━━━━━━━━━━━━━━━━\u001B[0m\u001B[37m\u001B[0m \u001B[1m1s\u001B[0m 6ms/step - accuracy: 0.7968 - loss: 0.5084 - val_accuracy: 0.7791 - val_loss: 0.6477 - learning_rate: 3.0000e-04\n",
      "Epoch 94/250\n",
      "\u001B[1m97/97\u001B[0m \u001B[32m━━━━━━━━━━━━━━━━━━━━\u001B[0m\u001B[37m\u001B[0m \u001B[1m1s\u001B[0m 5ms/step - accuracy: 0.7902 - loss: 0.5024 - val_accuracy: 0.7791 - val_loss: 0.6412 - learning_rate: 3.0000e-04\n",
      "Epoch 95/250\n",
      "\u001B[1m97/97\u001B[0m \u001B[32m━━━━━━━━━━━━━━━━━━━━\u001B[0m\u001B[37m\u001B[0m \u001B[1m1s\u001B[0m 5ms/step - accuracy: 0.7997 - loss: 0.4923 - val_accuracy: 0.7703 - val_loss: 0.6480 - learning_rate: 3.0000e-04\n",
      "Epoch 96/250\n",
      "\u001B[1m97/97\u001B[0m \u001B[32m━━━━━━━━━━━━━━━━━━━━\u001B[0m\u001B[37m\u001B[0m \u001B[1m1s\u001B[0m 6ms/step - accuracy: 0.8093 - loss: 0.4918 - val_accuracy: 0.7820 - val_loss: 0.6497 - learning_rate: 3.0000e-04\n",
      "Epoch 97/250\n",
      "\u001B[1m97/97\u001B[0m \u001B[32m━━━━━━━━━━━━━━━━━━━━\u001B[0m\u001B[37m\u001B[0m \u001B[1m1s\u001B[0m 6ms/step - accuracy: 0.7973 - loss: 0.4924 - val_accuracy: 0.7820 - val_loss: 0.6602 - learning_rate: 3.0000e-04\n",
      "Epoch 98/250\n",
      "\u001B[1m97/97\u001B[0m \u001B[32m━━━━━━━━━━━━━━━━━━━━\u001B[0m\u001B[37m\u001B[0m \u001B[1m1s\u001B[0m 6ms/step - accuracy: 0.7821 - loss: 0.4963 - val_accuracy: 0.7703 - val_loss: 0.6452 - learning_rate: 3.0000e-04\n",
      "Epoch 99/250\n",
      "\u001B[1m97/97\u001B[0m \u001B[32m━━━━━━━━━━━━━━━━━━━━\u001B[0m\u001B[37m\u001B[0m \u001B[1m1s\u001B[0m 6ms/step - accuracy: 0.7906 - loss: 0.4928 - val_accuracy: 0.7878 - val_loss: 0.6296 - learning_rate: 3.0000e-04\n",
      "Epoch 100/250\n",
      "\u001B[1m97/97\u001B[0m \u001B[32m━━━━━━━━━━━━━━━━━━━━\u001B[0m\u001B[37m\u001B[0m \u001B[1m1s\u001B[0m 6ms/step - accuracy: 0.7898 - loss: 0.5031 - val_accuracy: 0.7703 - val_loss: 0.6535 - learning_rate: 3.0000e-04\n",
      "Epoch 101/250\n",
      "\u001B[1m97/97\u001B[0m \u001B[32m━━━━━━━━━━━━━━━━━━━━\u001B[0m\u001B[37m\u001B[0m \u001B[1m1s\u001B[0m 6ms/step - accuracy: 0.7797 - loss: 0.5001 - val_accuracy: 0.7820 - val_loss: 0.6255 - learning_rate: 3.0000e-04\n",
      "Epoch 102/250\n",
      "\u001B[1m97/97\u001B[0m \u001B[32m━━━━━━━━━━━━━━━━━━━━\u001B[0m\u001B[37m\u001B[0m \u001B[1m1s\u001B[0m 6ms/step - accuracy: 0.7957 - loss: 0.4972 - val_accuracy: 0.7733 - val_loss: 0.6200 - learning_rate: 3.0000e-04\n",
      "Epoch 103/250\n",
      "\u001B[1m97/97\u001B[0m \u001B[32m━━━━━━━━━━━━━━━━━━━━\u001B[0m\u001B[37m\u001B[0m \u001B[1m1s\u001B[0m 6ms/step - accuracy: 0.7894 - loss: 0.5074 - val_accuracy: 0.7820 - val_loss: 0.6302 - learning_rate: 3.0000e-04\n",
      "Epoch 104/250\n",
      "\u001B[1m97/97\u001B[0m \u001B[32m━━━━━━━━━━━━━━━━━━━━\u001B[0m\u001B[37m\u001B[0m \u001B[1m1s\u001B[0m 5ms/step - accuracy: 0.7747 - loss: 0.5100 - val_accuracy: 0.7878 - val_loss: 0.6391 - learning_rate: 3.0000e-04\n",
      "Epoch 105/250\n",
      "\u001B[1m97/97\u001B[0m \u001B[32m━━━━━━━━━━━━━━━━━━━━\u001B[0m\u001B[37m\u001B[0m \u001B[1m1s\u001B[0m 6ms/step - accuracy: 0.7807 - loss: 0.5162 - val_accuracy: 0.7558 - val_loss: 0.6677 - learning_rate: 3.0000e-04\n",
      "Epoch 106/250\n",
      "\u001B[1m97/97\u001B[0m \u001B[32m━━━━━━━━━━━━━━━━━━━━\u001B[0m\u001B[37m\u001B[0m \u001B[1m1s\u001B[0m 6ms/step - accuracy: 0.7795 - loss: 0.5199 - val_accuracy: 0.7936 - val_loss: 0.6283 - learning_rate: 3.0000e-04\n",
      "Epoch 107/250\n",
      "\u001B[1m97/97\u001B[0m \u001B[32m━━━━━━━━━━━━━━━━━━━━\u001B[0m\u001B[37m\u001B[0m \u001B[1m1s\u001B[0m 6ms/step - accuracy: 0.7914 - loss: 0.4953 - val_accuracy: 0.7907 - val_loss: 0.6345 - learning_rate: 3.0000e-04\n",
      "Epoch 108/250\n",
      "\u001B[1m97/97\u001B[0m \u001B[32m━━━━━━━━━━━━━━━━━━━━\u001B[0m\u001B[37m\u001B[0m \u001B[1m1s\u001B[0m 6ms/step - accuracy: 0.7983 - loss: 0.4931 - val_accuracy: 0.7878 - val_loss: 0.6310 - learning_rate: 3.0000e-04\n",
      "Epoch 109/250\n",
      "\u001B[1m97/97\u001B[0m \u001B[32m━━━━━━━━━━━━━━━━━━━━\u001B[0m\u001B[37m\u001B[0m \u001B[1m1s\u001B[0m 5ms/step - accuracy: 0.7955 - loss: 0.4941 - val_accuracy: 0.7994 - val_loss: 0.6259 - learning_rate: 3.0000e-04\n",
      "Epoch 110/250\n",
      "\u001B[1m97/97\u001B[0m \u001B[32m━━━━━━━━━━━━━━━━━━━━\u001B[0m\u001B[37m\u001B[0m \u001B[1m1s\u001B[0m 5ms/step - accuracy: 0.7819 - loss: 0.4925 - val_accuracy: 0.7762 - val_loss: 0.6461 - learning_rate: 3.0000e-04\n",
      "Epoch 111/250\n",
      "\u001B[1m97/97\u001B[0m \u001B[32m━━━━━━━━━━━━━━━━━━━━\u001B[0m\u001B[37m\u001B[0m \u001B[1m1s\u001B[0m 6ms/step - accuracy: 0.7898 - loss: 0.4913 - val_accuracy: 0.7907 - val_loss: 0.6511 - learning_rate: 3.0000e-04\n",
      "Epoch 112/250\n",
      "\u001B[1m97/97\u001B[0m \u001B[32m━━━━━━━━━━━━━━━━━━━━\u001B[0m\u001B[37m\u001B[0m \u001B[1m1s\u001B[0m 6ms/step - accuracy: 0.7969 - loss: 0.4871 - val_accuracy: 0.7471 - val_loss: 0.6652 - learning_rate: 3.0000e-04\n",
      "Epoch 113/250\n",
      "\u001B[1m97/97\u001B[0m \u001B[32m━━━━━━━━━━━━━━━━━━━━\u001B[0m\u001B[37m\u001B[0m \u001B[1m1s\u001B[0m 6ms/step - accuracy: 0.7944 - loss: 0.4933 - val_accuracy: 0.7791 - val_loss: 0.6517 - learning_rate: 3.0000e-04\n",
      "Epoch 114/250\n",
      "\u001B[1m97/97\u001B[0m \u001B[32m━━━━━━━━━━━━━━━━━━━━\u001B[0m\u001B[37m\u001B[0m \u001B[1m1s\u001B[0m 6ms/step - accuracy: 0.7986 - loss: 0.5023 - val_accuracy: 0.7849 - val_loss: 0.6435 - learning_rate: 3.0000e-04\n",
      "Epoch 115/250\n",
      "\u001B[1m97/97\u001B[0m \u001B[32m━━━━━━━━━━━━━━━━━━━━\u001B[0m\u001B[37m\u001B[0m \u001B[1m1s\u001B[0m 5ms/step - accuracy: 0.8089 - loss: 0.4880 - val_accuracy: 0.7674 - val_loss: 0.6496 - learning_rate: 3.0000e-04\n",
      "Epoch 116/250\n",
      "\u001B[1m97/97\u001B[0m \u001B[32m━━━━━━━━━━━━━━━━━━━━\u001B[0m\u001B[37m\u001B[0m \u001B[1m1s\u001B[0m 5ms/step - accuracy: 0.7963 - loss: 0.4791 - val_accuracy: 0.7587 - val_loss: 0.6562 - learning_rate: 3.0000e-04\n",
      "Epoch 117/250\n",
      "\u001B[1m97/97\u001B[0m \u001B[32m━━━━━━━━━━━━━━━━━━━━\u001B[0m\u001B[37m\u001B[0m \u001B[1m1s\u001B[0m 5ms/step - accuracy: 0.7982 - loss: 0.4810 - val_accuracy: 0.7878 - val_loss: 0.6297 - learning_rate: 3.0000e-04\n",
      "Epoch 118/250\n",
      "\u001B[1m97/97\u001B[0m \u001B[32m━━━━━━━━━━━━━━━━━━━━\u001B[0m\u001B[37m\u001B[0m \u001B[1m1s\u001B[0m 5ms/step - accuracy: 0.7977 - loss: 0.4841 - val_accuracy: 0.7674 - val_loss: 0.6354 - learning_rate: 9.0000e-05\n",
      "Epoch 119/250\n",
      "\u001B[1m97/97\u001B[0m \u001B[32m━━━━━━━━━━━━━━━━━━━━\u001B[0m\u001B[37m\u001B[0m \u001B[1m1s\u001B[0m 6ms/step - accuracy: 0.8243 - loss: 0.4629 - val_accuracy: 0.7820 - val_loss: 0.6414 - learning_rate: 9.0000e-05\n",
      "Epoch 120/250\n",
      "\u001B[1m97/97\u001B[0m \u001B[32m━━━━━━━━━━━━━━━━━━━━\u001B[0m\u001B[37m\u001B[0m \u001B[1m1s\u001B[0m 5ms/step - accuracy: 0.8040 - loss: 0.4831 - val_accuracy: 0.7791 - val_loss: 0.6328 - learning_rate: 9.0000e-05\n",
      "Epoch 121/250\n",
      "\u001B[1m97/97\u001B[0m \u001B[32m━━━━━━━━━━━━━━━━━━━━\u001B[0m\u001B[37m\u001B[0m \u001B[1m1s\u001B[0m 6ms/step - accuracy: 0.8113 - loss: 0.4653 - val_accuracy: 0.7703 - val_loss: 0.6370 - learning_rate: 9.0000e-05\n",
      "Epoch 122/250\n",
      "\u001B[1m97/97\u001B[0m \u001B[32m━━━━━━━━━━━━━━━━━━━━\u001B[0m\u001B[37m\u001B[0m \u001B[1m1s\u001B[0m 6ms/step - accuracy: 0.8172 - loss: 0.4824 - val_accuracy: 0.7762 - val_loss: 0.6340 - learning_rate: 9.0000e-05\n",
      "Epoch 123/250\n",
      "\u001B[1m97/97\u001B[0m \u001B[32m━━━━━━━━━━━━━━━━━━━━\u001B[0m\u001B[37m\u001B[0m \u001B[1m1s\u001B[0m 5ms/step - accuracy: 0.8022 - loss: 0.4678 - val_accuracy: 0.7791 - val_loss: 0.6308 - learning_rate: 9.0000e-05\n",
      "Epoch 124/250\n",
      "\u001B[1m97/97\u001B[0m \u001B[32m━━━━━━━━━━━━━━━━━━━━\u001B[0m\u001B[37m\u001B[0m \u001B[1m1s\u001B[0m 6ms/step - accuracy: 0.8013 - loss: 0.4762 - val_accuracy: 0.7762 - val_loss: 0.6327 - learning_rate: 9.0000e-05\n",
      "Epoch 125/250\n",
      "\u001B[1m97/97\u001B[0m \u001B[32m━━━━━━━━━━━━━━━━━━━━\u001B[0m\u001B[37m\u001B[0m \u001B[1m1s\u001B[0m 6ms/step - accuracy: 0.8082 - loss: 0.4676 - val_accuracy: 0.7791 - val_loss: 0.6310 - learning_rate: 9.0000e-05\n",
      "Epoch 126/250\n",
      "\u001B[1m97/97\u001B[0m \u001B[32m━━━━━━━━━━━━━━━━━━━━\u001B[0m\u001B[37m\u001B[0m \u001B[1m1s\u001B[0m 6ms/step - accuracy: 0.7992 - loss: 0.4910 - val_accuracy: 0.7820 - val_loss: 0.6376 - learning_rate: 9.0000e-05\n",
      "Epoch 127/250\n",
      "\u001B[1m97/97\u001B[0m \u001B[32m━━━━━━━━━━━━━━━━━━━━\u001B[0m\u001B[37m\u001B[0m \u001B[1m1s\u001B[0m 6ms/step - accuracy: 0.8286 - loss: 0.4407 - val_accuracy: 0.7820 - val_loss: 0.6323 - learning_rate: 9.0000e-05\n",
      "Epoch 128/250\n",
      "\u001B[1m97/97\u001B[0m \u001B[32m━━━━━━━━━━━━━━━━━━━━\u001B[0m\u001B[37m\u001B[0m \u001B[1m1s\u001B[0m 6ms/step - accuracy: 0.8081 - loss: 0.4800 - val_accuracy: 0.7849 - val_loss: 0.6304 - learning_rate: 9.0000e-05\n",
      "Epoch 129/250\n",
      "\u001B[1m97/97\u001B[0m \u001B[32m━━━━━━━━━━━━━━━━━━━━\u001B[0m\u001B[37m\u001B[0m \u001B[1m1s\u001B[0m 5ms/step - accuracy: 0.8164 - loss: 0.4659 - val_accuracy: 0.7762 - val_loss: 0.6368 - learning_rate: 9.0000e-05\n",
      "Epoch 130/250\n",
      "\u001B[1m97/97\u001B[0m \u001B[32m━━━━━━━━━━━━━━━━━━━━\u001B[0m\u001B[37m\u001B[0m \u001B[1m1s\u001B[0m 6ms/step - accuracy: 0.8082 - loss: 0.4894 - val_accuracy: 0.7907 - val_loss: 0.6234 - learning_rate: 9.0000e-05\n",
      "Epoch 131/250\n",
      "\u001B[1m97/97\u001B[0m \u001B[32m━━━━━━━━━━━━━━━━━━━━\u001B[0m\u001B[37m\u001B[0m \u001B[1m1s\u001B[0m 6ms/step - accuracy: 0.8130 - loss: 0.4690 - val_accuracy: 0.7878 - val_loss: 0.6309 - learning_rate: 9.0000e-05\n",
      "Epoch 132/250\n",
      "\u001B[1m97/97\u001B[0m \u001B[32m━━━━━━━━━━━━━━━━━━━━\u001B[0m\u001B[37m\u001B[0m \u001B[1m1s\u001B[0m 6ms/step - accuracy: 0.7936 - loss: 0.4783 - val_accuracy: 0.7820 - val_loss: 0.6367 - learning_rate: 9.0000e-05\n",
      "Epoch 133/250\n",
      "\u001B[1m97/97\u001B[0m \u001B[32m━━━━━━━━━━━━━━━━━━━━\u001B[0m\u001B[37m\u001B[0m \u001B[1m1s\u001B[0m 6ms/step - accuracy: 0.8044 - loss: 0.4743 - val_accuracy: 0.7820 - val_loss: 0.6354 - learning_rate: 2.7000e-05\n",
      "Epoch 134/250\n",
      "\u001B[1m97/97\u001B[0m \u001B[32m━━━━━━━━━━━━━━━━━━━━\u001B[0m\u001B[37m\u001B[0m \u001B[1m1s\u001B[0m 6ms/step - accuracy: 0.8135 - loss: 0.4629 - val_accuracy: 0.7849 - val_loss: 0.6347 - learning_rate: 2.7000e-05\n",
      "Epoch 135/250\n",
      "\u001B[1m97/97\u001B[0m \u001B[32m━━━━━━━━━━━━━━━━━━━━\u001B[0m\u001B[37m\u001B[0m \u001B[1m1s\u001B[0m 6ms/step - accuracy: 0.7922 - loss: 0.4757 - val_accuracy: 0.7791 - val_loss: 0.6357 - learning_rate: 2.7000e-05\n",
      "Epoch 136/250\n",
      "\u001B[1m97/97\u001B[0m \u001B[32m━━━━━━━━━━━━━━━━━━━━\u001B[0m\u001B[37m\u001B[0m \u001B[1m1s\u001B[0m 6ms/step - accuracy: 0.8067 - loss: 0.4834 - val_accuracy: 0.7791 - val_loss: 0.6342 - learning_rate: 2.7000e-05\n",
      "Epoch 137/250\n",
      "\u001B[1m97/97\u001B[0m \u001B[32m━━━━━━━━━━━━━━━━━━━━\u001B[0m\u001B[37m\u001B[0m \u001B[1m1s\u001B[0m 6ms/step - accuracy: 0.8208 - loss: 0.4714 - val_accuracy: 0.7791 - val_loss: 0.6334 - learning_rate: 2.7000e-05\n",
      "Epoch 138/250\n",
      "\u001B[1m97/97\u001B[0m \u001B[32m━━━━━━━━━━━━━━━━━━━━\u001B[0m\u001B[37m\u001B[0m \u001B[1m1s\u001B[0m 6ms/step - accuracy: 0.8204 - loss: 0.4536 - val_accuracy: 0.7791 - val_loss: 0.6324 - learning_rate: 2.7000e-05\n",
      "Epoch 139/250\n",
      "\u001B[1m97/97\u001B[0m \u001B[32m━━━━━━━━━━━━━━━━━━━━\u001B[0m\u001B[37m\u001B[0m \u001B[1m1s\u001B[0m 6ms/step - accuracy: 0.8146 - loss: 0.4626 - val_accuracy: 0.7820 - val_loss: 0.6340 - learning_rate: 2.7000e-05\n",
      "Epoch 140/250\n",
      "\u001B[1m97/97\u001B[0m \u001B[32m━━━━━━━━━━━━━━━━━━━━\u001B[0m\u001B[37m\u001B[0m \u001B[1m1s\u001B[0m 6ms/step - accuracy: 0.8035 - loss: 0.4765 - val_accuracy: 0.7820 - val_loss: 0.6316 - learning_rate: 2.7000e-05\n",
      "Epoch 141/250\n",
      "\u001B[1m97/97\u001B[0m \u001B[32m━━━━━━━━━━━━━━━━━━━━\u001B[0m\u001B[37m\u001B[0m \u001B[1m1s\u001B[0m 6ms/step - accuracy: 0.8164 - loss: 0.4588 - val_accuracy: 0.7878 - val_loss: 0.6317 - learning_rate: 2.7000e-05\n",
      "Epoch 142/250\n",
      "\u001B[1m97/97\u001B[0m \u001B[32m━━━━━━━━━━━━━━━━━━━━\u001B[0m\u001B[37m\u001B[0m \u001B[1m1s\u001B[0m 6ms/step - accuracy: 0.7993 - loss: 0.4855 - val_accuracy: 0.7849 - val_loss: 0.6320 - learning_rate: 2.7000e-05\n",
      "Epoch 143/250\n",
      "\u001B[1m97/97\u001B[0m \u001B[32m━━━━━━━━━━━━━━━━━━━━\u001B[0m\u001B[37m\u001B[0m \u001B[1m1s\u001B[0m 6ms/step - accuracy: 0.8116 - loss: 0.4761 - val_accuracy: 0.7733 - val_loss: 0.6344 - learning_rate: 2.7000e-05\n",
      "Epoch 144/250\n",
      "\u001B[1m97/97\u001B[0m \u001B[32m━━━━━━━━━━━━━━━━━━━━\u001B[0m\u001B[37m\u001B[0m \u001B[1m1s\u001B[0m 6ms/step - accuracy: 0.8027 - loss: 0.4692 - val_accuracy: 0.7849 - val_loss: 0.6326 - learning_rate: 2.7000e-05\n",
      "Epoch 145/250\n",
      "\u001B[1m97/97\u001B[0m \u001B[32m━━━━━━━━━━━━━━━━━━━━\u001B[0m\u001B[37m\u001B[0m \u001B[1m1s\u001B[0m 6ms/step - accuracy: 0.8101 - loss: 0.4664 - val_accuracy: 0.7820 - val_loss: 0.6329 - learning_rate: 2.7000e-05\n",
      "Epoch 146/250\n",
      "\u001B[1m97/97\u001B[0m \u001B[32m━━━━━━━━━━━━━━━━━━━━\u001B[0m\u001B[37m\u001B[0m \u001B[1m1s\u001B[0m 6ms/step - accuracy: 0.8089 - loss: 0.4616 - val_accuracy: 0.7762 - val_loss: 0.6345 - learning_rate: 2.7000e-05\n",
      "Epoch 147/250\n",
      "\u001B[1m97/97\u001B[0m \u001B[32m━━━━━━━━━━━━━━━━━━━━\u001B[0m\u001B[37m\u001B[0m \u001B[1m1s\u001B[0m 6ms/step - accuracy: 0.8187 - loss: 0.4632 - val_accuracy: 0.7762 - val_loss: 0.6366 - learning_rate: 2.7000e-05\n",
      "Epoch 148/250\n",
      "\u001B[1m97/97\u001B[0m \u001B[32m━━━━━━━━━━━━━━━━━━━━\u001B[0m\u001B[37m\u001B[0m \u001B[1m1s\u001B[0m 7ms/step - accuracy: 0.8063 - loss: 0.4626 - val_accuracy: 0.7762 - val_loss: 0.6345 - learning_rate: 8.1000e-06\n",
      "Epoch 149/250\n",
      "\u001B[1m97/97\u001B[0m \u001B[32m━━━━━━━━━━━━━━━━━━━━\u001B[0m\u001B[37m\u001B[0m \u001B[1m1s\u001B[0m 6ms/step - accuracy: 0.8212 - loss: 0.4428 - val_accuracy: 0.7791 - val_loss: 0.6356 - learning_rate: 8.1000e-06\n",
      "Epoch 150/250\n",
      "\u001B[1m97/97\u001B[0m \u001B[32m━━━━━━━━━━━━━━━━━━━━\u001B[0m\u001B[37m\u001B[0m \u001B[1m1s\u001B[0m 6ms/step - accuracy: 0.8159 - loss: 0.4530 - val_accuracy: 0.7791 - val_loss: 0.6345 - learning_rate: 8.1000e-06\n",
      "Epoch 151/250\n",
      "\u001B[1m97/97\u001B[0m \u001B[32m━━━━━━━━━━━━━━━━━━━━\u001B[0m\u001B[37m\u001B[0m \u001B[1m1s\u001B[0m 6ms/step - accuracy: 0.8168 - loss: 0.4642 - val_accuracy: 0.7791 - val_loss: 0.6338 - learning_rate: 8.1000e-06\n",
      "Epoch 152/250\n",
      "\u001B[1m97/97\u001B[0m \u001B[32m━━━━━━━━━━━━━━━━━━━━\u001B[0m\u001B[37m\u001B[0m \u001B[1m1s\u001B[0m 7ms/step - accuracy: 0.8126 - loss: 0.4655 - val_accuracy: 0.7820 - val_loss: 0.6342 - learning_rate: 8.1000e-06\n",
      "Epoch 152: early stopping\n",
      "Restoring model weights from the end of the best epoch: 102.\n",
      "Model trained in 89.792382s.\n",
      "This is 1.496540min.\n"
     ]
    }
   ],
   "source": [
    "from torch.utils.benchmark import timer\n",
    "\n",
    "# fit the keras model on the dataset0\n",
    "startTime = timer()\n",
    "history = model.fit(X_train, y_train, epochs=250, callbacks=[es_callback, reduce_lr], validation_data=(X_val, y_val), batch_size=32, verbose=1)#, class_weight=class_weight_dict)\n",
    "\n",
    "endTime = timer()\n",
    "print(\"Model trained in {:f}s.\".format(endTime - startTime))\n",
    "print(\"This is {:f}min.\".format((endTime - startTime)/60))"
   ],
   "metadata": {
    "collapsed": false,
    "ExecuteTime": {
     "end_time": "2024-05-31T08:47:39.397881Z",
     "start_time": "2024-05-31T08:46:07.489405Z"
    }
   },
   "id": "c838c202efbda00f",
   "execution_count": 17
  },
  {
   "cell_type": "code",
   "outputs": [
    {
     "name": "stdout",
     "output_type": "stream",
     "text": [
      "\u001B[1m12/12\u001B[0m \u001B[32m━━━━━━━━━━━━━━━━━━━━\u001B[0m\u001B[37m\u001B[0m \u001B[1m0s\u001B[0m 3ms/step \n",
      "Shape of predictions: (382, 6)\n",
      "Shape of y_test: (382, 6)\n",
      "Shape of predictions after reshaping: (382, 6)\n",
      "Shape of y_test after reshaping: (382, 6)\n",
      "Shape of predicted_classes: (382,)\n",
      "Shape of true_classes: (382,)\n"
     ]
    },
    {
     "data": {
      "text/plain": "<Figure size 640x480 with 2 Axes>",
      "image/png": "[encoded data removed]"
     },
     "metadata": {},
     "output_type": "display_data"
    }
   ],
   "source": [
    "# Predict on the test data\n",
    "from sklearn.metrics import confusion_matrix, ConfusionMatrixDisplay\n",
    "import matplotlib.pyplot as plt\n",
    "\n",
    "# Assuming X_test and y_test are already defined and preprocessed\n",
    "# Predict on the test data\n",
    "predictions = model.predict(X_test)\n",
    "\n",
    "# Print the shapes to debug\n",
    "print(f\"Shape of predictions: {predictions.shape}\")\n",
    "print(f\"Shape of y_test: {y_test.shape}\")\n",
    "\n",
    "# # Reshape the predictions and y_test to remove the extra dimension\n",
    "# predictions = predictions.reshape(predictions.shape[0], predictions.shape[2])\n",
    "# y_test = y_test.reshape(y_test.shape[0], y_test.shape[2])\n",
    "\n",
    "# Print the shapes to debugs\n",
    "print(f\"Shape of predictions after reshaping: {predictions.shape}\")\n",
    "print(f\"Shape of y_test after reshaping: {y_test.shape}\")\n",
    "\n",
    "# Convert predictions and true labels to class indices\n",
    "predicted_classes = np.argmax(predictions, axis=1)\n",
    "true_classes = np.argmax(y_test, axis=1)\n",
    "\n",
    "# Print the shapes to debug\n",
    "print(f\"Shape of predicted_classes: {predicted_classes.shape}\")\n",
    "print(f\"Shape of true_classes: {true_classes.shape}\")\n",
    "\n",
    "# Generate the confusion matrix\n",
    "cm = confusion_matrix(true_classes, predicted_classes)\n",
    "\n",
    "# Display the confusion matrix\n",
    "disp = ConfusionMatrixDisplay(confusion_matrix=cm)\n",
    "disp.plot(cmap=plt.cm.Blues)\n",
    "plt.xlabel('Predicted Label')\n",
    "plt.ylabel('True Label')\n",
    "plt.title('Confusion Matrix')\n",
    "plt.show()"
   ],
   "metadata": {
    "collapsed": false,
    "ExecuteTime": {
     "end_time": "2024-05-31T08:47:49.785749Z",
     "start_time": "2024-05-31T08:47:49.502474Z"
    }
   },
   "id": "4882a101ec9de4f2",
   "execution_count": 19
  },
  {
   "cell_type": "code",
   "outputs": [],
   "source": [
    "\n"
   ],
   "metadata": {
    "collapsed": false,
    "ExecuteTime": {
     "end_time": "2024-05-31T08:47:40.820740Z",
     "start_time": "2024-05-31T08:47:40.817570Z"
    }
   },
   "id": "652e0a1f124c745c",
   "execution_count": 18
  }
 ],
 "metadata": {
  "kernelspec": {
   "display_name": "Python 3",
   "language": "python",
   "name": "python3"
  },
  "language_info": {
   "codemirror_mode": {
    "name": "ipython",
    "version": 2
   },
   "file_extension": ".py",
   "mimetype": "text/x-python",
   "name": "python",
   "nbconvert_exporter": "python",
   "pygments_lexer": "ipython2",
   "version": "2.7.6"
  }
 },
 "nbformat": 4,
 "nbformat_minor": 5
}

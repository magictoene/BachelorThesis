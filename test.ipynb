{
 "cells": [
  {
   "cell_type": "code",
   "execution_count": 1,
   "id": "initial_id",
   "metadata": {
    "collapsed": true,
    "ExecuteTime": {
     "end_time": "2024-05-14T18:04:07.534255Z",
     "start_time": "2024-05-14T18:04:04.203110Z"
    }
   },
   "outputs": [
    {
     "name": "stdout",
     "output_type": "stream",
     "text": [
      "True\n"
     ]
    }
   ],
   "source": [
    "import numpy as np\n",
    "from ultralytics import YOLO\n",
    "import torch\n",
    "import pandas as pd\n",
    "\n",
    "print(torch.cuda.is_available())"
   ]
  },
  {
   "cell_type": "code",
   "outputs": [
    {
     "name": "stdout",
     "output_type": "stream",
     "text": [
      "\n",
      "WARNING  inference results will accumulate in RAM unless `stream=True` is passed, causing potential out-of-memory\n",
      "errors for large sources or long-running streams and videos. See https://docs.ultralytics.com/modes/predict/ for help.\n",
      "\n",
      "Example:\n",
      "    results = model(source=..., stream=True)  # generator of Results objects\n",
      "    for r in results:\n",
      "        boxes = r.boxes  # Boxes object for bbox outputs\n",
      "        masks = r.masks  # Masks object for segment masks outputs\n",
      "        probs = r.probs  # Class probabilities for classification outputs\n",
      "video 1/1 (frame 1/111) C:\\Users\\Florian\\PycharmProjects\\CCA\\Videos\\100_Thannheimer Germana_lq.mp4: 384x640 2 persons, 127.7ms\n",
      "video 1/1 (frame 2/111) C:\\Users\\Florian\\PycharmProjects\\CCA\\Videos\\100_Thannheimer Germana_lq.mp4: 384x640 2 persons, 22.5ms\n",
      "video 1/1 (frame 3/111) C:\\Users\\Florian\\PycharmProjects\\CCA\\Videos\\100_Thannheimer Germana_lq.mp4: 384x640 1 person, 22.0ms\n",
      "video 1/1 (frame 4/111) C:\\Users\\Florian\\PycharmProjects\\CCA\\Videos\\100_Thannheimer Germana_lq.mp4: 384x640 3 persons, 22.2ms\n",
      "video 1/1 (frame 5/111) C:\\Users\\Florian\\PycharmProjects\\CCA\\Videos\\100_Thannheimer Germana_lq.mp4: 384x640 3 persons, 20.5ms\n",
      "video 1/1 (frame 6/111) C:\\Users\\Florian\\PycharmProjects\\CCA\\Videos\\100_Thannheimer Germana_lq.mp4: 384x640 3 persons, 21.1ms\n",
      "video 1/1 (frame 7/111) C:\\Users\\Florian\\PycharmProjects\\CCA\\Videos\\100_Thannheimer Germana_lq.mp4: 384x640 3 persons, 21.0ms\n",
      "video 1/1 (frame 8/111) C:\\Users\\Florian\\PycharmProjects\\CCA\\Videos\\100_Thannheimer Germana_lq.mp4: 384x640 2 persons, 21.0ms\n",
      "video 1/1 (frame 9/111) C:\\Users\\Florian\\PycharmProjects\\CCA\\Videos\\100_Thannheimer Germana_lq.mp4: 384x640 2 persons, 21.8ms\n",
      "video 1/1 (frame 10/111) C:\\Users\\Florian\\PycharmProjects\\CCA\\Videos\\100_Thannheimer Germana_lq.mp4: 384x640 3 persons, 21.8ms\n",
      "video 1/1 (frame 11/111) C:\\Users\\Florian\\PycharmProjects\\CCA\\Videos\\100_Thannheimer Germana_lq.mp4: 384x640 3 persons, 21.7ms\n",
      "video 1/1 (frame 12/111) C:\\Users\\Florian\\PycharmProjects\\CCA\\Videos\\100_Thannheimer Germana_lq.mp4: 384x640 2 persons, 22.1ms\n",
      "video 1/1 (frame 13/111) C:\\Users\\Florian\\PycharmProjects\\CCA\\Videos\\100_Thannheimer Germana_lq.mp4: 384x640 1 person, 21.0ms\n",
      "video 1/1 (frame 14/111) C:\\Users\\Florian\\PycharmProjects\\CCA\\Videos\\100_Thannheimer Germana_lq.mp4: 384x640 1 person, 22.0ms\n",
      "video 1/1 (frame 15/111) C:\\Users\\Florian\\PycharmProjects\\CCA\\Videos\\100_Thannheimer Germana_lq.mp4: 384x640 2 persons, 21.5ms\n",
      "video 1/1 (frame 16/111) C:\\Users\\Florian\\PycharmProjects\\CCA\\Videos\\100_Thannheimer Germana_lq.mp4: 384x640 3 persons, 22.8ms\n",
      "video 1/1 (frame 17/111) C:\\Users\\Florian\\PycharmProjects\\CCA\\Videos\\100_Thannheimer Germana_lq.mp4: 384x640 3 persons, 21.0ms\n",
      "video 1/1 (frame 18/111) C:\\Users\\Florian\\PycharmProjects\\CCA\\Videos\\100_Thannheimer Germana_lq.mp4: 384x640 3 persons, 22.5ms\n",
      "video 1/1 (frame 19/111) C:\\Users\\Florian\\PycharmProjects\\CCA\\Videos\\100_Thannheimer Germana_lq.mp4: 384x640 3 persons, 21.3ms\n",
      "video 1/1 (frame 20/111) C:\\Users\\Florian\\PycharmProjects\\CCA\\Videos\\100_Thannheimer Germana_lq.mp4: 384x640 3 persons, 22.0ms\n",
      "video 1/1 (frame 21/111) C:\\Users\\Florian\\PycharmProjects\\CCA\\Videos\\100_Thannheimer Germana_lq.mp4: 384x640 2 persons, 22.0ms\n",
      "video 1/1 (frame 22/111) C:\\Users\\Florian\\PycharmProjects\\CCA\\Videos\\100_Thannheimer Germana_lq.mp4: 384x640 2 persons, 21.7ms\n",
      "video 1/1 (frame 23/111) C:\\Users\\Florian\\PycharmProjects\\CCA\\Videos\\100_Thannheimer Germana_lq.mp4: 384x640 1 person, 20.4ms\n",
      "video 1/1 (frame 24/111) C:\\Users\\Florian\\PycharmProjects\\CCA\\Videos\\100_Thannheimer Germana_lq.mp4: 384x640 2 persons, 20.0ms\n",
      "video 1/1 (frame 25/111) C:\\Users\\Florian\\PycharmProjects\\CCA\\Videos\\100_Thannheimer Germana_lq.mp4: 384x640 2 persons, 20.5ms\n",
      "video 1/1 (frame 26/111) C:\\Users\\Florian\\PycharmProjects\\CCA\\Videos\\100_Thannheimer Germana_lq.mp4: 384x640 2 persons, 21.1ms\n",
      "video 1/1 (frame 27/111) C:\\Users\\Florian\\PycharmProjects\\CCA\\Videos\\100_Thannheimer Germana_lq.mp4: 384x640 2 persons, 21.0ms\n",
      "video 1/1 (frame 28/111) C:\\Users\\Florian\\PycharmProjects\\CCA\\Videos\\100_Thannheimer Germana_lq.mp4: 384x640 2 persons, 20.6ms\n",
      "video 1/1 (frame 29/111) C:\\Users\\Florian\\PycharmProjects\\CCA\\Videos\\100_Thannheimer Germana_lq.mp4: 384x640 2 persons, 21.0ms\n",
      "video 1/1 (frame 30/111) C:\\Users\\Florian\\PycharmProjects\\CCA\\Videos\\100_Thannheimer Germana_lq.mp4: 384x640 2 persons, 20.0ms\n",
      "video 1/1 (frame 31/111) C:\\Users\\Florian\\PycharmProjects\\CCA\\Videos\\100_Thannheimer Germana_lq.mp4: 384x640 2 persons, 20.0ms\n",
      "video 1/1 (frame 32/111) C:\\Users\\Florian\\PycharmProjects\\CCA\\Videos\\100_Thannheimer Germana_lq.mp4: 384x640 3 persons, 21.0ms\n",
      "video 1/1 (frame 33/111) C:\\Users\\Florian\\PycharmProjects\\CCA\\Videos\\100_Thannheimer Germana_lq.mp4: 384x640 3 persons, 20.0ms\n",
      "video 1/1 (frame 34/111) C:\\Users\\Florian\\PycharmProjects\\CCA\\Videos\\100_Thannheimer Germana_lq.mp4: 384x640 3 persons, 21.0ms\n",
      "video 1/1 (frame 35/111) C:\\Users\\Florian\\PycharmProjects\\CCA\\Videos\\100_Thannheimer Germana_lq.mp4: 384x640 3 persons, 21.0ms\n",
      "video 1/1 (frame 36/111) C:\\Users\\Florian\\PycharmProjects\\CCA\\Videos\\100_Thannheimer Germana_lq.mp4: 384x640 3 persons, 21.0ms\n",
      "video 1/1 (frame 37/111) C:\\Users\\Florian\\PycharmProjects\\CCA\\Videos\\100_Thannheimer Germana_lq.mp4: 384x640 2 persons, 21.0ms\n",
      "video 1/1 (frame 38/111) C:\\Users\\Florian\\PycharmProjects\\CCA\\Videos\\100_Thannheimer Germana_lq.mp4: 384x640 2 persons, 21.0ms\n",
      "video 1/1 (frame 39/111) C:\\Users\\Florian\\PycharmProjects\\CCA\\Videos\\100_Thannheimer Germana_lq.mp4: 384x640 2 persons, 21.0ms\n",
      "video 1/1 (frame 40/111) C:\\Users\\Florian\\PycharmProjects\\CCA\\Videos\\100_Thannheimer Germana_lq.mp4: 384x640 2 persons, 20.0ms\n",
      "video 1/1 (frame 41/111) C:\\Users\\Florian\\PycharmProjects\\CCA\\Videos\\100_Thannheimer Germana_lq.mp4: 384x640 2 persons, 20.3ms\n",
      "video 1/1 (frame 42/111) C:\\Users\\Florian\\PycharmProjects\\CCA\\Videos\\100_Thannheimer Germana_lq.mp4: 384x640 2 persons, 20.0ms\n",
      "video 1/1 (frame 43/111) C:\\Users\\Florian\\PycharmProjects\\CCA\\Videos\\100_Thannheimer Germana_lq.mp4: 384x640 2 persons, 21.0ms\n",
      "video 1/1 (frame 44/111) C:\\Users\\Florian\\PycharmProjects\\CCA\\Videos\\100_Thannheimer Germana_lq.mp4: 384x640 2 persons, 20.0ms\n",
      "video 1/1 (frame 45/111) C:\\Users\\Florian\\PycharmProjects\\CCA\\Videos\\100_Thannheimer Germana_lq.mp4: 384x640 2 persons, 20.4ms\n",
      "video 1/1 (frame 46/111) C:\\Users\\Florian\\PycharmProjects\\CCA\\Videos\\100_Thannheimer Germana_lq.mp4: 384x640 2 persons, 20.0ms\n",
      "video 1/1 (frame 47/111) C:\\Users\\Florian\\PycharmProjects\\CCA\\Videos\\100_Thannheimer Germana_lq.mp4: 384x640 2 persons, 21.0ms\n",
      "video 1/1 (frame 48/111) C:\\Users\\Florian\\PycharmProjects\\CCA\\Videos\\100_Thannheimer Germana_lq.mp4: 384x640 2 persons, 21.0ms\n",
      "video 1/1 (frame 49/111) C:\\Users\\Florian\\PycharmProjects\\CCA\\Videos\\100_Thannheimer Germana_lq.mp4: 384x640 2 persons, 21.0ms\n",
      "video 1/1 (frame 50/111) C:\\Users\\Florian\\PycharmProjects\\CCA\\Videos\\100_Thannheimer Germana_lq.mp4: 384x640 2 persons, 21.0ms\n",
      "video 1/1 (frame 51/111) C:\\Users\\Florian\\PycharmProjects\\CCA\\Videos\\100_Thannheimer Germana_lq.mp4: 384x640 1 person, 20.5ms\n",
      "video 1/1 (frame 52/111) C:\\Users\\Florian\\PycharmProjects\\CCA\\Videos\\100_Thannheimer Germana_lq.mp4: 384x640 1 person, 21.0ms\n",
      "video 1/1 (frame 53/111) C:\\Users\\Florian\\PycharmProjects\\CCA\\Videos\\100_Thannheimer Germana_lq.mp4: 384x640 1 person, 21.5ms\n",
      "video 1/1 (frame 54/111) C:\\Users\\Florian\\PycharmProjects\\CCA\\Videos\\100_Thannheimer Germana_lq.mp4: 384x640 2 persons, 20.0ms\n",
      "video 1/1 (frame 55/111) C:\\Users\\Florian\\PycharmProjects\\CCA\\Videos\\100_Thannheimer Germana_lq.mp4: 384x640 2 persons, 21.7ms\n",
      "video 1/1 (frame 56/111) C:\\Users\\Florian\\PycharmProjects\\CCA\\Videos\\100_Thannheimer Germana_lq.mp4: 384x640 2 persons, 20.0ms\n",
      "video 1/1 (frame 57/111) C:\\Users\\Florian\\PycharmProjects\\CCA\\Videos\\100_Thannheimer Germana_lq.mp4: 384x640 3 persons, 20.0ms\n",
      "video 1/1 (frame 58/111) C:\\Users\\Florian\\PycharmProjects\\CCA\\Videos\\100_Thannheimer Germana_lq.mp4: 384x640 2 persons, 21.1ms\n",
      "video 1/1 (frame 59/111) C:\\Users\\Florian\\PycharmProjects\\CCA\\Videos\\100_Thannheimer Germana_lq.mp4: 384x640 2 persons, 21.3ms\n",
      "video 1/1 (frame 60/111) C:\\Users\\Florian\\PycharmProjects\\CCA\\Videos\\100_Thannheimer Germana_lq.mp4: 384x640 2 persons, 20.8ms\n",
      "video 1/1 (frame 61/111) C:\\Users\\Florian\\PycharmProjects\\CCA\\Videos\\100_Thannheimer Germana_lq.mp4: 384x640 3 persons, 21.0ms\n",
      "video 1/1 (frame 62/111) C:\\Users\\Florian\\PycharmProjects\\CCA\\Videos\\100_Thannheimer Germana_lq.mp4: 384x640 3 persons, 20.7ms\n",
      "video 1/1 (frame 63/111) C:\\Users\\Florian\\PycharmProjects\\CCA\\Videos\\100_Thannheimer Germana_lq.mp4: 384x640 2 persons, 20.1ms\n",
      "video 1/1 (frame 64/111) C:\\Users\\Florian\\PycharmProjects\\CCA\\Videos\\100_Thannheimer Germana_lq.mp4: 384x640 2 persons, 21.0ms\n",
      "video 1/1 (frame 65/111) C:\\Users\\Florian\\PycharmProjects\\CCA\\Videos\\100_Thannheimer Germana_lq.mp4: 384x640 2 persons, 20.0ms\n",
      "video 1/1 (frame 66/111) C:\\Users\\Florian\\PycharmProjects\\CCA\\Videos\\100_Thannheimer Germana_lq.mp4: 384x640 2 persons, 20.6ms\n",
      "video 1/1 (frame 67/111) C:\\Users\\Florian\\PycharmProjects\\CCA\\Videos\\100_Thannheimer Germana_lq.mp4: 384x640 2 persons, 21.1ms\n",
      "video 1/1 (frame 68/111) C:\\Users\\Florian\\PycharmProjects\\CCA\\Videos\\100_Thannheimer Germana_lq.mp4: 384x640 2 persons, 20.2ms\n",
      "video 1/1 (frame 69/111) C:\\Users\\Florian\\PycharmProjects\\CCA\\Videos\\100_Thannheimer Germana_lq.mp4: 384x640 2 persons, 20.7ms\n",
      "video 1/1 (frame 70/111) C:\\Users\\Florian\\PycharmProjects\\CCA\\Videos\\100_Thannheimer Germana_lq.mp4: 384x640 2 persons, 21.1ms\n",
      "video 1/1 (frame 71/111) C:\\Users\\Florian\\PycharmProjects\\CCA\\Videos\\100_Thannheimer Germana_lq.mp4: 384x640 2 persons, 21.0ms\n",
      "video 1/1 (frame 72/111) C:\\Users\\Florian\\PycharmProjects\\CCA\\Videos\\100_Thannheimer Germana_lq.mp4: 384x640 2 persons, 20.6ms\n",
      "video 1/1 (frame 73/111) C:\\Users\\Florian\\PycharmProjects\\CCA\\Videos\\100_Thannheimer Germana_lq.mp4: 384x640 2 persons, 21.5ms\n",
      "video 1/1 (frame 74/111) C:\\Users\\Florian\\PycharmProjects\\CCA\\Videos\\100_Thannheimer Germana_lq.mp4: 384x640 2 persons, 21.3ms\n",
      "video 1/1 (frame 75/111) C:\\Users\\Florian\\PycharmProjects\\CCA\\Videos\\100_Thannheimer Germana_lq.mp4: 384x640 2 persons, 21.0ms\n",
      "video 1/1 (frame 76/111) C:\\Users\\Florian\\PycharmProjects\\CCA\\Videos\\100_Thannheimer Germana_lq.mp4: 384x640 2 persons, 21.1ms\n",
      "video 1/1 (frame 77/111) C:\\Users\\Florian\\PycharmProjects\\CCA\\Videos\\100_Thannheimer Germana_lq.mp4: 384x640 2 persons, 21.1ms\n",
      "video 1/1 (frame 78/111) C:\\Users\\Florian\\PycharmProjects\\CCA\\Videos\\100_Thannheimer Germana_lq.mp4: 384x640 2 persons, 21.2ms\n",
      "video 1/1 (frame 79/111) C:\\Users\\Florian\\PycharmProjects\\CCA\\Videos\\100_Thannheimer Germana_lq.mp4: 384x640 2 persons, 20.5ms\n",
      "video 1/1 (frame 80/111) C:\\Users\\Florian\\PycharmProjects\\CCA\\Videos\\100_Thannheimer Germana_lq.mp4: 384x640 2 persons, 21.0ms\n",
      "video 1/1 (frame 81/111) C:\\Users\\Florian\\PycharmProjects\\CCA\\Videos\\100_Thannheimer Germana_lq.mp4: 384x640 2 persons, 21.0ms\n",
      "video 1/1 (frame 82/111) C:\\Users\\Florian\\PycharmProjects\\CCA\\Videos\\100_Thannheimer Germana_lq.mp4: 384x640 2 persons, 21.5ms\n",
      "video 1/1 (frame 83/111) C:\\Users\\Florian\\PycharmProjects\\CCA\\Videos\\100_Thannheimer Germana_lq.mp4: 384x640 1 person, 21.3ms\n",
      "video 1/1 (frame 84/111) C:\\Users\\Florian\\PycharmProjects\\CCA\\Videos\\100_Thannheimer Germana_lq.mp4: 384x640 1 person, 21.2ms\n",
      "video 1/1 (frame 85/111) C:\\Users\\Florian\\PycharmProjects\\CCA\\Videos\\100_Thannheimer Germana_lq.mp4: 384x640 1 person, 21.0ms\n",
      "video 1/1 (frame 86/111) C:\\Users\\Florian\\PycharmProjects\\CCA\\Videos\\100_Thannheimer Germana_lq.mp4: 384x640 1 person, 20.4ms\n",
      "video 1/1 (frame 87/111) C:\\Users\\Florian\\PycharmProjects\\CCA\\Videos\\100_Thannheimer Germana_lq.mp4: 384x640 1 person, 21.0ms\n",
      "video 1/1 (frame 88/111) C:\\Users\\Florian\\PycharmProjects\\CCA\\Videos\\100_Thannheimer Germana_lq.mp4: 384x640 1 person, 20.3ms\n",
      "video 1/1 (frame 89/111) C:\\Users\\Florian\\PycharmProjects\\CCA\\Videos\\100_Thannheimer Germana_lq.mp4: 384x640 2 persons, 21.0ms\n",
      "video 1/1 (frame 90/111) C:\\Users\\Florian\\PycharmProjects\\CCA\\Videos\\100_Thannheimer Germana_lq.mp4: 384x640 2 persons, 21.0ms\n",
      "video 1/1 (frame 91/111) C:\\Users\\Florian\\PycharmProjects\\CCA\\Videos\\100_Thannheimer Germana_lq.mp4: 384x640 2 persons, 20.6ms\n",
      "video 1/1 (frame 92/111) C:\\Users\\Florian\\PycharmProjects\\CCA\\Videos\\100_Thannheimer Germana_lq.mp4: 384x640 2 persons, 20.0ms\n",
      "video 1/1 (frame 93/111) C:\\Users\\Florian\\PycharmProjects\\CCA\\Videos\\100_Thannheimer Germana_lq.mp4: 384x640 2 persons, 20.5ms\n",
      "video 1/1 (frame 94/111) C:\\Users\\Florian\\PycharmProjects\\CCA\\Videos\\100_Thannheimer Germana_lq.mp4: 384x640 2 persons, 21.5ms\n",
      "video 1/1 (frame 95/111) C:\\Users\\Florian\\PycharmProjects\\CCA\\Videos\\100_Thannheimer Germana_lq.mp4: 384x640 1 person, 20.6ms\n",
      "video 1/1 (frame 96/111) C:\\Users\\Florian\\PycharmProjects\\CCA\\Videos\\100_Thannheimer Germana_lq.mp4: 384x640 1 person, 21.2ms\n",
      "video 1/1 (frame 97/111) C:\\Users\\Florian\\PycharmProjects\\CCA\\Videos\\100_Thannheimer Germana_lq.mp4: 384x640 1 person, 20.9ms\n",
      "video 1/1 (frame 98/111) C:\\Users\\Florian\\PycharmProjects\\CCA\\Videos\\100_Thannheimer Germana_lq.mp4: 384x640 1 person, 22.0ms\n",
      "video 1/1 (frame 99/111) C:\\Users\\Florian\\PycharmProjects\\CCA\\Videos\\100_Thannheimer Germana_lq.mp4: 384x640 1 person, 22.0ms\n",
      "video 1/1 (frame 100/111) C:\\Users\\Florian\\PycharmProjects\\CCA\\Videos\\100_Thannheimer Germana_lq.mp4: 384x640 1 person, 22.0ms\n",
      "video 1/1 (frame 101/111) C:\\Users\\Florian\\PycharmProjects\\CCA\\Videos\\100_Thannheimer Germana_lq.mp4: 384x640 1 person, 22.7ms\n",
      "video 1/1 (frame 102/111) C:\\Users\\Florian\\PycharmProjects\\CCA\\Videos\\100_Thannheimer Germana_lq.mp4: 384x640 1 person, 21.5ms\n",
      "video 1/1 (frame 103/111) C:\\Users\\Florian\\PycharmProjects\\CCA\\Videos\\100_Thannheimer Germana_lq.mp4: 384x640 1 person, 23.5ms\n",
      "video 1/1 (frame 104/111) C:\\Users\\Florian\\PycharmProjects\\CCA\\Videos\\100_Thannheimer Germana_lq.mp4: 384x640 1 person, 22.5ms\n",
      "video 1/1 (frame 105/111) C:\\Users\\Florian\\PycharmProjects\\CCA\\Videos\\100_Thannheimer Germana_lq.mp4: 384x640 (no detections), 22.0ms\n",
      "video 1/1 (frame 106/111) C:\\Users\\Florian\\PycharmProjects\\CCA\\Videos\\100_Thannheimer Germana_lq.mp4: 384x640 (no detections), 21.6ms\n",
      "video 1/1 (frame 107/111) C:\\Users\\Florian\\PycharmProjects\\CCA\\Videos\\100_Thannheimer Germana_lq.mp4: 384x640 (no detections), 21.5ms\n",
      "video 1/1 (frame 108/111) C:\\Users\\Florian\\PycharmProjects\\CCA\\Videos\\100_Thannheimer Germana_lq.mp4: 384x640 (no detections), 21.0ms\n",
      "video 1/1 (frame 109/111) C:\\Users\\Florian\\PycharmProjects\\CCA\\Videos\\100_Thannheimer Germana_lq.mp4: 384x640 (no detections), 21.5ms\n",
      "video 1/1 (frame 110/111) C:\\Users\\Florian\\PycharmProjects\\CCA\\Videos\\100_Thannheimer Germana_lq.mp4: 384x640 (no detections), 21.1ms\n",
      "video 1/1 (frame 111/111) C:\\Users\\Florian\\PycharmProjects\\CCA\\Videos\\100_Thannheimer Germana_lq.mp4: 384x640 (no detections), 21.0ms\n",
      "Speed: 1.7ms preprocess, 22.0ms inference, 13.1ms postprocess per image at shape (1, 3, 384, 640)\n",
      "Results saved to \u001B[1mruns\\pose\\track\u001B[0m\n"
     ]
    }
   ],
   "source": [
    "# Predict with the model\n",
    "# Load a model\n",
    "model = YOLO('yolov8x-pose.pt')  # load an official model\n",
    "\n",
    "source_vid = 'Videos/100_Thannheimer Germana_lq.mp4'\n",
    "# source_vid = 'Videos/BUCHMANN2 Anne.mp4'\n",
    "\n",
    "tracking_results = model.track(source=source_vid, conf=0.5, save=True, show=True)  # tracking on video"
   ],
   "metadata": {
    "collapsed": false,
    "ExecuteTime": {
     "end_time": "2024-05-14T18:06:34.619926Z",
     "start_time": "2024-05-14T18:04:11.992877Z"
    }
   },
   "id": "30542a27b9628e9f",
   "execution_count": 2
  },
  {
   "cell_type": "code",
   "outputs": [],
   "source": [
    "frame_numbers = []\n",
    "ids = []\n",
    "bboxes = []\n",
    "kps = []\n",
    "kp_confs = []"
   ],
   "metadata": {
    "collapsed": false,
    "ExecuteTime": {
     "end_time": "2024-04-26T22:27:37.358270Z",
     "start_time": "2024-04-26T22:27:37.353820Z"
    }
   },
   "id": "59d329fac879c90c",
   "execution_count": 33
  },
  {
   "cell_type": "code",
   "outputs": [
    {
     "name": "stdout",
     "output_type": "stream",
     "text": [
      "204 204 204 204 204\n"
     ]
    }
   ],
   "source": [
    "# Assume `video_results` is a list where each element represents the results for a frame\n",
    "for frame_index, results in enumerate(tracking_results):\n",
    "    for r in results:\n",
    "        # Extract data for the current frame\n",
    "        \n",
    "        \n",
    "        box_id = r.boxes.id.numpy() if r.boxes.id is not None else [0]\n",
    "        bbox = r.boxes.xywh.cpu().numpy()\n",
    "        kp = r.keypoints.xy.cpu().numpy()\n",
    "        kp_conf = r.keypoints.conf.cpu().numpy()\n",
    "        \n",
    "        # Append data to lists\n",
    "        frame_numbers.extend([frame_index] * len(box_id))\n",
    "        ids.extend(box_id)\n",
    "        bboxes.extend(bbox)\n",
    "        kps.extend(kp)\n",
    "        kp_confs.extend(kp_conf)\n",
    "        "
   ],
   "metadata": {
    "collapsed": false,
    "ExecuteTime": {
     "end_time": "2024-04-26T22:27:38.742416Z",
     "start_time": "2024-04-26T22:27:38.622892Z"
    }
   },
   "id": "1e46b9e4c5ef6ebd",
   "execution_count": 34
  },
  {
   "cell_type": "code",
   "outputs": [],
   "source": [
    "# Create DataFrame\n",
    "df = pd.DataFrame({\n",
    "    'FrameNumber': frame_numbers,\n",
    "    'ID': ids,\n",
    "    'BoundingBox': list(map(tuple, bboxes)),  # Convert arrays to tuples for better handling\n",
    "    'Keypoints': list(map(tuple, kps)),\n",
    "    'Keypoint Conf': list(map(tuple, kp_confs))\n",
    "})"
   ],
   "metadata": {
    "collapsed": false,
    "ExecuteTime": {
     "end_time": "2024-04-26T22:27:40.811139Z",
     "start_time": "2024-04-26T22:27:40.805656Z"
    }
   },
   "id": "34e024094d8172be",
   "execution_count": 35
  },
  {
   "cell_type": "code",
   "outputs": [],
   "source": [
    "# Set multi-index for easier data retrieval by frame and ID\n",
    "df.set_index(['FrameNumber', 'ID'], inplace=True)"
   ],
   "metadata": {
    "collapsed": false,
    "ExecuteTime": {
     "end_time": "2024-04-26T22:27:42.173565Z",
     "start_time": "2024-04-26T22:27:42.170381Z"
    }
   },
   "id": "5de9f8b3c5016e9c",
   "execution_count": 36
  },
  {
   "cell_type": "code",
   "outputs": [
    {
     "name": "stdout",
     "output_type": "stream",
     "text": [
      "                                                 BoundingBox  \\\n",
      "FrameNumber ID                                                 \n",
      "0           0.0                 (1631.0, 547.0, 88.0, 170.0)   \n",
      "            0.0                 (1705.5, 544.0, 69.0, 176.0)   \n",
      "1           0.0                 (1630.0, 546.5, 86.0, 169.0)   \n",
      "            0.0                 (1704.5, 544.5, 69.0, 177.0)   \n",
      "2           1.0   (1628.6687, 546.0887, 83.59192, 168.18259)   \n",
      "...                                                      ...   \n",
      "47          2.0  (857.43097, 603.631, 122.317505, 231.66156)   \n",
      "            3.0    (1648.7988, 544.714, 70.16589, 170.69962)   \n",
      "48          2.0  (878.55664, 599.6742, 120.28955, 240.23874)   \n",
      "            3.0    (1646.458, 544.5393, 68.42749, 169.55365)   \n",
      "49          2.0  (898.9127, 595.92834, 115.56525, 249.28912)   \n",
      "\n",
      "                                                         Keypoints  \\\n",
      "FrameNumber ID                                                       \n",
      "0           0.0  ([0.0, 0.0], [0.0, 0.0], [0.0, 0.0], [0.0, 0.0...   \n",
      "            0.0  ([1684.7039, 475.02673], [1687.6357, 471.079],...   \n",
      "1           0.0  ([0.0, 0.0], [0.0, 0.0], [0.0, 0.0], [0.0, 0.0...   \n",
      "            0.0  ([1682.9868, 475.10065], [1685.9828, 471.09293...   \n",
      "2           1.0  ([0.0, 0.0], [0.0, 0.0], [0.0, 0.0], [1609.937...   \n",
      "...                                                            ...   \n",
      "47          2.0  ([908.4657, 518.098], [0.0, 0.0], [908.4564, 5...   \n",
      "            3.0  ([0.0, 0.0], [0.0, 0.0], [0.0, 0.0], [1635.544...   \n",
      "48          2.0  ([928.6516, 508.768], [0.0, 0.0], [927.33606, ...   \n",
      "            3.0  ([0.0, 0.0], [0.0, 0.0], [0.0, 0.0], [1632.138...   \n",
      "49          2.0  ([946.411, 501.18448], [0.0, 0.0], [945.1504, ...   \n",
      "\n",
      "                                                     Keypoint Conf  \n",
      "FrameNumber ID                                                      \n",
      "0           0.0  (0.07687281, 0.059154894, 0.026749762, 0.47878...  \n",
      "            0.0  (0.6381236, 0.7174599, 0.19777964, 0.8133372, ...  \n",
      "1           0.0  (0.048205685, 0.03572854, 0.018683922, 0.46470...  \n",
      "            0.0  (0.6655048, 0.7511789, 0.21941666, 0.8272287, ...  \n",
      "2           1.0  (0.08769075, 0.07606479, 0.027300399, 0.569081...  \n",
      "...                                                            ...  \n",
      "47          2.0  (0.62563205, 0.17180122, 0.72949296, 0.0854011...  \n",
      "            3.0  (0.31906044, 0.39200428, 0.070151456, 0.844712...  \n",
      "48          2.0  (0.65176713, 0.15829004, 0.725994, 0.057692923...  \n",
      "            3.0  (0.13072714, 0.16595191, 0.030307066, 0.834854...  \n",
      "49          2.0  (0.7034668, 0.065877646, 0.85991234, 0.0060449...  \n",
      "\n",
      "[111 rows x 3 columns]\n"
     ]
    }
   ],
   "source": [
    "# Now you can easily access all data related to a specific frame and ID\n",
    "print(df.head())"
   ],
   "metadata": {
    "collapsed": false,
    "ExecuteTime": {
     "end_time": "2024-04-26T22:27:43.725212Z",
     "start_time": "2024-04-26T22:27:43.705292Z"
    }
   },
   "id": "f2e8a88895375bd5",
   "execution_count": 37
  },
  {
   "cell_type": "code",
   "outputs": [],
   "source": [
    "def calculate_distance_travelled(box1, box2):\n",
    "    \"\"\" Calculate Euclidean distance between the centroids of two bounding boxes. \"\"\"\n",
    "    x1, y1, w1, h1 = box1\n",
    "    x2, y2, w2, h2 = box2\n",
    "    centroid1 = (x1 + w1 / 2, y1 + h1 / 2)\n",
    "    centroid2 = (x2 + w2 / 2, y2 + h2 / 2)\n",
    "    return np.sqrt((centroid2[0] - centroid1[0]) ** 2 + (centroid2[1] - centroid1[1]) ** 2)\n"
   ],
   "metadata": {
    "collapsed": false,
    "ExecuteTime": {
     "end_time": "2024-04-26T22:28:08.116357Z",
     "start_time": "2024-04-26T22:28:08.112909Z"
    }
   },
   "id": "e22e65dbe8dfcab4",
   "execution_count": 38
  },
  {
   "cell_type": "code",
   "outputs": [
    {
     "name": "stdout",
     "output_type": "stream",
     "text": [
      "ID 2.0 has traveled the longest distance of 1870.5769362682431 units.\n"
     ]
    }
   ],
   "source": [
    "# Initialize a dictionary to store distances for each ID\n",
    "distances = {}\n",
    "\n",
    "# Get unique IDs\n",
    "unique_ids = df.index.get_level_values('ID').unique()\n",
    "\n",
    "# Loop over each unique ID\n",
    "for uid in unique_ids:\n",
    "    \n",
    "    if uid == 0:\n",
    "        distances[uid] = 0\n",
    "    else:\n",
    "        id_data = df.xs(uid, level='ID')\n",
    "        first_frame = id_data.index.min()\n",
    "        last_frame = id_data.index.max()\n",
    "    \n",
    "        # Get bounding box data for the first and last appearances\n",
    "        first_bbox = id_data.loc[first_frame, 'BoundingBox']\n",
    "        last_bbox = id_data.loc[last_frame, 'BoundingBox']\n",
    "    \n",
    "        # Calculate the distance traveled by the centroid\n",
    "        distance = calculate_distance_travelled(first_bbox, last_bbox)\n",
    "        distances[uid] = distance\n",
    "\n",
    "# Find the ID with the maximum distance traveled\n",
    "max_distance_id = max(distances, key=distances.get)\n",
    "\n",
    "print(f\"ID {max_distance_id} has traveled the longest distance of {distances[max_distance_id]} units.\")"
   ],
   "metadata": {
    "collapsed": false,
    "ExecuteTime": {
     "end_time": "2024-04-26T22:28:54.648621Z",
     "start_time": "2024-04-26T22:28:54.641723Z"
    }
   },
   "id": "ff74ea72e64f99f",
   "execution_count": 40
  },
  {
   "cell_type": "code",
   "outputs": [],
   "source": [
    "# Number of keypoints (COCO model has 17 keypoints)\n",
    "num_kps = 17\n",
    "\n",
    "# Create column names for the DataFrame\n",
    "columns = ['Posx', 'Posy', 'width', 'height'] + \\\n",
    "          [f'PosX Kp{i+1}' for i in range(num_kps)] + \\\n",
    "          [f'PosY Kp{i+1}' for i in range(num_kps)] + \\\n",
    "          [f'Conf Kp{i+1}' for i in range(num_kps)] + \\\n",
    "          ['Label']"
   ],
   "metadata": {
    "collapsed": false,
    "ExecuteTime": {
     "end_time": "2024-04-26T22:28:57.682320Z",
     "start_time": "2024-04-26T22:28:57.678687Z"
    }
   },
   "id": "edbb017792e1dd88",
   "execution_count": 41
  },
  {
   "cell_type": "code",
   "outputs": [
    {
     "name": "stderr",
     "output_type": "stream",
     "text": [
      "C:\\Users\\Florian\\AppData\\Local\\Temp\\ipykernel_23888\\1610744318.py:25: FutureWarning: Downcasting object dtype arrays on .fillna, .ffill, .bfill is deprecated and will change in a future version. Call result.infer_objects(copy=False) instead. To opt-in to the future behavior, set `pd.set_option('future.no_silent_downcasting', True)`\n",
      "  xcs_df.fillna(0, inplace=True)  # Replace None with 0 or use np.nan to keep as NaN\n"
     ]
    }
   ],
   "source": [
    "# Initialize DataFrame for ID 4 with 140 frames (assuming 140 is the number of frames)\n",
    "xcs_df = pd.DataFrame(index=range(len(tracking_results)), columns=columns)\n",
    "\n",
    "# Get data for ID 4 from the original DataFrame\n",
    "xcs_data = df.xs(max_distance_id, level='ID')\n",
    "\n",
    "# Loop through all frames where ID 4 is detected and fill the DataFrame\n",
    "for frame in xcs_data.index:\n",
    "    bbox = xcs_data.loc[frame, 'BoundingBox']\n",
    "    kps = xcs_data.loc[frame, 'Keypoints']\n",
    "    kp_confs = xcs_data.loc[frame, 'Keypoint Conf']\n",
    "    \n",
    "    # Fill bounding box data\n",
    "    xcs_df.loc[frame, ['Posx', 'Posy', 'width', 'height']] = bbox\n",
    "    \n",
    "    # Fill keypoint data\n",
    "    for i in range(num_kps):\n",
    "        x_pos, y_pos = kps[i]\n",
    "        \n",
    "        xcs_df.loc[frame, [f'PosX Kp{i+1}']] = x_pos\n",
    "        xcs_df.loc[frame, [f'PosY Kp{i+1}']] = y_pos\n",
    "        xcs_df.loc[frame, [f'Conf Kp{i+1}']] = kp_confs[i]\n",
    "        \n",
    "# Fill missing data for frames where ID 4 isn't detected\n",
    "xcs_df.fillna(0, inplace=True)  # Replace None with 0 or use np.nan to keep as NaN\n",
    "xcs_df = xcs_df.infer_objects()\n"
   ],
   "metadata": {
    "collapsed": false,
    "ExecuteTime": {
     "end_time": "2024-04-26T22:29:01.858348Z",
     "start_time": "2024-04-26T22:28:59.534436Z"
    }
   },
   "id": "27f505fd75be4b7a",
   "execution_count": 42
  },
  {
   "cell_type": "code",
   "outputs": [],
   "source": [
    "import os\n",
    "\n",
    "def get_filepaths(directory, extension=None):\n",
    "    \"\"\"\n",
    "    Retrieves the file paths of all files in the specified directory,\n",
    "    optionally filtering by file extension. If only one file is found, \n",
    "    returns a single string. Otherwise, returns a list of file paths.\n",
    "\n",
    "    :param directory: The directory from which to list file paths.\n",
    "    :param extension: Optional. Specify the file extension to filter by (e.g., 'json').\n",
    "                      The extension should be provided without a dot.\n",
    "    :return: A single file path as a string if only one file is found, \n",
    "             or a list of file paths if multiple files are found.\n",
    "    \"\"\"\n",
    "\n",
    "    # List to store file paths\n",
    "    file_paths = []\n",
    "\n",
    "    # List all files and directories in the specified path\n",
    "    for filename in os.listdir(directory):\n",
    "        # Construct full file path\n",
    "        file_path = os.path.join(directory, filename)\n",
    "        # Check if it's a file and not a directory\n",
    "        if os.path.isfile(file_path):\n",
    "            # If an extension is specified, filter files by the extension\n",
    "            if extension and filename.endswith('.' + extension):\n",
    "                file_paths.append(file_path)\n",
    "            elif not extension:  # If no extension is specified, add all files\n",
    "                file_paths.append(file_path)\n",
    "\n",
    "    # Return a single file path as a string if only one is found, otherwise return the list\n",
    "    if len(file_paths) == 1:\n",
    "        return file_paths[0]\n",
    "    else:\n",
    "        return file_paths"
   ],
   "metadata": {
    "collapsed": false,
    "ExecuteTime": {
     "end_time": "2024-04-26T22:29:05.809963Z",
     "start_time": "2024-04-26T22:29:05.804955Z"
    }
   },
   "id": "2960ee09b01340b2",
   "execution_count": 43
  },
  {
   "cell_type": "code",
   "outputs": [
    {
     "name": "stdout",
     "output_type": "stream",
     "text": [
      "Frames/100_Thannheimer Germana_lq/labels.json\n",
      "23\n",
      "25\n",
      "31\n",
      "40\n",
      "47\n"
     ]
    }
   ],
   "source": [
    "import json\n",
    "\n",
    "# json_file = get_filepaths('Frames/BUCHMANN2 Anne/', extension='json')\n",
    "json_file = get_filepaths('Frames/100_Thannheimer Germana_lq/', extension='json')\n",
    "\n",
    "print(json_file)\n",
    "\n",
    "with open(json_file, 'r') as file:\n",
    "    label_info_full = json.load(file)\n",
    "\n",
    "# Extract only the first five items\n",
    "label_info = dict(list(label_info_full.items())[:5])\n",
    "\n",
    "# Process the JSON data and update DataFrame\n",
    "for label, path in label_info.items():\n",
    "    # Extract the frame number from the file path\n",
    "    frame_number = int(path.split('\\\\')[-1].replace('.png', ''))\n",
    "\n",
    "    print(frame_number)\n",
    "\n",
    "    # Update the label in the DataFrame if the frame number exists in the index\n",
    "    if frame_number in xcs_df.index:\n",
    "        xcs_df.loc[frame_number, ['Label']] = int(label)\n"
   ],
   "metadata": {
    "collapsed": false,
    "ExecuteTime": {
     "end_time": "2024-04-26T22:29:47.576463Z",
     "start_time": "2024-04-26T22:29:47.550195Z"
    }
   },
   "id": "424dbb5c27da8646",
   "execution_count": 46
  },
  {
   "cell_type": "code",
   "outputs": [
    {
     "name": "stdout",
     "output_type": "stream",
     "text": [
      "          Posx        Posy      width      height   PosX Kp1  PosX Kp2  \\\n",
      "0     0.000000    0.000000   0.000000    0.000000   0.000000       0.0   \n",
      "1     0.000000    0.000000   0.000000    0.000000   0.000000       0.0   \n",
      "2     0.000000    0.000000   0.000000    0.000000   0.000000       0.0   \n",
      "3    24.730474  604.196899  49.396984  203.183807  41.533485       0.0   \n",
      "4    32.508453  601.737305  64.896744  203.790436   0.000000       0.0   \n",
      "..         ...         ...        ...         ...        ...       ...   \n",
      "106   0.000000    0.000000   0.000000    0.000000   0.000000       0.0   \n",
      "107   0.000000    0.000000   0.000000    0.000000   0.000000       0.0   \n",
      "108   0.000000    0.000000   0.000000    0.000000   0.000000       0.0   \n",
      "109   0.000000    0.000000   0.000000    0.000000   0.000000       0.0   \n",
      "110   0.000000    0.000000   0.000000    0.000000   0.000000       0.0   \n",
      "\n",
      "      PosX Kp3  PosX Kp4   PosX Kp5  PosX Kp6  ...  Conf Kp9  Conf Kp10  \\\n",
      "0     0.000000       0.0   0.000000       0.0  ...  0.000000   0.000000   \n",
      "1     0.000000       0.0   0.000000       0.0  ...  0.000000   0.000000   \n",
      "2     0.000000       0.0   0.000000       0.0  ...  0.000000   0.000000   \n",
      "3    39.898407       0.0  28.402073       0.0  ...  0.068301   0.171992   \n",
      "4    59.378983       0.0  47.976437       0.0  ...  0.208353   0.229456   \n",
      "..         ...       ...        ...       ...  ...       ...        ...   \n",
      "106   0.000000       0.0   0.000000       0.0  ...  0.000000   0.000000   \n",
      "107   0.000000       0.0   0.000000       0.0  ...  0.000000   0.000000   \n",
      "108   0.000000       0.0   0.000000       0.0  ...  0.000000   0.000000   \n",
      "109   0.000000       0.0   0.000000       0.0  ...  0.000000   0.000000   \n",
      "110   0.000000       0.0   0.000000       0.0  ...  0.000000   0.000000   \n",
      "\n",
      "     Conf Kp11  Conf Kp12  Conf Kp13  Conf Kp14  Conf Kp15  Conf Kp16  \\\n",
      "0     0.000000   0.000000   0.000000   0.000000   0.000000   0.000000   \n",
      "1     0.000000   0.000000   0.000000   0.000000   0.000000   0.000000   \n",
      "2     0.000000   0.000000   0.000000   0.000000   0.000000   0.000000   \n",
      "3     0.091628   0.398944   0.281218   0.457729   0.329392   0.577033   \n",
      "4     0.222112   0.591891   0.534547   0.568335   0.532679   0.598219   \n",
      "..         ...        ...        ...        ...        ...        ...   \n",
      "106   0.000000   0.000000   0.000000   0.000000   0.000000   0.000000   \n",
      "107   0.000000   0.000000   0.000000   0.000000   0.000000   0.000000   \n",
      "108   0.000000   0.000000   0.000000   0.000000   0.000000   0.000000   \n",
      "109   0.000000   0.000000   0.000000   0.000000   0.000000   0.000000   \n",
      "110   0.000000   0.000000   0.000000   0.000000   0.000000   0.000000   \n",
      "\n",
      "     Conf Kp17  Label  \n",
      "0     0.000000      0  \n",
      "1     0.000000      0  \n",
      "2     0.000000      0  \n",
      "3     0.466234      0  \n",
      "4     0.566206      0  \n",
      "..         ...    ...  \n",
      "106   0.000000      0  \n",
      "107   0.000000      0  \n",
      "108   0.000000      0  \n",
      "109   0.000000      0  \n",
      "110   0.000000      0  \n",
      "\n",
      "[111 rows x 56 columns]\n"
     ]
    }
   ],
   "source": [
    "# Display the DataFrame\n",
    "print(xcs_df.head(112))"
   ],
   "metadata": {
    "collapsed": false,
    "ExecuteTime": {
     "end_time": "2024-04-26T22:30:22.396967Z",
     "start_time": "2024-04-26T22:30:22.386637Z"
    }
   },
   "id": "4362aa1489f298cc",
   "execution_count": 49
  },
  {
   "cell_type": "code",
   "outputs": [],
   "source": [
    "xcs_df.to_csv('feature_extraction.csv', index=False)"
   ],
   "metadata": {
    "collapsed": false,
    "ExecuteTime": {
     "end_time": "2024-04-26T22:30:56.198625Z",
     "start_time": "2024-04-26T22:30:56.184071Z"
    }
   },
   "id": "581dc13d2aa05bdb",
   "execution_count": 50
  },
  {
   "cell_type": "code",
   "outputs": [
    {
     "name": "stdout",
     "output_type": "stream",
     "text": [
      "Videos/BUCHMANN2 Anne\n",
      "['100_Thannheimer Germana_lq', '101_Veit Verena_lq', '102_Ott Louisa_lq', '103_Schmidt Henriette_lq', '104_Dietze Alexandra_lq', '105_Saunus Annika_lq', '106_Haberstumpf Katharina_lq', '107_Zeissler Jule_lq', '108_Dietze Anna_lq', '109_Rekowski Bente_lq', '10_Moosmayer Moritz_lq', '110_Niederacher Agnes_lq', '111_Stocker Hannah_lq', '112_Uschold Fredericka_lq', '113_Wehrle Amelie_lq', '114_Scholz Sina_lq', '116_Gerg Theresa_lq', '118_Eisenlauer Sebastian_lq', '119_Maettig Valentin_lq', '11_Schlegelmilch Felix_lq', '120_Leupold Richard_lq', '121_Leismueller Jakob_lq', '122_Foettinger Michael_lq', '123_Spoetzl Thomas_lq', '124_Schubert Felian_lq', '125_Struebel Josua_lq', '126_Faessler Josef_lq', '127_Bergelt Franz_lq', '128_Heinrich Tom_lq', '129_Wetterling Felix_lq', '12_Goedecke Luis_lq', '131_Hartig Fabian_lq', '133_Knopf Florian_lq', '135_Schroeter Jonas_lq', '136_Moch Friedrich_lq', '137_Bauroth Moritz_lq', '138_Werner Jonah_lq', '139_Bauer Marius_lq', '140_Sossau Anian_lq', '141_Cervinka Maxim_lq', '142_Gnuechtel Justin_lq', '143_Graef Paul_lq', '144_Frohmader Paul_lq', '145_Haag Valentin_lq', '146_Heldt Markus_lq', '148_Winker Florian_lq', '149_Walther Jakob_lq', '151_Endter Paul_lq', '152_Stemplinger Daniel_lq', '153_Sonntag Benjamin_lq', '154_Kistenmacher Sebastian_lq', '155_Hensler Peter_lq', '156_Stasswender Philipp_lq', '158_Fraesdorf Jean-Michel_lq', '159_Kermer Max_lq', '160_Laebe Harry_lq', '161_Ruhmann Till_lq', '162_Frank Leon_lq', '163_Weber Samuel_lq', '164_Uhrmann Elias_lq', '165_Fehleisen Nico_lq', '166_Doerks Jan-Friedrich_lq', '167_Horelt Tobias_lq', '168_Rueger Philip_lq', '169_Laebe Eugen Alexander_lq', '170_Seifert Tim_lq', '171_Hennig Hans_lq', '173_Seidel Leon_lq', '174_Anselment Malte_lq', '175_Brandner Alexander_lq', '176_Fischer Jacob_lq', '177_Stoelben Jan_lq', '179_Aschauer Michael_lq', '180_Manske Lukas_lq', '185_Lang Carlos_lq', '186_Kretzschmar Ruben_lq', '187_Goether Max_lq', '188_Schwinger Luis_lq', '189_Grimmecke Jannis_lq', '18_Kaindl Marinus_lq', '190_Strauch Florian_lq', '191_Kolb Nils_lq', '192_Reichelt Arvid_lq', '193_Kober Kilian_lq', '194_Koller Kilian_lq', '195_Mendl Jonas_lq', '196_Sambale Simon_lq', '197_Schmitz Scott_lq', '198_Grassmann Markus_lq', '19_Uschold Linus_lq', '1_Petzold Luca_lq', '200_Pfaff Jannik_lq', '201_Stuffer Lukas_lq', '202_Hauck Nick_lq', '203_Seibel Jonas_lq', '205_Bernshausen Max_lq', '206_Hinds Peter_lq', '20_Wohlleben Hannes_lq', '210_Kastner Marius_lq', '211_Strecker Pirmin_lq', '21_Schwenk Jonas_lq', '22_Zeitler Rasmus_lq', '23_Schiller Felix_lq', '24_Horelt Florian_lq', '25_Faessler Anton_lq', '28_Seybold Kilian_lq', '2_Jung Simon_lq', '31_Rippin Alina Celine_lq', '32_Reisnecker Miriam_lq', '33_Otto Alexandra_lq', '34_Koch Annika_lq', '35_Waller Magdalena_lq', '36_Schratt Pia_lq', '37_Huth Lou_lq', '39_Enzinger Chrissi_lq', '3_Fischer Robin_lq', '40_Schlegelmilch Fabienne_lq', '41_De Buhr Charlotte_lq', '43_Richter Jasmin_lq', '44_Stark Laura_lq', '45_Leib Charlotte_lq', '46_Krause Luisa_lq', '47_Maier Milena_lq', '48_Rasch Franzsika Sophie_lq', '49_Wurmehl Saskia_lq', '4_Tent Maxi_lq', '50_Bonnes Lea_lq', '51_Glathe Josephine-Joy_lq', '52_Diesl Sophia_lq', '53_Stelter Lia_lq', '54_Weiss Emily_lq', '55_Music Amelie_lq', '5_Keck Elias_lq', '60_Schuhbeck Paula_lq', '62_Krehl Sofie_lq', '63_Danner Alexandra_lq', '64_Dietze Anna_lq', '65_Loeschke Jessica_lq', '66_Mayer Celine_lq', '68_Keck Lena_lq', '69_Hofmann Amelie_lq', '6_Lewe Matteo_lq', '70_Metzler Julia_lq', '71_Schoettes Melina_lq', '72_Koenig Maren_lq', '73_Franke Angelina_lq', '75_Ketterer Lara_lq', '76_Gebstedt Nele_lq', '77_Glatz Vevi_lq', '79_Riess Celine_lq', '7_Hoibl Lukas_lq', '80_Rydzek Coletta_lq', '81_Schumacher Linda_lq', '82_Richter Merle_lq', '83_Scheler Chris_lq', '85_Scheck Lena_lq', '86_Franz Viviane_lq', '87_Brzoska Viktoria_lq', '88_Lechner Sophie_lq', '89_Haag Anna_lq', '8_Sikorski Cedric_lq', '90_Schultes Lena_lq', '92_Scheiba Indira_lq', '94_Dellit Lara_lq', '95_Hoffmann Helen_lq', '96_Gold Lina_lq', '97_Nuernberger Saskia_lq', '98_Delgado Zoe_lq', '99_Senf Jasmin_lq', '9_Hensler Leopold_lq', 'ADAM Anastasia', 'ALBER Jari', 'ALBRECHT Jonas', 'ALLWANG Philipp', 'BACH Marlene', 'Bachmann_Anna-Carlotta', 'BAECHTLE Simon', 'BAIER Konstantin', 'BARTSCH Simon', 'Bauer_Charlotte', 'BAYER Johannes', 'BEHR Felix', 'BENBERG Ioanna-Mara', 'BENEDETTI Christina', 'BERKTOLD Jonas', 'BERNSHAUSEN Janne', 'Biberger_Olivia', 'BOEHME Richard', 'BOEHME2 Charlotte', 'BOLLWEIN Mira', 'BOTHNER Deniz', 'BRAUN Luis', 'BRAUNEISER Sophia', 'BRUGGER Mali', 'BUCHMANN2 Anne', 'BUSCHEK Tobias', 'Dahlke_Alina', 'Delgado Perdones_Lou', 'DIRMAIER Lena', 'DOERINGER Christina', 'DOHNAL Rudolf', 'DSAAK Nico', 'DUFTER Aleksander', 'DUNKEL Amy Fabienne', 'EGGER Nikolaus', 'EITER Korbinian', 'Elfers_Marielle', 'ETZEL Levin', 'FAESSLER Teresa', 'FAGERER Korbinian', 'FISCHER Kim', 'Fischer_Hannah', 'FRANZ2 Selina', 'FROMMELT Kilian', 'FUCHS Benjamin', 'FUCHS Lucas', 'Gatter_Maria', 'GEBHARDT Lisa', 'GEISTANGER Lina', 'Geistanger_Anna', 'GERSTL Lukas', 'GERT Louis', 'GILL Leon', 'Gintenreiter_Lena', 'GRAEF Luise', 'GRAUPNER2 Samira', 'GUTERMUTH Kilian', 'HAEHNLEIN Nils', 'HALLWEGER Lukas', 'Happ_Lea', 'HARTLIEB Tilman', 'HARTWIG Nelly', 'HAUENSTEIN Elias', 'HAUTMANN Severin', 'HEDRICH Martha', 'HEILAND Raphael', 'HEINZE Lucia', 'HENSLER Axel', 'HERB Jonas', 'HERRMANN Helena', 'HERRNKIND Emily', 'HERZOG Emil', 'HESS Tilmann', 'HOEFLINGER Moritz', 'HOEROLD Emilia', 'HOLL2 Teresa', 'Holland_Melina', 'Hollenstein_Lea', 'HOLZ David', 'HOLZER Marcus', 'HOMRIGHAUSEN Finn', 'HORELT Timo', 'HORLACHER Jakob', 'HUBER Fabian', 'Huebner_Emma', 'Joenke_Karoline', 'Joerg_Paulina', 'KASTNER Kilian', 'KERN Niklas', 'KESPER Ilva', 'KING Jonas', 'KLAUSMANN Nils', 'Klein_Julia', 'KLIMPEL Janna', 'KLOKOTSCHNIK Leopold', 'Knochel_Emma', 'KOEHLER Markus', 'KOLB Sven', 'KORDEN Marianna', 'KUEHNISCH Vera', 'Kurzock_Alicia', 'KUSS Jakob', 'LIEBAUG Michelle', 'LOESCHKE Cora', 'LUEDEKE Judith', 'LUIDL Pauline', 'LUZ Leni', 'Maier_Leonie', 'MANSKE Johannes', 'Mayer_Sonja', 'MAYR Julius', 'Meixner_Magdalena', 'MELCHERS Marvin', 'MEROTH Lara', 'METTANG Lena', 'METTANG Marius', 'MOELLER Eric', 'MOOSMAYER Phillipp', 'MORGOTT Paul', 'MUELLER Urs', 'Mueller_Magdalena', 'Neudel_Linn', 'Niebling_Lina', 'NOLL Anouk', 'NOLLER Paul', 'OHNGEMACH Klara', 'OPEL Niklas', 'PAITZ Tim', 'Paluka_Amanda', 'Paul_Ella', 'PAYR Julia', 'PETZOLD2 Laura', 'Quasniczka_Kati', 'REIN Janne', 'REJZEK Matej', 'Rekowski_Elin', 'ROEVER Lennart', 'ROLLINGER Toni', 'Rudolph_Hannah', 'SAUERMANN Louisa', 'SCHAPER Anton', 'Schiller_Hannah', 'Schlichtkrull_Sophia', 'SCHMID Niklas', 'SCHMIDT Jonas', 'SCHMIDT Rosalie', 'SCHNADERBECK Thomas', 'SCHNEIDER Rico', 'SCHNEIDERLING Nils', 'Schneider_Hedi', 'Schraml_Katharina', 'SCHUMANN2 LISA', 'SCHWABE Jannik', 'Schwegler_Marie', 'SEYWALD Luis', 'STORK Patrick', 'STRECKER Teresa', 'STROBEL Moritz', 'TENT Tobi', 'THANNHEIMER Fanny', 'THOMAS2 Marielle', 'UETZ Dean', 'ULLMANN Timo', 'VEIT Katja', 'WAGNER Daniel', 'WAGNER Tom Emilio', 'WAIBEL Nico', 'WAIDELICH Ben', 'WEGSCHEIDER Theresa', 'WEHRLE Luca', 'WEIDENHAMMER Judith', 'WEIDLICH2 Janik', 'Weikard_Luca Anna', 'Weiss_Liane', 'Wennemuth_Berit', 'WIEDEMANN Florian', 'WIESE Moritz', 'WIESE Tom', 'WILD Andreas', 'WOERNLE Kathrin', 'Wohlleben_Julia', 'WOLFENSTELLER2 Luca', 'WORTH George', 'ZAEHRINGER Marius', 'ZEISSLER Tine', 'ZIMMERMANN Lea', 'ZIMMERMANN Til', 'ZIPFEL Reto', 'ZIPFEL Tom', 'ZUBER Franziska']\n"
     ]
    }
   ],
   "source": [
    "from functions import get_matching_files, get_filepaths, rm_file_extension\n",
    "\n",
    "frames_dir = \"Frames\"\n",
    "videos_dir = \"Videos\"\n",
    "\n",
    "get_filepaths()\n",
    "\n",
    "path_without = rm_file_extension(source_vid)\n",
    "\n",
    "print(path_without)\n",
    "matches, frames_subdirectories = get_matching_files(frames_dir, videos_dir)\n",
    "# \n",
    "print(frames_subdirectories)\n",
    "# \n",
    "# # for subdir in frames_subdirectories:\n",
    "#     \n",
    "#     joint_directory = os.path.join(frames_dir, frames_subdirectories)\n",
    "# \n",
    "# print(joint_directory)\n",
    "# \n",
    "# json_file = get_filepaths(joint_directory, extension='json')\n"
   ],
   "metadata": {
    "collapsed": false,
    "ExecuteTime": {
     "end_time": "2024-04-26T18:26:21.375631Z",
     "start_time": "2024-04-26T18:26:17.133156Z"
    }
   },
   "id": "633769a16da972e",
   "execution_count": 44
  },
  {
   "cell_type": "code",
   "outputs": [
    {
     "name": "stdout",
     "output_type": "stream",
     "text": [
      "BUCHMANN2 Anne\n",
      "Frames\\BUCHMANN2 Anne\\labels.json\n"
     ]
    }
   ],
   "source": [
    "import os\n",
    "\n",
    "frames_dir = 'Frames'\n",
    "\n",
    "def simplify_filename(filepath):\n",
    "    # Extract the filename without any directory path\n",
    "    filename = os.path.basename(filepath)\n",
    "    # Remove the file extension\n",
    "    filename_without_extension, _ = os.path.splitext(filename)\n",
    "    return filename_without_extension\n",
    "\n",
    "# Example usage:\n",
    "file_path = 'Videos/BUCHMANN2 Anne.mp4'\n",
    "simplified_name = simplify_filename(file_path)\n",
    "print(simplified_name)\n",
    "\n",
    "json_file = os.path.join(frames_dir, simplified_name, 'labels.json')\n",
    "\n",
    "print(json_file)"
   ],
   "metadata": {
    "collapsed": false,
    "ExecuteTime": {
     "end_time": "2024-04-26T21:21:00.663768Z",
     "start_time": "2024-04-26T21:21:00.659752Z"
    }
   },
   "id": "a74f5f439659a4f1",
   "execution_count": 4
  },
  {
   "cell_type": "code",
   "outputs": [],
   "source": [],
   "metadata": {
    "collapsed": false
   },
   "id": "ca5e741ada2e30d8"
  }
 ],
 "metadata": {
  "kernelspec": {
   "display_name": "Python 3",
   "language": "python",
   "name": "python3"
  },
  "language_info": {
   "codemirror_mode": {
    "name": "ipython",
    "version": 2
   },
   "file_extension": ".py",
   "mimetype": "text/x-python",
   "name": "python",
   "nbconvert_exporter": "python",
   "pygments_lexer": "ipython2",
   "version": "2.7.6"
  }
 },
 "nbformat": 4,
 "nbformat_minor": 5
}

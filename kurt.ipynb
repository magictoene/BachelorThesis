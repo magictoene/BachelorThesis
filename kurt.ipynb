{
 "cells": [
  {
   "cell_type": "code",
   "outputs": [],
   "source": [
    "from ultralytics import YOLO\n",
    "import pandas as pd\n",
    "import numpy as np\n",
    "import os\n",
    "\n",
    "# Pfad zum Ordner mit den Bildern\n",
    "path_to_images_folder = '<Saalbach Bilder>'\n",
    "# Pfad zum Speichern der Ergebnisse\n",
    "path_to_results = '<CSV-Dateiname'\n",
    "# Pfad zur Yolo-Datei\n",
    "model_file = '<YOLO Modell>'\n",
    "\n",
    "# Initialisierung des Modells mit dem Pfad zur trainierten Modell-Datei\n",
    "model = YOLO(model_file)\n",
    "\n",
    "# Verarbeitung aller JPEG-Bilder im angegebenen Verzeichnis und Speicherung der Ergebnisse\n",
    "results = model.track(path_to_images_folder, show=True, conf=0.60) \n",
    "\n",
    "# Funktion, um zu verhindern, dass der Index in die CSV geschrieben wird\n",
    "def new_func():\n",
    "    return False\n",
    "\n",
    "# Verarbeitung jedes Ergebnisses, um Keypoints und Tracking-Daten zu verarbeiten\n",
    "for frame_number, r in enumerate(results):\n",
    "        \n",
    "    for detection in r:\n",
    "                \n",
    "        # Annahme, dass person_id korrekt extrahiert wird\n",
    "        person_id = int(detection.boxes.id.numpy()[0])  # Annahme, dass person_id ein Skalar ist\n",
    "        # Annahme, dass Keypoints auf der GPU sind und auf die CPU übertragen und umgeformt werden müssen\n",
    "        kp = detection.keypoints.xy.cpu().numpy()\n",
    "        reshaped_kp = kp.reshape((17, 2))\n",
    "        \n",
    "        print(reshaped_kp)\n",
    "        print(f\"Frame: {frame_number}, Person ID: {person_id}\")\n",
    "        \n",
    "        # Erstellung eines DataFrame mit Keypoints, Frame-Nummer und Person-ID\n",
    "        df = pd.DataFrame(reshaped_kp, columns=['x', 'y'])\n",
    "        df['frame_number'] = np.full((17,), frame_number)  # Wiederholung der Frame-Nummer für jeden Keypoint\n",
    "        df['person_id'] = np.full((17,), person_id)  # Wiederholung der Person-ID für jeden Keypoint\n",
    "        \n",
    "        # Anhängen des DataFrame an eine CSV-Datei\n",
    "        csv_path = path_to_results\n",
    "        df.to_csv(csv_path, index=new_func(), mode='a', header=not os.path.exists(csv_path))\n",
    "        \n",
    "        # Optional: Druck des CSV-Strings zur Überprüfung der Ausgabe\n",
    "        csv_data = df.to_csv()\n",
    "        print('\\nCSV String:\\n', csv_data)\n"
   ],
   "metadata": {
    "collapsed": false
   },
   "id": "8a23967157cfa2e"
  }
 ],
 "metadata": {
  "kernelspec": {
   "display_name": "Python 3",
   "language": "python",
   "name": "python3"
  },
  "language_info": {
   "codemirror_mode": {
    "name": "ipython",
    "version": 2
   },
   "file_extension": ".py",
   "mimetype": "text/x-python",
   "name": "python",
   "nbconvert_exporter": "python",
   "pygments_lexer": "ipython2",
   "version": "2.7.6"
  }
 },
 "nbformat": 4,
 "nbformat_minor": 5
}
